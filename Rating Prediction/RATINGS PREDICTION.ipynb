{
 "cells": [
  {
   "cell_type": "markdown",
   "id": "90285361",
   "metadata": {},
   "source": [
    "##### First I'll be uploading all the required basic libraries for data manipulation,numeric and static libraries like pandas,numpy,scipy and data visulaization tool like seaborn and matplotlib"
   ]
  },
  {
   "cell_type": "code",
   "execution_count": 1,
   "id": "44cdd233",
   "metadata": {},
   "outputs": [],
   "source": [
    "import numpy as np\n",
    "import pandas as pd\n",
    "import scipy.stats\n",
    "from scipy.stats import zscore,boxcox\n",
    "import matplotlib.pyplot as plt\n",
    "import seaborn as sns\n",
    "import warnings\n",
    "warnings.filterwarnings('ignore')"
   ]
  },
  {
   "cell_type": "code",
   "execution_count": 2,
   "id": "545cdcee",
   "metadata": {},
   "outputs": [
    {
     "data": {
      "text/html": [
       "<div>\n",
       "<style scoped>\n",
       "    .dataframe tbody tr th:only-of-type {\n",
       "        vertical-align: middle;\n",
       "    }\n",
       "\n",
       "    .dataframe tbody tr th {\n",
       "        vertical-align: top;\n",
       "    }\n",
       "\n",
       "    .dataframe thead th {\n",
       "        text-align: right;\n",
       "    }\n",
       "</style>\n",
       "<table border=\"1\" class=\"dataframe\">\n",
       "  <thead>\n",
       "    <tr style=\"text-align: right;\">\n",
       "      <th></th>\n",
       "      <th>Title</th>\n",
       "      <th>Review_Text</th>\n",
       "      <th>Ratings</th>\n",
       "    </tr>\n",
       "  </thead>\n",
       "  <tbody>\n",
       "    <tr>\n",
       "      <th>0</th>\n",
       "      <td>Very bad experience</td>\n",
       "      <td>Anyone looking to buy this product please don'...</td>\n",
       "      <td>2</td>\n",
       "    </tr>\n",
       "    <tr>\n",
       "      <th>1</th>\n",
       "      <td>मेरा product रिटर्न ले गया लेकिन रसीद नहीं दिया</td>\n",
       "      <td>मेरा पार्सल डिलिवरी बॉय २४/११/२२.को ले गया लेक...</td>\n",
       "      <td>2</td>\n",
       "    </tr>\n",
       "    <tr>\n",
       "      <th>2</th>\n",
       "      <td>Not up to the mark, disappointing</td>\n",
       "      <td>Everything is good but this product not up to ...</td>\n",
       "      <td>2</td>\n",
       "    </tr>\n",
       "    <tr>\n",
       "      <th>3</th>\n",
       "      <td>Product quality, Sound quality, comfortness</td>\n",
       "      <td>Product quality - product quality is good in t...</td>\n",
       "      <td>2</td>\n",
       "    </tr>\n",
       "    <tr>\n",
       "      <th>4</th>\n",
       "      <td>Never buy wireless from boat</td>\n",
       "      <td>I had brought this product about 10 days back....</td>\n",
       "      <td>2</td>\n",
       "    </tr>\n",
       "    <tr>\n",
       "      <th>...</th>\n",
       "      <td>...</td>\n",
       "      <td>...</td>\n",
       "      <td>...</td>\n",
       "    </tr>\n",
       "    <tr>\n",
       "      <th>26835</th>\n",
       "      <td>Cool gadget</td>\n",
       "      <td>&amp;nbsp;Cool gadget</td>\n",
       "      <td>5</td>\n",
       "    </tr>\n",
       "    <tr>\n",
       "      <th>26836</th>\n",
       "      <td>Good</td>\n",
       "      <td>Good product by Amazon,  very intelligent and ...</td>\n",
       "      <td>5</td>\n",
       "    </tr>\n",
       "    <tr>\n",
       "      <th>26837</th>\n",
       "      <td>Super</td>\n",
       "      <td>Super</td>\n",
       "      <td>5</td>\n",
       "    </tr>\n",
       "    <tr>\n",
       "      <th>26838</th>\n",
       "      <td>Very well built and compact in size but delive...</td>\n",
       "      <td>I like it's magnificent sound quality and Alex...</td>\n",
       "      <td>5</td>\n",
       "    </tr>\n",
       "    <tr>\n",
       "      <th>26839</th>\n",
       "      <td>It's useful to smart home perfectly</td>\n",
       "      <td>It's very good. Nicely working without any pro...</td>\n",
       "      <td>5</td>\n",
       "    </tr>\n",
       "  </tbody>\n",
       "</table>\n",
       "<p>26840 rows × 3 columns</p>\n",
       "</div>"
      ],
      "text/plain": [
       "                                                   Title  \\\n",
       "0                                    Very bad experience   \n",
       "1        मेरा product रिटर्न ले गया लेकिन रसीद नहीं दिया   \n",
       "2                      Not up to the mark, disappointing   \n",
       "3            Product quality, Sound quality, comfortness   \n",
       "4                           Never buy wireless from boat   \n",
       "...                                                  ...   \n",
       "26835                                        Cool gadget   \n",
       "26836                                               Good   \n",
       "26837                                              Super   \n",
       "26838  Very well built and compact in size but delive...   \n",
       "26839                It's useful to smart home perfectly   \n",
       "\n",
       "                                             Review_Text  Ratings  \n",
       "0      Anyone looking to buy this product please don'...        2  \n",
       "1      मेरा पार्सल डिलिवरी बॉय २४/११/२२.को ले गया लेक...        2  \n",
       "2      Everything is good but this product not up to ...        2  \n",
       "3      Product quality - product quality is good in t...        2  \n",
       "4      I had brought this product about 10 days back....        2  \n",
       "...                                                  ...      ...  \n",
       "26835                                  &nbsp;Cool gadget        5  \n",
       "26836  Good product by Amazon,  very intelligent and ...        5  \n",
       "26837                                              Super        5  \n",
       "26838  I like it's magnificent sound quality and Alex...        5  \n",
       "26839  It's very good. Nicely working without any pro...        5  \n",
       "\n",
       "[26840 rows x 3 columns]"
      ]
     },
     "execution_count": 2,
     "metadata": {},
     "output_type": "execute_result"
    }
   ],
   "source": [
    "df=pd.read_excel('C:\\\\Users\\\\Admin\\\\Desktop\\\\Ratings Prediction Project\\\\AMAZON.xlsx')\n",
    "df"
   ]
  },
  {
   "cell_type": "markdown",
   "id": "46265344",
   "metadata": {},
   "source": [
    "##### Now,I've uploaded the CSV file of Ratings Prediction Case and made a dataframe for the same.\n",
    "##### In this dataset I've to Predict the Ratings for given Reviews. Since 'Ratings' is in the form of Category format so will use Classification model to predict the same."
   ]
  },
  {
   "cell_type": "markdown",
   "id": "28926e3b",
   "metadata": {},
   "source": [
    "### Exploratory Data Analysis(EDA)"
   ]
  },
  {
   "cell_type": "code",
   "execution_count": 3,
   "id": "0f550445",
   "metadata": {},
   "outputs": [
    {
     "name": "stdout",
     "output_type": "stream",
     "text": [
      "Row\"s are 26840\n",
      "Columns are 3\n",
      "Shape is (26840, 3)\n"
     ]
    }
   ],
   "source": [
    "print('Row\"s are',df.shape[0])\n",
    "print('Columns are',df.shape[1])\n",
    "print('Shape is',df.shape)"
   ]
  },
  {
   "cell_type": "code",
   "execution_count": 4,
   "id": "cb24ecf6",
   "metadata": {},
   "outputs": [
    {
     "data": {
      "text/plain": [
       "2"
      ]
     },
     "execution_count": 4,
     "metadata": {},
     "output_type": "execute_result"
    }
   ],
   "source": [
    "#two dimensional dataframe\n",
    "df.ndim"
   ]
  },
  {
   "cell_type": "code",
   "execution_count": 5,
   "id": "5bf6c5b7",
   "metadata": {},
   "outputs": [
    {
     "data": {
      "text/plain": [
       "80520"
      ]
     },
     "execution_count": 5,
     "metadata": {},
     "output_type": "execute_result"
    }
   ],
   "source": [
    "#Total datapoints in this dataframe\n",
    "df.size"
   ]
  },
  {
   "cell_type": "code",
   "execution_count": 6,
   "id": "945725ca",
   "metadata": {},
   "outputs": [
    {
     "data": {
      "text/plain": [
       "RangeIndex(start=0, stop=26840, step=1)"
      ]
     },
     "execution_count": 6,
     "metadata": {},
     "output_type": "execute_result"
    }
   ],
   "source": [
    "#indexes are-\n",
    "df.index"
   ]
  },
  {
   "cell_type": "code",
   "execution_count": 7,
   "id": "6fffe258",
   "metadata": {},
   "outputs": [
    {
     "data": {
      "text/plain": [
       "Index(['Title', 'Review_Text', 'Ratings'], dtype='object')"
      ]
     },
     "execution_count": 7,
     "metadata": {},
     "output_type": "execute_result"
    }
   ],
   "source": [
    "#columns of the dataframes are-\n",
    "df.columns"
   ]
  },
  {
   "cell_type": "code",
   "execution_count": 8,
   "id": "ccf0452f",
   "metadata": {},
   "outputs": [
    {
     "data": {
      "text/html": [
       "<div>\n",
       "<style scoped>\n",
       "    .dataframe tbody tr th:only-of-type {\n",
       "        vertical-align: middle;\n",
       "    }\n",
       "\n",
       "    .dataframe tbody tr th {\n",
       "        vertical-align: top;\n",
       "    }\n",
       "\n",
       "    .dataframe thead th {\n",
       "        text-align: right;\n",
       "    }\n",
       "</style>\n",
       "<table border=\"1\" class=\"dataframe\">\n",
       "  <thead>\n",
       "    <tr style=\"text-align: right;\">\n",
       "      <th></th>\n",
       "      <th>Title</th>\n",
       "      <th>Review_Text</th>\n",
       "      <th>Ratings</th>\n",
       "    </tr>\n",
       "  </thead>\n",
       "  <tbody>\n",
       "    <tr>\n",
       "      <th>0</th>\n",
       "      <td>Very bad experience</td>\n",
       "      <td>Anyone looking to buy this product please don'...</td>\n",
       "      <td>2</td>\n",
       "    </tr>\n",
       "    <tr>\n",
       "      <th>1</th>\n",
       "      <td>मेरा product रिटर्न ले गया लेकिन रसीद नहीं दिया</td>\n",
       "      <td>मेरा पार्सल डिलिवरी बॉय २४/११/२२.को ले गया लेक...</td>\n",
       "      <td>2</td>\n",
       "    </tr>\n",
       "    <tr>\n",
       "      <th>2</th>\n",
       "      <td>Not up to the mark, disappointing</td>\n",
       "      <td>Everything is good but this product not up to ...</td>\n",
       "      <td>2</td>\n",
       "    </tr>\n",
       "    <tr>\n",
       "      <th>3</th>\n",
       "      <td>Product quality, Sound quality, comfortness</td>\n",
       "      <td>Product quality - product quality is good in t...</td>\n",
       "      <td>2</td>\n",
       "    </tr>\n",
       "    <tr>\n",
       "      <th>4</th>\n",
       "      <td>Never buy wireless from boat</td>\n",
       "      <td>I had brought this product about 10 days back....</td>\n",
       "      <td>2</td>\n",
       "    </tr>\n",
       "  </tbody>\n",
       "</table>\n",
       "</div>"
      ],
      "text/plain": [
       "                                             Title  \\\n",
       "0                              Very bad experience   \n",
       "1  मेरा product रिटर्न ले गया लेकिन रसीद नहीं दिया   \n",
       "2                Not up to the mark, disappointing   \n",
       "3      Product quality, Sound quality, comfortness   \n",
       "4                     Never buy wireless from boat   \n",
       "\n",
       "                                         Review_Text  Ratings  \n",
       "0  Anyone looking to buy this product please don'...        2  \n",
       "1  मेरा पार्सल डिलिवरी बॉय २४/११/२२.को ले गया लेक...        2  \n",
       "2  Everything is good but this product not up to ...        2  \n",
       "3  Product quality - product quality is good in t...        2  \n",
       "4  I had brought this product about 10 days back....        2  "
      ]
     },
     "execution_count": 8,
     "metadata": {},
     "output_type": "execute_result"
    }
   ],
   "source": [
    "#It shows top 5 Rows\n",
    "df.head()"
   ]
  },
  {
   "cell_type": "code",
   "execution_count": 9,
   "id": "910433a5",
   "metadata": {},
   "outputs": [
    {
     "data": {
      "text/html": [
       "<div>\n",
       "<style scoped>\n",
       "    .dataframe tbody tr th:only-of-type {\n",
       "        vertical-align: middle;\n",
       "    }\n",
       "\n",
       "    .dataframe tbody tr th {\n",
       "        vertical-align: top;\n",
       "    }\n",
       "\n",
       "    .dataframe thead th {\n",
       "        text-align: right;\n",
       "    }\n",
       "</style>\n",
       "<table border=\"1\" class=\"dataframe\">\n",
       "  <thead>\n",
       "    <tr style=\"text-align: right;\">\n",
       "      <th></th>\n",
       "      <th>Title</th>\n",
       "      <th>Review_Text</th>\n",
       "      <th>Ratings</th>\n",
       "    </tr>\n",
       "  </thead>\n",
       "  <tbody>\n",
       "    <tr>\n",
       "      <th>26835</th>\n",
       "      <td>Cool gadget</td>\n",
       "      <td>&amp;nbsp;Cool gadget</td>\n",
       "      <td>5</td>\n",
       "    </tr>\n",
       "    <tr>\n",
       "      <th>26836</th>\n",
       "      <td>Good</td>\n",
       "      <td>Good product by Amazon,  very intelligent and ...</td>\n",
       "      <td>5</td>\n",
       "    </tr>\n",
       "    <tr>\n",
       "      <th>26837</th>\n",
       "      <td>Super</td>\n",
       "      <td>Super</td>\n",
       "      <td>5</td>\n",
       "    </tr>\n",
       "    <tr>\n",
       "      <th>26838</th>\n",
       "      <td>Very well built and compact in size but delive...</td>\n",
       "      <td>I like it's magnificent sound quality and Alex...</td>\n",
       "      <td>5</td>\n",
       "    </tr>\n",
       "    <tr>\n",
       "      <th>26839</th>\n",
       "      <td>It's useful to smart home perfectly</td>\n",
       "      <td>It's very good. Nicely working without any pro...</td>\n",
       "      <td>5</td>\n",
       "    </tr>\n",
       "  </tbody>\n",
       "</table>\n",
       "</div>"
      ],
      "text/plain": [
       "                                                   Title  \\\n",
       "26835                                        Cool gadget   \n",
       "26836                                               Good   \n",
       "26837                                              Super   \n",
       "26838  Very well built and compact in size but delive...   \n",
       "26839                It's useful to smart home perfectly   \n",
       "\n",
       "                                             Review_Text  Ratings  \n",
       "26835                                  &nbsp;Cool gadget        5  \n",
       "26836  Good product by Amazon,  very intelligent and ...        5  \n",
       "26837                                              Super        5  \n",
       "26838  I like it's magnificent sound quality and Alex...        5  \n",
       "26839  It's very good. Nicely working without any pro...        5  "
      ]
     },
     "execution_count": 9,
     "metadata": {},
     "output_type": "execute_result"
    }
   ],
   "source": [
    "#It shows bottom 5 Rows\n",
    "df.tail()"
   ]
  },
  {
   "cell_type": "code",
   "execution_count": 10,
   "id": "0061ee0b",
   "metadata": {},
   "outputs": [
    {
     "data": {
      "text/html": [
       "<div>\n",
       "<style scoped>\n",
       "    .dataframe tbody tr th:only-of-type {\n",
       "        vertical-align: middle;\n",
       "    }\n",
       "\n",
       "    .dataframe tbody tr th {\n",
       "        vertical-align: top;\n",
       "    }\n",
       "\n",
       "    .dataframe thead th {\n",
       "        text-align: right;\n",
       "    }\n",
       "</style>\n",
       "<table border=\"1\" class=\"dataframe\">\n",
       "  <thead>\n",
       "    <tr style=\"text-align: right;\">\n",
       "      <th></th>\n",
       "      <th>Title</th>\n",
       "      <th>Review_Text</th>\n",
       "      <th>Ratings</th>\n",
       "    </tr>\n",
       "  </thead>\n",
       "  <tbody>\n",
       "    <tr>\n",
       "      <th>9405</th>\n",
       "      <td>It European Unit but Works fine with 4G networ...</td>\n",
       "      <td>4G network configuration will take 10-15 mins ...</td>\n",
       "      <td>3</td>\n",
       "    </tr>\n",
       "  </tbody>\n",
       "</table>\n",
       "</div>"
      ],
      "text/plain": [
       "                                                  Title  \\\n",
       "9405  It European Unit but Works fine with 4G networ...   \n",
       "\n",
       "                                            Review_Text  Ratings  \n",
       "9405  4G network configuration will take 10-15 mins ...        3  "
      ]
     },
     "execution_count": 10,
     "metadata": {},
     "output_type": "execute_result"
    }
   ],
   "source": [
    "#It shows any one random Rows\n",
    "df.sample()"
   ]
  },
  {
   "cell_type": "code",
   "execution_count": 11,
   "id": "56eb1f9a",
   "metadata": {},
   "outputs": [
    {
     "data": {
      "text/html": [
       "<div>\n",
       "<style scoped>\n",
       "    .dataframe tbody tr th:only-of-type {\n",
       "        vertical-align: middle;\n",
       "    }\n",
       "\n",
       "    .dataframe tbody tr th {\n",
       "        vertical-align: top;\n",
       "    }\n",
       "\n",
       "    .dataframe thead th {\n",
       "        text-align: right;\n",
       "    }\n",
       "</style>\n",
       "<table border=\"1\" class=\"dataframe\">\n",
       "  <thead>\n",
       "    <tr style=\"text-align: right;\">\n",
       "      <th></th>\n",
       "      <th>Ratings</th>\n",
       "    </tr>\n",
       "  </thead>\n",
       "  <tbody>\n",
       "    <tr>\n",
       "      <th>0</th>\n",
       "      <td>2</td>\n",
       "    </tr>\n",
       "    <tr>\n",
       "      <th>1</th>\n",
       "      <td>2</td>\n",
       "    </tr>\n",
       "    <tr>\n",
       "      <th>2</th>\n",
       "      <td>2</td>\n",
       "    </tr>\n",
       "    <tr>\n",
       "      <th>3</th>\n",
       "      <td>2</td>\n",
       "    </tr>\n",
       "    <tr>\n",
       "      <th>4</th>\n",
       "      <td>2</td>\n",
       "    </tr>\n",
       "    <tr>\n",
       "      <th>...</th>\n",
       "      <td>...</td>\n",
       "    </tr>\n",
       "    <tr>\n",
       "      <th>26835</th>\n",
       "      <td>5</td>\n",
       "    </tr>\n",
       "    <tr>\n",
       "      <th>26836</th>\n",
       "      <td>5</td>\n",
       "    </tr>\n",
       "    <tr>\n",
       "      <th>26837</th>\n",
       "      <td>5</td>\n",
       "    </tr>\n",
       "    <tr>\n",
       "      <th>26838</th>\n",
       "      <td>5</td>\n",
       "    </tr>\n",
       "    <tr>\n",
       "      <th>26839</th>\n",
       "      <td>5</td>\n",
       "    </tr>\n",
       "  </tbody>\n",
       "</table>\n",
       "<p>26840 rows × 1 columns</p>\n",
       "</div>"
      ],
      "text/plain": [
       "       Ratings\n",
       "0            2\n",
       "1            2\n",
       "2            2\n",
       "3            2\n",
       "4            2\n",
       "...        ...\n",
       "26835        5\n",
       "26836        5\n",
       "26837        5\n",
       "26838        5\n",
       "26839        5\n",
       "\n",
       "[26840 rows x 1 columns]"
      ]
     },
     "execution_count": 11,
     "metadata": {},
     "output_type": "execute_result"
    }
   ],
   "source": [
    "#numeric Dataframe\n",
    "df_numeric=df.select_dtypes(exclude='object')\n",
    "df_numeric"
   ]
  },
  {
   "cell_type": "code",
   "execution_count": 12,
   "id": "a27d2c86",
   "metadata": {},
   "outputs": [
    {
     "data": {
      "text/html": [
       "<div>\n",
       "<style scoped>\n",
       "    .dataframe tbody tr th:only-of-type {\n",
       "        vertical-align: middle;\n",
       "    }\n",
       "\n",
       "    .dataframe tbody tr th {\n",
       "        vertical-align: top;\n",
       "    }\n",
       "\n",
       "    .dataframe thead th {\n",
       "        text-align: right;\n",
       "    }\n",
       "</style>\n",
       "<table border=\"1\" class=\"dataframe\">\n",
       "  <thead>\n",
       "    <tr style=\"text-align: right;\">\n",
       "      <th></th>\n",
       "      <th>Title</th>\n",
       "      <th>Review_Text</th>\n",
       "    </tr>\n",
       "  </thead>\n",
       "  <tbody>\n",
       "    <tr>\n",
       "      <th>0</th>\n",
       "      <td>Very bad experience</td>\n",
       "      <td>Anyone looking to buy this product please don'...</td>\n",
       "    </tr>\n",
       "    <tr>\n",
       "      <th>1</th>\n",
       "      <td>मेरा product रिटर्न ले गया लेकिन रसीद नहीं दिया</td>\n",
       "      <td>मेरा पार्सल डिलिवरी बॉय २४/११/२२.को ले गया लेक...</td>\n",
       "    </tr>\n",
       "    <tr>\n",
       "      <th>2</th>\n",
       "      <td>Not up to the mark, disappointing</td>\n",
       "      <td>Everything is good but this product not up to ...</td>\n",
       "    </tr>\n",
       "    <tr>\n",
       "      <th>3</th>\n",
       "      <td>Product quality, Sound quality, comfortness</td>\n",
       "      <td>Product quality - product quality is good in t...</td>\n",
       "    </tr>\n",
       "    <tr>\n",
       "      <th>4</th>\n",
       "      <td>Never buy wireless from boat</td>\n",
       "      <td>I had brought this product about 10 days back....</td>\n",
       "    </tr>\n",
       "    <tr>\n",
       "      <th>...</th>\n",
       "      <td>...</td>\n",
       "      <td>...</td>\n",
       "    </tr>\n",
       "    <tr>\n",
       "      <th>26835</th>\n",
       "      <td>Cool gadget</td>\n",
       "      <td>&amp;nbsp;Cool gadget</td>\n",
       "    </tr>\n",
       "    <tr>\n",
       "      <th>26836</th>\n",
       "      <td>Good</td>\n",
       "      <td>Good product by Amazon,  very intelligent and ...</td>\n",
       "    </tr>\n",
       "    <tr>\n",
       "      <th>26837</th>\n",
       "      <td>Super</td>\n",
       "      <td>Super</td>\n",
       "    </tr>\n",
       "    <tr>\n",
       "      <th>26838</th>\n",
       "      <td>Very well built and compact in size but delive...</td>\n",
       "      <td>I like it's magnificent sound quality and Alex...</td>\n",
       "    </tr>\n",
       "    <tr>\n",
       "      <th>26839</th>\n",
       "      <td>It's useful to smart home perfectly</td>\n",
       "      <td>It's very good. Nicely working without any pro...</td>\n",
       "    </tr>\n",
       "  </tbody>\n",
       "</table>\n",
       "<p>26840 rows × 2 columns</p>\n",
       "</div>"
      ],
      "text/plain": [
       "                                                   Title  \\\n",
       "0                                    Very bad experience   \n",
       "1        मेरा product रिटर्न ले गया लेकिन रसीद नहीं दिया   \n",
       "2                      Not up to the mark, disappointing   \n",
       "3            Product quality, Sound quality, comfortness   \n",
       "4                           Never buy wireless from boat   \n",
       "...                                                  ...   \n",
       "26835                                        Cool gadget   \n",
       "26836                                               Good   \n",
       "26837                                              Super   \n",
       "26838  Very well built and compact in size but delive...   \n",
       "26839                It's useful to smart home perfectly   \n",
       "\n",
       "                                             Review_Text  \n",
       "0      Anyone looking to buy this product please don'...  \n",
       "1      मेरा पार्सल डिलिवरी बॉय २४/११/२२.को ले गया लेक...  \n",
       "2      Everything is good but this product not up to ...  \n",
       "3      Product quality - product quality is good in t...  \n",
       "4      I had brought this product about 10 days back....  \n",
       "...                                                  ...  \n",
       "26835                                  &nbsp;Cool gadget  \n",
       "26836  Good product by Amazon,  very intelligent and ...  \n",
       "26837                                              Super  \n",
       "26838  I like it's magnificent sound quality and Alex...  \n",
       "26839  It's very good. Nicely working without any pro...  \n",
       "\n",
       "[26840 rows x 2 columns]"
      ]
     },
     "execution_count": 12,
     "metadata": {},
     "output_type": "execute_result"
    }
   ],
   "source": [
    "#categorical Dataframe\n",
    "df_categorical=df.select_dtypes(include='object')\n",
    "df_categorical"
   ]
  },
  {
   "cell_type": "code",
   "execution_count": 13,
   "id": "524c8b01",
   "metadata": {},
   "outputs": [],
   "source": [
    "#importing the library for finding out numeric and categoric columns\n",
    "from sklearn.compose import make_column_selector as selector"
   ]
  },
  {
   "cell_type": "code",
   "execution_count": 14,
   "id": "22251519",
   "metadata": {},
   "outputs": [
    {
     "name": "stdout",
     "output_type": "stream",
     "text": [
      "['Ratings']\n",
      "\n",
      " Total numeric columns are  1\n"
     ]
    }
   ],
   "source": [
    "numeric_columns=selector(dtype_exclude=object)(df)\n",
    "print(numeric_columns)\n",
    "print('\\n Total numeric columns are ',len(numeric_columns))"
   ]
  },
  {
   "cell_type": "code",
   "execution_count": 15,
   "id": "385f078e",
   "metadata": {},
   "outputs": [
    {
     "name": "stdout",
     "output_type": "stream",
     "text": [
      "['Title', 'Review_Text']\n",
      "\n",
      " Total string categorical columns are  2\n"
     ]
    }
   ],
   "source": [
    "categorical_columns=selector(dtype_include=object)(df)\n",
    "print(categorical_columns)\n",
    "print('\\n Total string categorical columns are ',len(categorical_columns))"
   ]
  },
  {
   "cell_type": "code",
   "execution_count": 16,
   "id": "11e0a36c",
   "metadata": {},
   "outputs": [
    {
     "data": {
      "text/plain": [
       "Title          object\n",
       "Review_Text    object\n",
       "Ratings         int64\n",
       "dtype: object"
      ]
     },
     "execution_count": 16,
     "metadata": {},
     "output_type": "execute_result"
    }
   ],
   "source": [
    "df.dtypes"
   ]
  },
  {
   "cell_type": "code",
   "execution_count": 17,
   "id": "ff00e06e",
   "metadata": {},
   "outputs": [
    {
     "name": "stdout",
     "output_type": "stream",
     "text": [
      "<class 'pandas.core.frame.DataFrame'>\n",
      "RangeIndex: 26840 entries, 0 to 26839\n",
      "Data columns (total 3 columns):\n",
      " #   Column       Non-Null Count  Dtype \n",
      "---  ------       --------------  ----- \n",
      " 0   Title        26836 non-null  object\n",
      " 1   Review_Text  26138 non-null  object\n",
      " 2   Ratings      26840 non-null  int64 \n",
      "dtypes: int64(1), object(2)\n",
      "memory usage: 629.2+ KB\n"
     ]
    }
   ],
   "source": [
    "df.info()"
   ]
  },
  {
   "cell_type": "code",
   "execution_count": 18,
   "id": "fe520d6e",
   "metadata": {},
   "outputs": [
    {
     "data": {
      "text/plain": [
       "True"
      ]
     },
     "execution_count": 18,
     "metadata": {},
     "output_type": "execute_result"
    }
   ],
   "source": [
    "df.isnull().any().any()"
   ]
  },
  {
   "cell_type": "code",
   "execution_count": 19,
   "id": "1eedf424",
   "metadata": {},
   "outputs": [
    {
     "data": {
      "text/plain": [
       "Title            4\n",
       "Review_Text    702\n",
       "Ratings          0\n",
       "dtype: int64"
      ]
     },
     "execution_count": 19,
     "metadata": {},
     "output_type": "execute_result"
    }
   ],
   "source": [
    "df.isnull().sum()"
   ]
  },
  {
   "cell_type": "code",
   "execution_count": 20,
   "id": "ddd41848",
   "metadata": {},
   "outputs": [
    {
     "data": {
      "text/plain": [
       "706"
      ]
     },
     "execution_count": 20,
     "metadata": {},
     "output_type": "execute_result"
    }
   ],
   "source": [
    "df.isnull().sum().sum()"
   ]
  },
  {
   "cell_type": "markdown",
   "id": "eeb415ac",
   "metadata": {},
   "source": [
    "##### Null values are present in two of the columns and the null value counts is 706, hence will replace it with most frequent object later in this notebook"
   ]
  },
  {
   "cell_type": "code",
   "execution_count": 21,
   "id": "d10e7e93",
   "metadata": {},
   "outputs": [
    {
     "data": {
      "image/png": "[encoded data removed]",
      "text/plain": [
       "<Figure size 720x432 with 2 Axes>"
      ]
     },
     "metadata": {
      "needs_background": "light"
     },
     "output_type": "display_data"
    }
   ],
   "source": [
    "#heatmap representation of null value presence\n",
    "plt.figure(figsize=(10,6))\n",
    "sns.heatmap(df.isnull())\n",
    "plt.title('Heatmap Representation of Null Values',fontsize=14)\n",
    "plt.show()"
   ]
  },
  {
   "cell_type": "code",
   "execution_count": 22,
   "id": "a94fea29",
   "metadata": {},
   "outputs": [
    {
     "data": {
      "text/plain": [
       "Title          14104\n",
       "Review_Text    16908\n",
       "Ratings            5\n",
       "dtype: int64"
      ]
     },
     "execution_count": 22,
     "metadata": {},
     "output_type": "execute_result"
    }
   ],
   "source": [
    "##checking out the uniqueness of the columns\n",
    "df.nunique()"
   ]
  },
  {
   "cell_type": "code",
   "execution_count": 23,
   "id": "2f52d6e9",
   "metadata": {},
   "outputs": [
    {
     "data": {
      "text/plain": [
       "5    5527\n",
       "1    5513\n",
       "3    5396\n",
       "4    5240\n",
       "2    5164\n",
       "Name: Ratings, dtype: int64"
      ]
     },
     "execution_count": 23,
     "metadata": {},
     "output_type": "execute_result"
    }
   ],
   "source": [
    "##checking out the classes of the Target variable\n",
    "df['Ratings'].value_counts()"
   ]
  },
  {
   "cell_type": "markdown",
   "id": "da065043",
   "metadata": {},
   "source": [
    "##### All the classes of the target variable has almost same amount of numbers present but later on while going into model building i'll balance the dataset inorder to get best predictions "
   ]
  },
  {
   "cell_type": "markdown",
   "id": "fa8391c2",
   "metadata": {},
   "source": [
    "### Data Visualization\n",
    "### 1.Countplot"
   ]
  },
  {
   "cell_type": "code",
   "execution_count": 24,
   "id": "183abfb8",
   "metadata": {},
   "outputs": [
    {
     "name": "stdout",
     "output_type": "stream",
     "text": [
      "\n",
      "The CountPlot Diagram for the Target Variable is\n",
      " AxesSubplot(0.125,0.125;0.775x0.755)\n"
     ]
    },
    {
     "data": {
      "image/png": "[encoded data removed]",
      "text/plain": [
       "<Figure size 432x288 with 1 Axes>"
      ]
     },
     "metadata": {
      "needs_background": "light"
     },
     "output_type": "display_data"
    },
    {
     "name": "stdout",
     "output_type": "stream",
     "text": [
      "\n",
      "\n"
     ]
    }
   ],
   "source": [
    "print(f'\\nThe CountPlot Diagram for the Target Variable is\\n {sns.countplot(df.Ratings)}')\n",
    "plt.xticks(rotation=90)\n",
    "plt.show()\n",
    "print('\\n')"
   ]
  },
  {
   "cell_type": "markdown",
   "id": "97dcaabf",
   "metadata": {},
   "source": [
    "##### In this dataset rating of 5 is on top having 5527 rows out of 26840 rows "
   ]
  },
  {
   "cell_type": "markdown",
   "id": "c48f685b",
   "metadata": {},
   "source": [
    "### Performed Some Queries"
   ]
  },
  {
   "cell_type": "code",
   "execution_count": 25,
   "id": "73fdd9df",
   "metadata": {},
   "outputs": [
    {
     "data": {
      "text/html": [
       "<div>\n",
       "<style scoped>\n",
       "    .dataframe tbody tr th:only-of-type {\n",
       "        vertical-align: middle;\n",
       "    }\n",
       "\n",
       "    .dataframe tbody tr th {\n",
       "        vertical-align: top;\n",
       "    }\n",
       "\n",
       "    .dataframe thead th {\n",
       "        text-align: right;\n",
       "    }\n",
       "</style>\n",
       "<table border=\"1\" class=\"dataframe\">\n",
       "  <thead>\n",
       "    <tr style=\"text-align: right;\">\n",
       "      <th></th>\n",
       "      <th>Title</th>\n",
       "      <th>Review_Text</th>\n",
       "      <th>Ratings</th>\n",
       "    </tr>\n",
       "  </thead>\n",
       "  <tbody>\n",
       "    <tr>\n",
       "      <th>7849</th>\n",
       "      <td>Dead in two months</td>\n",
       "      <td>Wifi stoped working in just two months. Very h...</td>\n",
       "      <td>1</td>\n",
       "    </tr>\n",
       "    <tr>\n",
       "      <th>7850</th>\n",
       "      <td>Boycotting  tp-link</td>\n",
       "      <td>Don’t buy tp-link products. They will show you...</td>\n",
       "      <td>1</td>\n",
       "    </tr>\n",
       "    <tr>\n",
       "      <th>7851</th>\n",
       "      <td>Don't buy routers from Amazon</td>\n",
       "      <td>&amp;nbsp;Within four months from date of purchase...</td>\n",
       "      <td>1</td>\n",
       "    </tr>\n",
       "    <tr>\n",
       "      <th>7852</th>\n",
       "      <td>Waste of money</td>\n",
       "      <td>It’s not worth for money</td>\n",
       "      <td>1</td>\n",
       "    </tr>\n",
       "    <tr>\n",
       "      <th>7853</th>\n",
       "      <td>I ordered wrong router. Instead of RJ 45 i hav...</td>\n",
       "      <td>Wrong ordered</td>\n",
       "      <td>1</td>\n",
       "    </tr>\n",
       "    <tr>\n",
       "      <th>...</th>\n",
       "      <td>...</td>\n",
       "      <td>...</td>\n",
       "      <td>...</td>\n",
       "    </tr>\n",
       "    <tr>\n",
       "      <th>26455</th>\n",
       "      <td>Not good</td>\n",
       "      <td>Not good</td>\n",
       "      <td>1</td>\n",
       "    </tr>\n",
       "    <tr>\n",
       "      <th>26456</th>\n",
       "      <td>Ok</td>\n",
       "      <td>Ok product</td>\n",
       "      <td>1</td>\n",
       "    </tr>\n",
       "    <tr>\n",
       "      <th>26457</th>\n",
       "      <td>Brick - Worst support - Wont recoomend</td>\n",
       "      <td>Had amazon alexa for some time. Then it died w...</td>\n",
       "      <td>1</td>\n",
       "    </tr>\n",
       "    <tr>\n",
       "      <th>26458</th>\n",
       "      <td>Worst ever</td>\n",
       "      <td>Waste of money waste of time</td>\n",
       "      <td>1</td>\n",
       "    </tr>\n",
       "    <tr>\n",
       "      <th>26459</th>\n",
       "      <td>Alexa</td>\n",
       "      <td>I m not giving return</td>\n",
       "      <td>1</td>\n",
       "    </tr>\n",
       "  </tbody>\n",
       "</table>\n",
       "<p>5513 rows × 3 columns</p>\n",
       "</div>"
      ],
      "text/plain": [
       "                                                   Title  \\\n",
       "7849                                  Dead in two months   \n",
       "7850                                 Boycotting  tp-link   \n",
       "7851                       Don't buy routers from Amazon   \n",
       "7852                                      Waste of money   \n",
       "7853   I ordered wrong router. Instead of RJ 45 i hav...   \n",
       "...                                                  ...   \n",
       "26455                                           Not good   \n",
       "26456                                                 Ok   \n",
       "26457             Brick - Worst support - Wont recoomend   \n",
       "26458                                         Worst ever   \n",
       "26459                                              Alexa   \n",
       "\n",
       "                                             Review_Text  Ratings  \n",
       "7849   Wifi stoped working in just two months. Very h...        1  \n",
       "7850   Don’t buy tp-link products. They will show you...        1  \n",
       "7851   &nbsp;Within four months from date of purchase...        1  \n",
       "7852                            It’s not worth for money        1  \n",
       "7853                                       Wrong ordered        1  \n",
       "...                                                  ...      ...  \n",
       "26455                                           Not good        1  \n",
       "26456                                         Ok product        1  \n",
       "26457  Had amazon alexa for some time. Then it died w...        1  \n",
       "26458                       Waste of money waste of time        1  \n",
       "26459                              I m not giving return        1  \n",
       "\n",
       "[5513 rows x 3 columns]"
      ]
     },
     "execution_count": 25,
     "metadata": {},
     "output_type": "execute_result"
    }
   ],
   "source": [
    "#dataframe of ratings 1\n",
    "df[df['Ratings']==1]"
   ]
  },
  {
   "cell_type": "code",
   "execution_count": 26,
   "id": "23c60461",
   "metadata": {},
   "outputs": [
    {
     "data": {
      "text/html": [
       "<div>\n",
       "<style scoped>\n",
       "    .dataframe tbody tr th:only-of-type {\n",
       "        vertical-align: middle;\n",
       "    }\n",
       "\n",
       "    .dataframe tbody tr th {\n",
       "        vertical-align: top;\n",
       "    }\n",
       "\n",
       "    .dataframe thead th {\n",
       "        text-align: right;\n",
       "    }\n",
       "</style>\n",
       "<table border=\"1\" class=\"dataframe\">\n",
       "  <thead>\n",
       "    <tr style=\"text-align: right;\">\n",
       "      <th></th>\n",
       "      <th>Title</th>\n",
       "      <th>Review_Text</th>\n",
       "      <th>Ratings</th>\n",
       "    </tr>\n",
       "  </thead>\n",
       "  <tbody>\n",
       "    <tr>\n",
       "      <th>0</th>\n",
       "      <td>Very bad experience</td>\n",
       "      <td>Anyone looking to buy this product please don'...</td>\n",
       "      <td>2</td>\n",
       "    </tr>\n",
       "    <tr>\n",
       "      <th>1</th>\n",
       "      <td>मेरा product रिटर्न ले गया लेकिन रसीद नहीं दिया</td>\n",
       "      <td>मेरा पार्सल डिलिवरी बॉय २४/११/२२.को ले गया लेक...</td>\n",
       "      <td>2</td>\n",
       "    </tr>\n",
       "    <tr>\n",
       "      <th>2</th>\n",
       "      <td>Not up to the mark, disappointing</td>\n",
       "      <td>Everything is good but this product not up to ...</td>\n",
       "      <td>2</td>\n",
       "    </tr>\n",
       "    <tr>\n",
       "      <th>3</th>\n",
       "      <td>Product quality, Sound quality, comfortness</td>\n",
       "      <td>Product quality - product quality is good in t...</td>\n",
       "      <td>2</td>\n",
       "    </tr>\n",
       "    <tr>\n",
       "      <th>4</th>\n",
       "      <td>Never buy wireless from boat</td>\n",
       "      <td>I had brought this product about 10 days back....</td>\n",
       "      <td>2</td>\n",
       "    </tr>\n",
       "    <tr>\n",
       "      <th>...</th>\n",
       "      <td>...</td>\n",
       "      <td>...</td>\n",
       "      <td>...</td>\n",
       "    </tr>\n",
       "    <tr>\n",
       "      <th>24792</th>\n",
       "      <td>Not compatible with all devices</td>\n",
       "      <td>Not compatible with Ssung smart tv...waste of ...</td>\n",
       "      <td>2</td>\n",
       "    </tr>\n",
       "    <tr>\n",
       "      <th>24793</th>\n",
       "      <td>Not as expected</td>\n",
       "      <td>This dot is deaf many times and sound quality ...</td>\n",
       "      <td>2</td>\n",
       "    </tr>\n",
       "    <tr>\n",
       "      <th>24794</th>\n",
       "      <td>It doesn't listen</td>\n",
       "      <td>Voice recognition needs to improve.&lt;br&gt;Alexa d...</td>\n",
       "      <td>2</td>\n",
       "    </tr>\n",
       "    <tr>\n",
       "      <th>24795</th>\n",
       "      <td>Not worth buying</td>\n",
       "      <td>Not satisfied with the quality of the devices....</td>\n",
       "      <td>2</td>\n",
       "    </tr>\n",
       "    <tr>\n",
       "      <th>24796</th>\n",
       "      <td>Amazon wants to earn more frome you</td>\n",
       "      <td>Only Spotify and Amazon account anyone could a...</td>\n",
       "      <td>2</td>\n",
       "    </tr>\n",
       "  </tbody>\n",
       "</table>\n",
       "<p>5164 rows × 3 columns</p>\n",
       "</div>"
      ],
      "text/plain": [
       "                                                 Title  \\\n",
       "0                                  Very bad experience   \n",
       "1      मेरा product रिटर्न ले गया लेकिन रसीद नहीं दिया   \n",
       "2                    Not up to the mark, disappointing   \n",
       "3          Product quality, Sound quality, comfortness   \n",
       "4                         Never buy wireless from boat   \n",
       "...                                                ...   \n",
       "24792                  Not compatible with all devices   \n",
       "24793                                  Not as expected   \n",
       "24794                                It doesn't listen   \n",
       "24795                                 Not worth buying   \n",
       "24796              Amazon wants to earn more frome you   \n",
       "\n",
       "                                             Review_Text  Ratings  \n",
       "0      Anyone looking to buy this product please don'...        2  \n",
       "1      मेरा पार्सल डिलिवरी बॉय २४/११/२२.को ले गया लेक...        2  \n",
       "2      Everything is good but this product not up to ...        2  \n",
       "3      Product quality - product quality is good in t...        2  \n",
       "4      I had brought this product about 10 days back....        2  \n",
       "...                                                  ...      ...  \n",
       "24792  Not compatible with Ssung smart tv...waste of ...        2  \n",
       "24793  This dot is deaf many times and sound quality ...        2  \n",
       "24794  Voice recognition needs to improve.<br>Alexa d...        2  \n",
       "24795  Not satisfied with the quality of the devices....        2  \n",
       "24796  Only Spotify and Amazon account anyone could a...        2  \n",
       "\n",
       "[5164 rows x 3 columns]"
      ]
     },
     "execution_count": 26,
     "metadata": {},
     "output_type": "execute_result"
    }
   ],
   "source": [
    "#dataframe of ratings 2\n",
    "df[df['Ratings']==2]"
   ]
  },
  {
   "cell_type": "code",
   "execution_count": 27,
   "id": "553a6573",
   "metadata": {},
   "outputs": [
    {
     "data": {
      "text/html": [
       "<div>\n",
       "<style scoped>\n",
       "    .dataframe tbody tr th:only-of-type {\n",
       "        vertical-align: middle;\n",
       "    }\n",
       "\n",
       "    .dataframe tbody tr th {\n",
       "        vertical-align: top;\n",
       "    }\n",
       "\n",
       "    .dataframe thead th {\n",
       "        text-align: right;\n",
       "    }\n",
       "</style>\n",
       "<table border=\"1\" class=\"dataframe\">\n",
       "  <thead>\n",
       "    <tr style=\"text-align: right;\">\n",
       "      <th></th>\n",
       "      <th>Title</th>\n",
       "      <th>Review_Text</th>\n",
       "      <th>Ratings</th>\n",
       "    </tr>\n",
       "  </thead>\n",
       "  <tbody>\n",
       "    <tr>\n",
       "      <th>964</th>\n",
       "      <td>After using one year..</td>\n",
       "      <td>In starting everything is good but after 8mont...</td>\n",
       "      <td>3</td>\n",
       "    </tr>\n",
       "    <tr>\n",
       "      <th>965</th>\n",
       "      <td>Not liked that button segment designed externally</td>\n",
       "      <td>The button box or segment in earlier models wa...</td>\n",
       "      <td>3</td>\n",
       "    </tr>\n",
       "    <tr>\n",
       "      <th>966</th>\n",
       "      <td>Mediocre Headphones for Mediocre Usage</td>\n",
       "      <td>Perfectly mediocre headphones for casual music...</td>\n",
       "      <td>3</td>\n",
       "    </tr>\n",
       "    <tr>\n",
       "      <th>967</th>\n",
       "      <td>Connectivity Problem</td>\n",
       "      <td>It will pop up on anyone's device when you get...</td>\n",
       "      <td>3</td>\n",
       "    </tr>\n",
       "    <tr>\n",
       "      <th>968</th>\n",
       "      <td>Too large earbuds to my ears</td>\n",
       "      <td>It's a paining to my ears after 30 minitues of...</td>\n",
       "      <td>3</td>\n",
       "    </tr>\n",
       "    <tr>\n",
       "      <th>...</th>\n",
       "      <td>...</td>\n",
       "      <td>...</td>\n",
       "      <td>...</td>\n",
       "    </tr>\n",
       "    <tr>\n",
       "      <th>25455</th>\n",
       "      <td>Bulb free alongwith Alexa didn't came</td>\n",
       "      <td>Bulb along with Alexa didn't came</td>\n",
       "      <td>3</td>\n",
       "    </tr>\n",
       "    <tr>\n",
       "      <th>25456</th>\n",
       "      <td>Lots of scope for improvement</td>\n",
       "      <td>This is my impression after using it for a wee...</td>\n",
       "      <td>3</td>\n",
       "    </tr>\n",
       "    <tr>\n",
       "      <th>25457</th>\n",
       "      <td>Good</td>\n",
       "      <td>Nice</td>\n",
       "      <td>3</td>\n",
       "    </tr>\n",
       "    <tr>\n",
       "      <th>25458</th>\n",
       "      <td>Not very useful</td>\n",
       "      <td>Average to use</td>\n",
       "      <td>3</td>\n",
       "    </tr>\n",
       "    <tr>\n",
       "      <th>25459</th>\n",
       "      <td>Useless</td>\n",
       "      <td>..Alexa app is quite slow...once configured to...</td>\n",
       "      <td>3</td>\n",
       "    </tr>\n",
       "  </tbody>\n",
       "</table>\n",
       "<p>5396 rows × 3 columns</p>\n",
       "</div>"
      ],
      "text/plain": [
       "                                                   Title  \\\n",
       "964                               After using one year..   \n",
       "965    Not liked that button segment designed externally   \n",
       "966               Mediocre Headphones for Mediocre Usage   \n",
       "967                                 Connectivity Problem   \n",
       "968                         Too large earbuds to my ears   \n",
       "...                                                  ...   \n",
       "25455              Bulb free alongwith Alexa didn't came   \n",
       "25456                      Lots of scope for improvement   \n",
       "25457                                               Good   \n",
       "25458                                    Not very useful   \n",
       "25459                                            Useless   \n",
       "\n",
       "                                             Review_Text  Ratings  \n",
       "964    In starting everything is good but after 8mont...        3  \n",
       "965    The button box or segment in earlier models wa...        3  \n",
       "966    Perfectly mediocre headphones for casual music...        3  \n",
       "967    It will pop up on anyone's device when you get...        3  \n",
       "968    It's a paining to my ears after 30 minitues of...        3  \n",
       "...                                                  ...      ...  \n",
       "25455                  Bulb along with Alexa didn't came        3  \n",
       "25456  This is my impression after using it for a wee...        3  \n",
       "25457                                               Nice        3  \n",
       "25458                                     Average to use        3  \n",
       "25459  ..Alexa app is quite slow...once configured to...        3  \n",
       "\n",
       "[5396 rows x 3 columns]"
      ]
     },
     "execution_count": 27,
     "metadata": {},
     "output_type": "execute_result"
    }
   ],
   "source": [
    "#dataframe of ratings 3\n",
    "df[df['Ratings']==3]"
   ]
  },
  {
   "cell_type": "code",
   "execution_count": 28,
   "id": "f07d800a",
   "metadata": {},
   "outputs": [
    {
     "data": {
      "text/html": [
       "<div>\n",
       "<style scoped>\n",
       "    .dataframe tbody tr th:only-of-type {\n",
       "        vertical-align: middle;\n",
       "    }\n",
       "\n",
       "    .dataframe tbody tr th {\n",
       "        vertical-align: top;\n",
       "    }\n",
       "\n",
       "    .dataframe thead th {\n",
       "        text-align: right;\n",
       "    }\n",
       "</style>\n",
       "<table border=\"1\" class=\"dataframe\">\n",
       "  <thead>\n",
       "    <tr style=\"text-align: right;\">\n",
       "      <th></th>\n",
       "      <th>Title</th>\n",
       "      <th>Review_Text</th>\n",
       "      <th>Ratings</th>\n",
       "    </tr>\n",
       "  </thead>\n",
       "  <tbody>\n",
       "    <tr>\n",
       "      <th>2464</th>\n",
       "      <td>The rebel with a defect</td>\n",
       "      <td>Writing this review after 10 months of usage. ...</td>\n",
       "      <td>4</td>\n",
       "    </tr>\n",
       "    <tr>\n",
       "      <th>2465</th>\n",
       "      <td>amazing battery backup and connectivity</td>\n",
       "      <td>Bought them in a hurry so i was surprised how ...</td>\n",
       "      <td>4</td>\n",
       "    </tr>\n",
       "    <tr>\n",
       "      <th>2466</th>\n",
       "      <td>To sum it up overall the product is really goo...</td>\n",
       "      <td>I've been using this for the past few monts an...</td>\n",
       "      <td>4</td>\n",
       "    </tr>\n",
       "    <tr>\n",
       "      <th>2467</th>\n",
       "      <td>Good Product for the price, Except for the sil...</td>\n",
       "      <td>The battery life is good, but it does work pro...</td>\n",
       "      <td>4</td>\n",
       "    </tr>\n",
       "    <tr>\n",
       "      <th>2468</th>\n",
       "      <td>Good product👍🏼👍🏼</td>\n",
       "      <td>Worth buying for this pricerange the earphones...</td>\n",
       "      <td>4</td>\n",
       "    </tr>\n",
       "    <tr>\n",
       "      <th>...</th>\n",
       "      <td>...</td>\n",
       "      <td>...</td>\n",
       "      <td>...</td>\n",
       "    </tr>\n",
       "    <tr>\n",
       "      <th>24259</th>\n",
       "      <td>Quality is good. Lack features</td>\n",
       "      <td>The watch is good quality but it lacks many fe...</td>\n",
       "      <td>4</td>\n",
       "    </tr>\n",
       "    <tr>\n",
       "      <th>24260</th>\n",
       "      <td>This device gives good Accuracy.</td>\n",
       "      <td>There are some pros and cons of this device.&lt;b...</td>\n",
       "      <td>4</td>\n",
       "    </tr>\n",
       "    <tr>\n",
       "      <th>24261</th>\n",
       "      <td>I buy it recently and it stop charging what ne...</td>\n",
       "      <td>I order in July and in sept it stop charging m...</td>\n",
       "      <td>4</td>\n",
       "    </tr>\n",
       "    <tr>\n",
       "      <th>24262</th>\n",
       "      <td>Please fix the sync problem</td>\n",
       "      <td>The only problem with the versa 3 is ..... It ...</td>\n",
       "      <td>4</td>\n",
       "    </tr>\n",
       "    <tr>\n",
       "      <th>24263</th>\n",
       "      <td>Exceeded expectations</td>\n",
       "      <td>Pros: Amazing battery life, looks very premium...</td>\n",
       "      <td>4</td>\n",
       "    </tr>\n",
       "  </tbody>\n",
       "</table>\n",
       "<p>5240 rows × 3 columns</p>\n",
       "</div>"
      ],
      "text/plain": [
       "                                                   Title  \\\n",
       "2464                             The rebel with a defect   \n",
       "2465             amazing battery backup and connectivity   \n",
       "2466   To sum it up overall the product is really goo...   \n",
       "2467   Good Product for the price, Except for the sil...   \n",
       "2468                                    Good product👍🏼👍🏼   \n",
       "...                                                  ...   \n",
       "24259                     Quality is good. Lack features   \n",
       "24260                   This device gives good Accuracy.   \n",
       "24261  I buy it recently and it stop charging what ne...   \n",
       "24262                        Please fix the sync problem   \n",
       "24263                              Exceeded expectations   \n",
       "\n",
       "                                             Review_Text  Ratings  \n",
       "2464   Writing this review after 10 months of usage. ...        4  \n",
       "2465   Bought them in a hurry so i was surprised how ...        4  \n",
       "2466   I've been using this for the past few monts an...        4  \n",
       "2467   The battery life is good, but it does work pro...        4  \n",
       "2468   Worth buying for this pricerange the earphones...        4  \n",
       "...                                                  ...      ...  \n",
       "24259  The watch is good quality but it lacks many fe...        4  \n",
       "24260  There are some pros and cons of this device.<b...        4  \n",
       "24261  I order in July and in sept it stop charging m...        4  \n",
       "24262  The only problem with the versa 3 is ..... It ...        4  \n",
       "24263  Pros: Amazing battery life, looks very premium...        4  \n",
       "\n",
       "[5240 rows x 3 columns]"
      ]
     },
     "execution_count": 28,
     "metadata": {},
     "output_type": "execute_result"
    }
   ],
   "source": [
    "#dataframe of ratings 4\n",
    "df[df['Ratings']==4]"
   ]
  },
  {
   "cell_type": "code",
   "execution_count": 29,
   "id": "3238591f",
   "metadata": {},
   "outputs": [
    {
     "data": {
      "text/html": [
       "<div>\n",
       "<style scoped>\n",
       "    .dataframe tbody tr th:only-of-type {\n",
       "        vertical-align: middle;\n",
       "    }\n",
       "\n",
       "    .dataframe tbody tr th {\n",
       "        vertical-align: top;\n",
       "    }\n",
       "\n",
       "    .dataframe thead th {\n",
       "        text-align: right;\n",
       "    }\n",
       "</style>\n",
       "<table border=\"1\" class=\"dataframe\">\n",
       "  <thead>\n",
       "    <tr style=\"text-align: right;\">\n",
       "      <th></th>\n",
       "      <th>Title</th>\n",
       "      <th>Review_Text</th>\n",
       "      <th>Ratings</th>\n",
       "    </tr>\n",
       "  </thead>\n",
       "  <tbody>\n",
       "    <tr>\n",
       "      <th>5038</th>\n",
       "      <td>Very Nice</td>\n",
       "      <td>Go for it guys very nice</td>\n",
       "      <td>5</td>\n",
       "    </tr>\n",
       "    <tr>\n",
       "      <th>5039</th>\n",
       "      <td>Good</td>\n",
       "      <td>Good</td>\n",
       "      <td>5</td>\n",
       "    </tr>\n",
       "    <tr>\n",
       "      <th>5040</th>\n",
       "      <td>Best sound quality experience with excellent b...</td>\n",
       "      <td>It has premium look with very good sound quali...</td>\n",
       "      <td>5</td>\n",
       "    </tr>\n",
       "    <tr>\n",
       "      <th>5041</th>\n",
       "      <td>Good quality</td>\n",
       "      <td>Very good quality</td>\n",
       "      <td>5</td>\n",
       "    </tr>\n",
       "    <tr>\n",
       "      <th>5042</th>\n",
       "      <td>uaonest e this and it's quite light and i can ...</td>\n",
       "      <td>NaN</td>\n",
       "      <td>5</td>\n",
       "    </tr>\n",
       "    <tr>\n",
       "      <th>...</th>\n",
       "      <td>...</td>\n",
       "      <td>...</td>\n",
       "      <td>...</td>\n",
       "    </tr>\n",
       "    <tr>\n",
       "      <th>26835</th>\n",
       "      <td>Cool gadget</td>\n",
       "      <td>&amp;nbsp;Cool gadget</td>\n",
       "      <td>5</td>\n",
       "    </tr>\n",
       "    <tr>\n",
       "      <th>26836</th>\n",
       "      <td>Good</td>\n",
       "      <td>Good product by Amazon,  very intelligent and ...</td>\n",
       "      <td>5</td>\n",
       "    </tr>\n",
       "    <tr>\n",
       "      <th>26837</th>\n",
       "      <td>Super</td>\n",
       "      <td>Super</td>\n",
       "      <td>5</td>\n",
       "    </tr>\n",
       "    <tr>\n",
       "      <th>26838</th>\n",
       "      <td>Very well built and compact in size but delive...</td>\n",
       "      <td>I like it's magnificent sound quality and Alex...</td>\n",
       "      <td>5</td>\n",
       "    </tr>\n",
       "    <tr>\n",
       "      <th>26839</th>\n",
       "      <td>It's useful to smart home perfectly</td>\n",
       "      <td>It's very good. Nicely working without any pro...</td>\n",
       "      <td>5</td>\n",
       "    </tr>\n",
       "  </tbody>\n",
       "</table>\n",
       "<p>5527 rows × 3 columns</p>\n",
       "</div>"
      ],
      "text/plain": [
       "                                                   Title  \\\n",
       "5038                                           Very Nice   \n",
       "5039                                                Good   \n",
       "5040   Best sound quality experience with excellent b...   \n",
       "5041                                        Good quality   \n",
       "5042   uaonest e this and it's quite light and i can ...   \n",
       "...                                                  ...   \n",
       "26835                                        Cool gadget   \n",
       "26836                                               Good   \n",
       "26837                                              Super   \n",
       "26838  Very well built and compact in size but delive...   \n",
       "26839                It's useful to smart home perfectly   \n",
       "\n",
       "                                             Review_Text  Ratings  \n",
       "5038                            Go for it guys very nice        5  \n",
       "5039                                                Good        5  \n",
       "5040   It has premium look with very good sound quali...        5  \n",
       "5041                                   Very good quality        5  \n",
       "5042                                                 NaN        5  \n",
       "...                                                  ...      ...  \n",
       "26835                                  &nbsp;Cool gadget        5  \n",
       "26836  Good product by Amazon,  very intelligent and ...        5  \n",
       "26837                                              Super        5  \n",
       "26838  I like it's magnificent sound quality and Alex...        5  \n",
       "26839  It's very good. Nicely working without any pro...        5  \n",
       "\n",
       "[5527 rows x 3 columns]"
      ]
     },
     "execution_count": 29,
     "metadata": {},
     "output_type": "execute_result"
    }
   ],
   "source": [
    "#dataframe of ratings 5\n",
    "df[df['Ratings']==5]"
   ]
  },
  {
   "cell_type": "code",
   "execution_count": 30,
   "id": "da41f83f",
   "metadata": {},
   "outputs": [
    {
     "data": {
      "text/html": [
       "<div>\n",
       "<style scoped>\n",
       "    .dataframe tbody tr th:only-of-type {\n",
       "        vertical-align: middle;\n",
       "    }\n",
       "\n",
       "    .dataframe tbody tr th {\n",
       "        vertical-align: top;\n",
       "    }\n",
       "\n",
       "    .dataframe thead th {\n",
       "        text-align: right;\n",
       "    }\n",
       "</style>\n",
       "<table border=\"1\" class=\"dataframe\">\n",
       "  <thead>\n",
       "    <tr style=\"text-align: right;\">\n",
       "      <th></th>\n",
       "      <th>Title</th>\n",
       "      <th>Review_Text</th>\n",
       "      <th>Ratings</th>\n",
       "    </tr>\n",
       "  </thead>\n",
       "  <tbody>\n",
       "    <tr>\n",
       "      <th>5038</th>\n",
       "      <td>Very Nice</td>\n",
       "      <td>Go for it guys very nice</td>\n",
       "      <td>5</td>\n",
       "    </tr>\n",
       "    <tr>\n",
       "      <th>5039</th>\n",
       "      <td>Good</td>\n",
       "      <td>Good</td>\n",
       "      <td>5</td>\n",
       "    </tr>\n",
       "    <tr>\n",
       "      <th>5040</th>\n",
       "      <td>Best sound quality experience with excellent b...</td>\n",
       "      <td>It has premium look with very good sound quali...</td>\n",
       "      <td>5</td>\n",
       "    </tr>\n",
       "    <tr>\n",
       "      <th>5041</th>\n",
       "      <td>Good quality</td>\n",
       "      <td>Very good quality</td>\n",
       "      <td>5</td>\n",
       "    </tr>\n",
       "    <tr>\n",
       "      <th>5042</th>\n",
       "      <td>uaonest e this and it's quite light and i can ...</td>\n",
       "      <td>NaN</td>\n",
       "      <td>5</td>\n",
       "    </tr>\n",
       "    <tr>\n",
       "      <th>...</th>\n",
       "      <td>...</td>\n",
       "      <td>...</td>\n",
       "      <td>...</td>\n",
       "    </tr>\n",
       "    <tr>\n",
       "      <th>26835</th>\n",
       "      <td>Cool gadget</td>\n",
       "      <td>&amp;nbsp;Cool gadget</td>\n",
       "      <td>5</td>\n",
       "    </tr>\n",
       "    <tr>\n",
       "      <th>26836</th>\n",
       "      <td>Good</td>\n",
       "      <td>Good product by Amazon,  very intelligent and ...</td>\n",
       "      <td>5</td>\n",
       "    </tr>\n",
       "    <tr>\n",
       "      <th>26837</th>\n",
       "      <td>Super</td>\n",
       "      <td>Super</td>\n",
       "      <td>5</td>\n",
       "    </tr>\n",
       "    <tr>\n",
       "      <th>26838</th>\n",
       "      <td>Very well built and compact in size but delive...</td>\n",
       "      <td>I like it's magnificent sound quality and Alex...</td>\n",
       "      <td>5</td>\n",
       "    </tr>\n",
       "    <tr>\n",
       "      <th>26839</th>\n",
       "      <td>It's useful to smart home perfectly</td>\n",
       "      <td>It's very good. Nicely working without any pro...</td>\n",
       "      <td>5</td>\n",
       "    </tr>\n",
       "  </tbody>\n",
       "</table>\n",
       "<p>11040 rows × 3 columns</p>\n",
       "</div>"
      ],
      "text/plain": [
       "                                                   Title  \\\n",
       "5038                                           Very Nice   \n",
       "5039                                                Good   \n",
       "5040   Best sound quality experience with excellent b...   \n",
       "5041                                        Good quality   \n",
       "5042   uaonest e this and it's quite light and i can ...   \n",
       "...                                                  ...   \n",
       "26835                                        Cool gadget   \n",
       "26836                                               Good   \n",
       "26837                                              Super   \n",
       "26838  Very well built and compact in size but delive...   \n",
       "26839                It's useful to smart home perfectly   \n",
       "\n",
       "                                             Review_Text  Ratings  \n",
       "5038                            Go for it guys very nice        5  \n",
       "5039                                                Good        5  \n",
       "5040   It has premium look with very good sound quali...        5  \n",
       "5041                                   Very good quality        5  \n",
       "5042                                                 NaN        5  \n",
       "...                                                  ...      ...  \n",
       "26835                                  &nbsp;Cool gadget        5  \n",
       "26836  Good product by Amazon,  very intelligent and ...        5  \n",
       "26837                                              Super        5  \n",
       "26838  I like it's magnificent sound quality and Alex...        5  \n",
       "26839  It's very good. Nicely working without any pro...        5  \n",
       "\n",
       "[11040 rows x 3 columns]"
      ]
     },
     "execution_count": 30,
     "metadata": {},
     "output_type": "execute_result"
    }
   ],
   "source": [
    "#pipe operator\n",
    "df[(df['Ratings']==1) | (df['Ratings']==5) ]"
   ]
  },
  {
   "cell_type": "markdown",
   "id": "e006def1",
   "metadata": {},
   "source": [
    "##### This is showing that 11040 rows are present having rating 1 or 5  all-together"
   ]
  },
  {
   "cell_type": "code",
   "execution_count": 31,
   "id": "b98dfb6f",
   "metadata": {},
   "outputs": [
    {
     "data": {
      "text/html": [
       "<div>\n",
       "<style scoped>\n",
       "    .dataframe tbody tr th:only-of-type {\n",
       "        vertical-align: middle;\n",
       "    }\n",
       "\n",
       "    .dataframe tbody tr th {\n",
       "        vertical-align: top;\n",
       "    }\n",
       "\n",
       "    .dataframe thead th {\n",
       "        text-align: right;\n",
       "    }\n",
       "</style>\n",
       "<table border=\"1\" class=\"dataframe\">\n",
       "  <thead>\n",
       "    <tr style=\"text-align: right;\">\n",
       "      <th></th>\n",
       "      <th>Title</th>\n",
       "      <th>Review_Text</th>\n",
       "      <th>Ratings</th>\n",
       "    </tr>\n",
       "  </thead>\n",
       "  <tbody>\n",
       "    <tr>\n",
       "      <th>964</th>\n",
       "      <td>After using one year..</td>\n",
       "      <td>In starting everything is good but after 8mont...</td>\n",
       "      <td>3</td>\n",
       "    </tr>\n",
       "    <tr>\n",
       "      <th>965</th>\n",
       "      <td>Not liked that button segment designed externally</td>\n",
       "      <td>The button box or segment in earlier models wa...</td>\n",
       "      <td>3</td>\n",
       "    </tr>\n",
       "    <tr>\n",
       "      <th>966</th>\n",
       "      <td>Mediocre Headphones for Mediocre Usage</td>\n",
       "      <td>Perfectly mediocre headphones for casual music...</td>\n",
       "      <td>3</td>\n",
       "    </tr>\n",
       "    <tr>\n",
       "      <th>967</th>\n",
       "      <td>Connectivity Problem</td>\n",
       "      <td>It will pop up on anyone's device when you get...</td>\n",
       "      <td>3</td>\n",
       "    </tr>\n",
       "    <tr>\n",
       "      <th>968</th>\n",
       "      <td>Too large earbuds to my ears</td>\n",
       "      <td>It's a paining to my ears after 30 minitues of...</td>\n",
       "      <td>3</td>\n",
       "    </tr>\n",
       "    <tr>\n",
       "      <th>...</th>\n",
       "      <td>...</td>\n",
       "      <td>...</td>\n",
       "      <td>...</td>\n",
       "    </tr>\n",
       "    <tr>\n",
       "      <th>26835</th>\n",
       "      <td>Cool gadget</td>\n",
       "      <td>&amp;nbsp;Cool gadget</td>\n",
       "      <td>5</td>\n",
       "    </tr>\n",
       "    <tr>\n",
       "      <th>26836</th>\n",
       "      <td>Good</td>\n",
       "      <td>Good product by Amazon,  very intelligent and ...</td>\n",
       "      <td>5</td>\n",
       "    </tr>\n",
       "    <tr>\n",
       "      <th>26837</th>\n",
       "      <td>Super</td>\n",
       "      <td>Super</td>\n",
       "      <td>5</td>\n",
       "    </tr>\n",
       "    <tr>\n",
       "      <th>26838</th>\n",
       "      <td>Very well built and compact in size but delive...</td>\n",
       "      <td>I like it's magnificent sound quality and Alex...</td>\n",
       "      <td>5</td>\n",
       "    </tr>\n",
       "    <tr>\n",
       "      <th>26839</th>\n",
       "      <td>It's useful to smart home perfectly</td>\n",
       "      <td>It's very good. Nicely working without any pro...</td>\n",
       "      <td>5</td>\n",
       "    </tr>\n",
       "  </tbody>\n",
       "</table>\n",
       "<p>10923 rows × 3 columns</p>\n",
       "</div>"
      ],
      "text/plain": [
       "                                                   Title  \\\n",
       "964                               After using one year..   \n",
       "965    Not liked that button segment designed externally   \n",
       "966               Mediocre Headphones for Mediocre Usage   \n",
       "967                                 Connectivity Problem   \n",
       "968                         Too large earbuds to my ears   \n",
       "...                                                  ...   \n",
       "26835                                        Cool gadget   \n",
       "26836                                               Good   \n",
       "26837                                              Super   \n",
       "26838  Very well built and compact in size but delive...   \n",
       "26839                It's useful to smart home perfectly   \n",
       "\n",
       "                                             Review_Text  Ratings  \n",
       "964    In starting everything is good but after 8mont...        3  \n",
       "965    The button box or segment in earlier models wa...        3  \n",
       "966    Perfectly mediocre headphones for casual music...        3  \n",
       "967    It will pop up on anyone's device when you get...        3  \n",
       "968    It's a paining to my ears after 30 minitues of...        3  \n",
       "...                                                  ...      ...  \n",
       "26835                                  &nbsp;Cool gadget        5  \n",
       "26836  Good product by Amazon,  very intelligent and ...        5  \n",
       "26837                                              Super        5  \n",
       "26838  I like it's magnificent sound quality and Alex...        5  \n",
       "26839  It's very good. Nicely working without any pro...        5  \n",
       "\n",
       "[10923 rows x 3 columns]"
      ]
     },
     "execution_count": 31,
     "metadata": {},
     "output_type": "execute_result"
    }
   ],
   "source": [
    "df[(df['Ratings']==5) | (df['Ratings']==3) ]"
   ]
  },
  {
   "cell_type": "markdown",
   "id": "698d930e",
   "metadata": {},
   "source": [
    "##### This is showing that 10923 rows are present having rating 3 or 5  all-together"
   ]
  },
  {
   "cell_type": "code",
   "execution_count": 32,
   "id": "f7d4d62a",
   "metadata": {},
   "outputs": [
    {
     "data": {
      "text/html": [
       "<div>\n",
       "<style scoped>\n",
       "    .dataframe tbody tr th:only-of-type {\n",
       "        vertical-align: middle;\n",
       "    }\n",
       "\n",
       "    .dataframe tbody tr th {\n",
       "        vertical-align: top;\n",
       "    }\n",
       "\n",
       "    .dataframe thead th {\n",
       "        text-align: right;\n",
       "    }\n",
       "</style>\n",
       "<table border=\"1\" class=\"dataframe\">\n",
       "  <thead>\n",
       "    <tr style=\"text-align: right;\">\n",
       "      <th></th>\n",
       "      <th>Title</th>\n",
       "      <th>Review_Text</th>\n",
       "      <th>Ratings</th>\n",
       "    </tr>\n",
       "  </thead>\n",
       "  <tbody>\n",
       "    <tr>\n",
       "      <th>2464</th>\n",
       "      <td>The rebel with a defect</td>\n",
       "      <td>Writing this review after 10 months of usage. ...</td>\n",
       "      <td>4</td>\n",
       "    </tr>\n",
       "    <tr>\n",
       "      <th>2465</th>\n",
       "      <td>amazing battery backup and connectivity</td>\n",
       "      <td>Bought them in a hurry so i was surprised how ...</td>\n",
       "      <td>4</td>\n",
       "    </tr>\n",
       "    <tr>\n",
       "      <th>2466</th>\n",
       "      <td>To sum it up overall the product is really goo...</td>\n",
       "      <td>I've been using this for the past few monts an...</td>\n",
       "      <td>4</td>\n",
       "    </tr>\n",
       "    <tr>\n",
       "      <th>2467</th>\n",
       "      <td>Good Product for the price, Except for the sil...</td>\n",
       "      <td>The battery life is good, but it does work pro...</td>\n",
       "      <td>4</td>\n",
       "    </tr>\n",
       "    <tr>\n",
       "      <th>2468</th>\n",
       "      <td>Good product👍🏼👍🏼</td>\n",
       "      <td>Worth buying for this pricerange the earphones...</td>\n",
       "      <td>4</td>\n",
       "    </tr>\n",
       "    <tr>\n",
       "      <th>...</th>\n",
       "      <td>...</td>\n",
       "      <td>...</td>\n",
       "      <td>...</td>\n",
       "    </tr>\n",
       "    <tr>\n",
       "      <th>26835</th>\n",
       "      <td>Cool gadget</td>\n",
       "      <td>&amp;nbsp;Cool gadget</td>\n",
       "      <td>5</td>\n",
       "    </tr>\n",
       "    <tr>\n",
       "      <th>26836</th>\n",
       "      <td>Good</td>\n",
       "      <td>Good product by Amazon,  very intelligent and ...</td>\n",
       "      <td>5</td>\n",
       "    </tr>\n",
       "    <tr>\n",
       "      <th>26837</th>\n",
       "      <td>Super</td>\n",
       "      <td>Super</td>\n",
       "      <td>5</td>\n",
       "    </tr>\n",
       "    <tr>\n",
       "      <th>26838</th>\n",
       "      <td>Very well built and compact in size but delive...</td>\n",
       "      <td>I like it's magnificent sound quality and Alex...</td>\n",
       "      <td>5</td>\n",
       "    </tr>\n",
       "    <tr>\n",
       "      <th>26839</th>\n",
       "      <td>It's useful to smart home perfectly</td>\n",
       "      <td>It's very good. Nicely working without any pro...</td>\n",
       "      <td>5</td>\n",
       "    </tr>\n",
       "  </tbody>\n",
       "</table>\n",
       "<p>10767 rows × 3 columns</p>\n",
       "</div>"
      ],
      "text/plain": [
       "                                                   Title  \\\n",
       "2464                             The rebel with a defect   \n",
       "2465             amazing battery backup and connectivity   \n",
       "2466   To sum it up overall the product is really goo...   \n",
       "2467   Good Product for the price, Except for the sil...   \n",
       "2468                                    Good product👍🏼👍🏼   \n",
       "...                                                  ...   \n",
       "26835                                        Cool gadget   \n",
       "26836                                               Good   \n",
       "26837                                              Super   \n",
       "26838  Very well built and compact in size but delive...   \n",
       "26839                It's useful to smart home perfectly   \n",
       "\n",
       "                                             Review_Text  Ratings  \n",
       "2464   Writing this review after 10 months of usage. ...        4  \n",
       "2465   Bought them in a hurry so i was surprised how ...        4  \n",
       "2466   I've been using this for the past few monts an...        4  \n",
       "2467   The battery life is good, but it does work pro...        4  \n",
       "2468   Worth buying for this pricerange the earphones...        4  \n",
       "...                                                  ...      ...  \n",
       "26835                                  &nbsp;Cool gadget        5  \n",
       "26836  Good product by Amazon,  very intelligent and ...        5  \n",
       "26837                                              Super        5  \n",
       "26838  I like it's magnificent sound quality and Alex...        5  \n",
       "26839  It's very good. Nicely working without any pro...        5  \n",
       "\n",
       "[10767 rows x 3 columns]"
      ]
     },
     "execution_count": 32,
     "metadata": {},
     "output_type": "execute_result"
    }
   ],
   "source": [
    "df[(df['Ratings']>3) | (df['Ratings']==5) ]"
   ]
  },
  {
   "cell_type": "markdown",
   "id": "04dcfe01",
   "metadata": {},
   "source": [
    "##### This is showing that 10767 rows are present having rating greater than 3 or rating is equal to 5  all-together"
   ]
  },
  {
   "cell_type": "code",
   "execution_count": 33,
   "id": "577af424",
   "metadata": {},
   "outputs": [
    {
     "data": {
      "text/html": [
       "<div>\n",
       "<style scoped>\n",
       "    .dataframe tbody tr th:only-of-type {\n",
       "        vertical-align: middle;\n",
       "    }\n",
       "\n",
       "    .dataframe tbody tr th {\n",
       "        vertical-align: top;\n",
       "    }\n",
       "\n",
       "    .dataframe thead th {\n",
       "        text-align: right;\n",
       "    }\n",
       "</style>\n",
       "<table border=\"1\" class=\"dataframe\">\n",
       "  <thead>\n",
       "    <tr style=\"text-align: right;\">\n",
       "      <th></th>\n",
       "      <th>Title</th>\n",
       "      <th>Review_Text</th>\n",
       "      <th>Ratings</th>\n",
       "    </tr>\n",
       "  </thead>\n",
       "  <tbody>\n",
       "    <tr>\n",
       "      <th>52</th>\n",
       "      <td>Good</td>\n",
       "      <td>Very good👍👍</td>\n",
       "      <td>2</td>\n",
       "    </tr>\n",
       "    <tr>\n",
       "      <th>182</th>\n",
       "      <td>Good</td>\n",
       "      <td>Good but i expect more .</td>\n",
       "      <td>2</td>\n",
       "    </tr>\n",
       "    <tr>\n",
       "      <th>487</th>\n",
       "      <td>Good</td>\n",
       "      <td>Battery Was very Good and backup was morethan ...</td>\n",
       "      <td>2</td>\n",
       "    </tr>\n",
       "    <tr>\n",
       "      <th>542</th>\n",
       "      <td>Good</td>\n",
       "      <td>Better</td>\n",
       "      <td>2</td>\n",
       "    </tr>\n",
       "    <tr>\n",
       "      <th>562</th>\n",
       "      <td>Good</td>\n",
       "      <td>Good</td>\n",
       "      <td>2</td>\n",
       "    </tr>\n",
       "    <tr>\n",
       "      <th>626</th>\n",
       "      <td>Good</td>\n",
       "      <td>Length kafi lengthy lagi .or earbuds ki lenth ...</td>\n",
       "      <td>2</td>\n",
       "    </tr>\n",
       "    <tr>\n",
       "      <th>666</th>\n",
       "      <td>Good</td>\n",
       "      <td>Good</td>\n",
       "      <td>2</td>\n",
       "    </tr>\n",
       "    <tr>\n",
       "      <th>829</th>\n",
       "      <td>Good</td>\n",
       "      <td>Good</td>\n",
       "      <td>2</td>\n",
       "    </tr>\n",
       "    <tr>\n",
       "      <th>873</th>\n",
       "      <td>Good</td>\n",
       "      <td>It's good product this price</td>\n",
       "      <td>2</td>\n",
       "    </tr>\n",
       "    <tr>\n",
       "      <th>4066</th>\n",
       "      <td>Good</td>\n",
       "      <td>Betar</td>\n",
       "      <td>2</td>\n",
       "    </tr>\n",
       "    <tr>\n",
       "      <th>4121</th>\n",
       "      <td>Good</td>\n",
       "      <td>Some heating issue.</td>\n",
       "      <td>2</td>\n",
       "    </tr>\n",
       "    <tr>\n",
       "      <th>4145</th>\n",
       "      <td>Good</td>\n",
       "      <td>Got it with just 1299</td>\n",
       "      <td>2</td>\n",
       "    </tr>\n",
       "    <tr>\n",
       "      <th>4361</th>\n",
       "      <td>Good</td>\n",
       "      <td>Build quality is not too good it broken just i...</td>\n",
       "      <td>2</td>\n",
       "    </tr>\n",
       "    <tr>\n",
       "      <th>4653</th>\n",
       "      <td>Good</td>\n",
       "      <td>Good</td>\n",
       "      <td>2</td>\n",
       "    </tr>\n",
       "    <tr>\n",
       "      <th>4673</th>\n",
       "      <td>Good</td>\n",
       "      <td>This  is product for me 🙂</td>\n",
       "      <td>2</td>\n",
       "    </tr>\n",
       "    <tr>\n",
       "      <th>4677</th>\n",
       "      <td>Good</td>\n",
       "      <td>&amp;nbsp;Its aswome bass is super&lt;br&gt;But i didnt ...</td>\n",
       "      <td>2</td>\n",
       "    </tr>\n",
       "    <tr>\n",
       "      <th>4760</th>\n",
       "      <td>Good</td>\n",
       "      <td>Good</td>\n",
       "      <td>2</td>\n",
       "    </tr>\n",
       "    <tr>\n",
       "      <th>4796</th>\n",
       "      <td>Good</td>\n",
       "      <td>Yes</td>\n",
       "      <td>2</td>\n",
       "    </tr>\n",
       "    <tr>\n",
       "      <th>4924</th>\n",
       "      <td>Good</td>\n",
       "      <td>Mic is not working properly</td>\n",
       "      <td>2</td>\n",
       "    </tr>\n",
       "    <tr>\n",
       "      <th>5008</th>\n",
       "      <td>Good</td>\n",
       "      <td>Good quality, good product, good price, good s...</td>\n",
       "      <td>2</td>\n",
       "    </tr>\n",
       "    <tr>\n",
       "      <th>7338</th>\n",
       "      <td>Good</td>\n",
       "      <td>I am using around a month it's good,  easy to ...</td>\n",
       "      <td>2</td>\n",
       "    </tr>\n",
       "    <tr>\n",
       "      <th>7380</th>\n",
       "      <td>Good</td>\n",
       "      <td>Signal not good</td>\n",
       "      <td>2</td>\n",
       "    </tr>\n",
       "    <tr>\n",
       "      <th>8147</th>\n",
       "      <td>Good</td>\n",
       "      <td>I am using around a month it's good,  easy to ...</td>\n",
       "      <td>2</td>\n",
       "    </tr>\n",
       "    <tr>\n",
       "      <th>8189</th>\n",
       "      <td>Good</td>\n",
       "      <td>Signal not good</td>\n",
       "      <td>2</td>\n",
       "    </tr>\n",
       "    <tr>\n",
       "      <th>8620</th>\n",
       "      <td>Good</td>\n",
       "      <td>Average</td>\n",
       "      <td>2</td>\n",
       "    </tr>\n",
       "    <tr>\n",
       "      <th>9305</th>\n",
       "      <td>Good</td>\n",
       "      <td>I am using around a month it's good,  easy to ...</td>\n",
       "      <td>2</td>\n",
       "    </tr>\n",
       "    <tr>\n",
       "      <th>9347</th>\n",
       "      <td>Good</td>\n",
       "      <td>Signal not good</td>\n",
       "      <td>2</td>\n",
       "    </tr>\n",
       "    <tr>\n",
       "      <th>13211</th>\n",
       "      <td>Good</td>\n",
       "      <td>camera quality is good and phone is best</td>\n",
       "      <td>2</td>\n",
       "    </tr>\n",
       "    <tr>\n",
       "      <th>14132</th>\n",
       "      <td>Good</td>\n",
       "      <td>camera quality is good and phone is best</td>\n",
       "      <td>2</td>\n",
       "    </tr>\n",
       "    <tr>\n",
       "      <th>15053</th>\n",
       "      <td>Good</td>\n",
       "      <td>camera quality is good and phone is best</td>\n",
       "      <td>2</td>\n",
       "    </tr>\n",
       "    <tr>\n",
       "      <th>17175</th>\n",
       "      <td>Good</td>\n",
       "      <td>Battery backup is not good it drains faste .. ...</td>\n",
       "      <td>2</td>\n",
       "    </tr>\n",
       "    <tr>\n",
       "      <th>18084</th>\n",
       "      <td>Good</td>\n",
       "      <td>Good</td>\n",
       "      <td>2</td>\n",
       "    </tr>\n",
       "    <tr>\n",
       "      <th>18109</th>\n",
       "      <td>Good</td>\n",
       "      <td>Very good</td>\n",
       "      <td>2</td>\n",
       "    </tr>\n",
       "    <tr>\n",
       "      <th>18261</th>\n",
       "      <td>Good</td>\n",
       "      <td>Good</td>\n",
       "      <td>2</td>\n",
       "    </tr>\n",
       "    <tr>\n",
       "      <th>18326</th>\n",
       "      <td>Good</td>\n",
       "      <td>Good</td>\n",
       "      <td>2</td>\n",
       "    </tr>\n",
       "    <tr>\n",
       "      <th>19949</th>\n",
       "      <td>Good</td>\n",
       "      <td>Good printer. Worth the money</td>\n",
       "      <td>1</td>\n",
       "    </tr>\n",
       "    <tr>\n",
       "      <th>24529</th>\n",
       "      <td>Good</td>\n",
       "      <td>Good</td>\n",
       "      <td>2</td>\n",
       "    </tr>\n",
       "    <tr>\n",
       "      <th>24651</th>\n",
       "      <td>Good</td>\n",
       "      <td>Very good quality and sound</td>\n",
       "      <td>2</td>\n",
       "    </tr>\n",
       "    <tr>\n",
       "      <th>24669</th>\n",
       "      <td>Good</td>\n",
       "      <td>The packing is very bad</td>\n",
       "      <td>2</td>\n",
       "    </tr>\n",
       "    <tr>\n",
       "      <th>24718</th>\n",
       "      <td>Good</td>\n",
       "      <td>Good product. Not portable we can't use withou...</td>\n",
       "      <td>2</td>\n",
       "    </tr>\n",
       "    <tr>\n",
       "      <th>24752</th>\n",
       "      <td>Good</td>\n",
       "      <td>Good</td>\n",
       "      <td>2</td>\n",
       "    </tr>\n",
       "    <tr>\n",
       "      <th>26306</th>\n",
       "      <td>Good</td>\n",
       "      <td>NOT BAD</td>\n",
       "      <td>1</td>\n",
       "    </tr>\n",
       "  </tbody>\n",
       "</table>\n",
       "</div>"
      ],
      "text/plain": [
       "      Title                                        Review_Text  Ratings\n",
       "52     Good                                        Very good👍👍        2\n",
       "182    Good                           Good but i expect more .        2\n",
       "487    Good  Battery Was very Good and backup was morethan ...        2\n",
       "542    Good                                             Better        2\n",
       "562    Good                                               Good        2\n",
       "626    Good  Length kafi lengthy lagi .or earbuds ki lenth ...        2\n",
       "666    Good                                               Good        2\n",
       "829    Good                                               Good        2\n",
       "873    Good                       It's good product this price        2\n",
       "4066   Good                                              Betar        2\n",
       "4121   Good                                Some heating issue.        2\n",
       "4145   Good                              Got it with just 1299        2\n",
       "4361   Good  Build quality is not too good it broken just i...        2\n",
       "4653   Good                                               Good        2\n",
       "4673   Good                          This  is product for me 🙂        2\n",
       "4677   Good  &nbsp;Its aswome bass is super<br>But i didnt ...        2\n",
       "4760   Good                                               Good        2\n",
       "4796   Good                                                Yes        2\n",
       "4924   Good                        Mic is not working properly        2\n",
       "5008   Good  Good quality, good product, good price, good s...        2\n",
       "7338   Good  I am using around a month it's good,  easy to ...        2\n",
       "7380   Good                                    Signal not good        2\n",
       "8147   Good  I am using around a month it's good,  easy to ...        2\n",
       "8189   Good                                    Signal not good        2\n",
       "8620   Good                                            Average        2\n",
       "9305   Good  I am using around a month it's good,  easy to ...        2\n",
       "9347   Good                                    Signal not good        2\n",
       "13211  Good           camera quality is good and phone is best        2\n",
       "14132  Good           camera quality is good and phone is best        2\n",
       "15053  Good           camera quality is good and phone is best        2\n",
       "17175  Good  Battery backup is not good it drains faste .. ...        2\n",
       "18084  Good                                               Good        2\n",
       "18109  Good                                          Very good        2\n",
       "18261  Good                                               Good        2\n",
       "18326  Good                                               Good        2\n",
       "19949  Good                      Good printer. Worth the money        1\n",
       "24529  Good                                               Good        2\n",
       "24651  Good                        Very good quality and sound        2\n",
       "24669  Good                            The packing is very bad        2\n",
       "24718  Good  Good product. Not portable we can't use withou...        2\n",
       "24752  Good                                               Good        2\n",
       "26306  Good                                            NOT BAD        1"
      ]
     },
     "execution_count": 33,
     "metadata": {},
     "output_type": "execute_result"
    }
   ],
   "source": [
    "df[(df['Ratings']<3) & (df['Title']=='Good')]"
   ]
  },
  {
   "cell_type": "markdown",
   "id": "b171e0cc",
   "metadata": {},
   "source": [
    "##### Above dataframe consist of all the records having rating less than 3 and title as 'good'."
   ]
  },
  {
   "cell_type": "code",
   "execution_count": 34,
   "id": "36931ee5",
   "metadata": {},
   "outputs": [
    {
     "data": {
      "text/html": [
       "<div>\n",
       "<style scoped>\n",
       "    .dataframe tbody tr th:only-of-type {\n",
       "        vertical-align: middle;\n",
       "    }\n",
       "\n",
       "    .dataframe tbody tr th {\n",
       "        vertical-align: top;\n",
       "    }\n",
       "\n",
       "    .dataframe thead th {\n",
       "        text-align: right;\n",
       "    }\n",
       "</style>\n",
       "<table border=\"1\" class=\"dataframe\">\n",
       "  <thead>\n",
       "    <tr style=\"text-align: right;\">\n",
       "      <th></th>\n",
       "      <th>Title</th>\n",
       "      <th>Review_Text</th>\n",
       "      <th>Ratings</th>\n",
       "    </tr>\n",
       "  </thead>\n",
       "  <tbody>\n",
       "    <tr>\n",
       "      <th>52</th>\n",
       "      <td>Good</td>\n",
       "      <td>Very good👍👍</td>\n",
       "      <td>2</td>\n",
       "    </tr>\n",
       "    <tr>\n",
       "      <th>182</th>\n",
       "      <td>Good</td>\n",
       "      <td>Good but i expect more .</td>\n",
       "      <td>2</td>\n",
       "    </tr>\n",
       "    <tr>\n",
       "      <th>487</th>\n",
       "      <td>Good</td>\n",
       "      <td>Battery Was very Good and backup was morethan ...</td>\n",
       "      <td>2</td>\n",
       "    </tr>\n",
       "    <tr>\n",
       "      <th>542</th>\n",
       "      <td>Good</td>\n",
       "      <td>Better</td>\n",
       "      <td>2</td>\n",
       "    </tr>\n",
       "    <tr>\n",
       "      <th>562</th>\n",
       "      <td>Good</td>\n",
       "      <td>Good</td>\n",
       "      <td>2</td>\n",
       "    </tr>\n",
       "    <tr>\n",
       "      <th>...</th>\n",
       "      <td>...</td>\n",
       "      <td>...</td>\n",
       "      <td>...</td>\n",
       "    </tr>\n",
       "    <tr>\n",
       "      <th>26775</th>\n",
       "      <td>Good</td>\n",
       "      <td>This product is very useful</td>\n",
       "      <td>5</td>\n",
       "    </tr>\n",
       "    <tr>\n",
       "      <th>26786</th>\n",
       "      <td>Good</td>\n",
       "      <td>Very good fr time pass</td>\n",
       "      <td>5</td>\n",
       "    </tr>\n",
       "    <tr>\n",
       "      <th>26799</th>\n",
       "      <td>Good</td>\n",
       "      <td>Good product</td>\n",
       "      <td>5</td>\n",
       "    </tr>\n",
       "    <tr>\n",
       "      <th>26823</th>\n",
       "      <td>Good</td>\n",
       "      <td>Good product</td>\n",
       "      <td>5</td>\n",
       "    </tr>\n",
       "    <tr>\n",
       "      <th>26836</th>\n",
       "      <td>Good</td>\n",
       "      <td>Good product by Amazon,  very intelligent and ...</td>\n",
       "      <td>5</td>\n",
       "    </tr>\n",
       "  </tbody>\n",
       "</table>\n",
       "<p>962 rows × 3 columns</p>\n",
       "</div>"
      ],
      "text/plain": [
       "      Title                                        Review_Text  Ratings\n",
       "52     Good                                        Very good👍👍        2\n",
       "182    Good                           Good but i expect more .        2\n",
       "487    Good  Battery Was very Good and backup was morethan ...        2\n",
       "542    Good                                             Better        2\n",
       "562    Good                                               Good        2\n",
       "...     ...                                                ...      ...\n",
       "26775  Good                        This product is very useful        5\n",
       "26786  Good                             Very good fr time pass        5\n",
       "26799  Good                                       Good product        5\n",
       "26823  Good                                       Good product        5\n",
       "26836  Good  Good product by Amazon,  very intelligent and ...        5\n",
       "\n",
       "[962 rows x 3 columns]"
      ]
     },
     "execution_count": 34,
     "metadata": {},
     "output_type": "execute_result"
    }
   ],
   "source": [
    "df[(df['Ratings']>1) & (df['Title']=='Good')]"
   ]
  },
  {
   "cell_type": "markdown",
   "id": "f99570e1",
   "metadata": {},
   "source": [
    "##### Above dataframe consist of all the records having rating greater than 1 and title as 'good'."
   ]
  },
  {
   "cell_type": "code",
   "execution_count": 35,
   "id": "498b2315",
   "metadata": {},
   "outputs": [
    {
     "data": {
      "text/html": [
       "<div>\n",
       "<style scoped>\n",
       "    .dataframe tbody tr th:only-of-type {\n",
       "        vertical-align: middle;\n",
       "    }\n",
       "\n",
       "    .dataframe tbody tr th {\n",
       "        vertical-align: top;\n",
       "    }\n",
       "\n",
       "    .dataframe thead th {\n",
       "        text-align: right;\n",
       "    }\n",
       "</style>\n",
       "<table border=\"1\" class=\"dataframe\">\n",
       "  <thead>\n",
       "    <tr style=\"text-align: right;\">\n",
       "      <th></th>\n",
       "      <th>Title</th>\n",
       "      <th>Review_Text</th>\n",
       "      <th>Ratings</th>\n",
       "    </tr>\n",
       "  </thead>\n",
       "  <tbody>\n",
       "    <tr>\n",
       "      <th>98</th>\n",
       "      <td>Poor</td>\n",
       "      <td>Poor</td>\n",
       "      <td>2</td>\n",
       "    </tr>\n",
       "    <tr>\n",
       "      <th>4731</th>\n",
       "      <td>Poor</td>\n",
       "      <td>Mic doesn't work and noise cancellation is so ...</td>\n",
       "      <td>2</td>\n",
       "    </tr>\n",
       "    <tr>\n",
       "      <th>8659</th>\n",
       "      <td>Poor</td>\n",
       "      <td>Poor product. Poor tech support. Speeds only r...</td>\n",
       "      <td>2</td>\n",
       "    </tr>\n",
       "    <tr>\n",
       "      <th>18201</th>\n",
       "      <td>Poor</td>\n",
       "      <td>Every next week you need cartridge. Way costly...</td>\n",
       "      <td>2</td>\n",
       "    </tr>\n",
       "    <tr>\n",
       "      <th>18878</th>\n",
       "      <td>Poor</td>\n",
       "      <td>Good</td>\n",
       "      <td>3</td>\n",
       "    </tr>\n",
       "  </tbody>\n",
       "</table>\n",
       "</div>"
      ],
      "text/plain": [
       "      Title                                        Review_Text  Ratings\n",
       "98     Poor                                               Poor        2\n",
       "4731   Poor  Mic doesn't work and noise cancellation is so ...        2\n",
       "8659   Poor  Poor product. Poor tech support. Speeds only r...        2\n",
       "18201  Poor  Every next week you need cartridge. Way costly...        2\n",
       "18878  Poor                                               Good        3"
      ]
     },
     "execution_count": 35,
     "metadata": {},
     "output_type": "execute_result"
    }
   ],
   "source": [
    "df[(df['Ratings']>1) & (df['Title']=='Poor')]"
   ]
  },
  {
   "cell_type": "markdown",
   "id": "f9d933b6",
   "metadata": {},
   "source": [
    "##### Above dataframe consist of all the records having rating greater than 1 and title as 'Poor'."
   ]
  },
  {
   "cell_type": "code",
   "execution_count": 36,
   "id": "7626acde",
   "metadata": {},
   "outputs": [
    {
     "data": {
      "text/html": [
       "<div>\n",
       "<style scoped>\n",
       "    .dataframe tbody tr th:only-of-type {\n",
       "        vertical-align: middle;\n",
       "    }\n",
       "\n",
       "    .dataframe tbody tr th {\n",
       "        vertical-align: top;\n",
       "    }\n",
       "\n",
       "    .dataframe thead th {\n",
       "        text-align: right;\n",
       "    }\n",
       "</style>\n",
       "<table border=\"1\" class=\"dataframe\">\n",
       "  <thead>\n",
       "    <tr style=\"text-align: right;\">\n",
       "      <th></th>\n",
       "      <th>Title</th>\n",
       "      <th>Review_Text</th>\n",
       "      <th>Ratings</th>\n",
       "    </tr>\n",
       "  </thead>\n",
       "  <tbody>\n",
       "    <tr>\n",
       "      <th>5039</th>\n",
       "      <td>Good</td>\n",
       "      <td>Good</td>\n",
       "      <td>5</td>\n",
       "    </tr>\n",
       "    <tr>\n",
       "      <th>5065</th>\n",
       "      <td>Good</td>\n",
       "      <td>Good</td>\n",
       "      <td>5</td>\n",
       "    </tr>\n",
       "    <tr>\n",
       "      <th>5066</th>\n",
       "      <td>Good</td>\n",
       "      <td>Good</td>\n",
       "      <td>5</td>\n",
       "    </tr>\n",
       "    <tr>\n",
       "      <th>5093</th>\n",
       "      <td>Good</td>\n",
       "      <td>Good product</td>\n",
       "      <td>5</td>\n",
       "    </tr>\n",
       "    <tr>\n",
       "      <th>5105</th>\n",
       "      <td>Good</td>\n",
       "      <td>Nice</td>\n",
       "      <td>5</td>\n",
       "    </tr>\n",
       "    <tr>\n",
       "      <th>...</th>\n",
       "      <td>...</td>\n",
       "      <td>...</td>\n",
       "      <td>...</td>\n",
       "    </tr>\n",
       "    <tr>\n",
       "      <th>26775</th>\n",
       "      <td>Good</td>\n",
       "      <td>This product is very useful</td>\n",
       "      <td>5</td>\n",
       "    </tr>\n",
       "    <tr>\n",
       "      <th>26786</th>\n",
       "      <td>Good</td>\n",
       "      <td>Very good fr time pass</td>\n",
       "      <td>5</td>\n",
       "    </tr>\n",
       "    <tr>\n",
       "      <th>26799</th>\n",
       "      <td>Good</td>\n",
       "      <td>Good product</td>\n",
       "      <td>5</td>\n",
       "    </tr>\n",
       "    <tr>\n",
       "      <th>26823</th>\n",
       "      <td>Good</td>\n",
       "      <td>Good product</td>\n",
       "      <td>5</td>\n",
       "    </tr>\n",
       "    <tr>\n",
       "      <th>26836</th>\n",
       "      <td>Good</td>\n",
       "      <td>Good product by Amazon,  very intelligent and ...</td>\n",
       "      <td>5</td>\n",
       "    </tr>\n",
       "  </tbody>\n",
       "</table>\n",
       "<p>331 rows × 3 columns</p>\n",
       "</div>"
      ],
      "text/plain": [
       "      Title                                        Review_Text  Ratings\n",
       "5039   Good                                               Good        5\n",
       "5065   Good                                               Good        5\n",
       "5066   Good                                               Good        5\n",
       "5093   Good                                       Good product        5\n",
       "5105   Good                                               Nice        5\n",
       "...     ...                                                ...      ...\n",
       "26775  Good                        This product is very useful        5\n",
       "26786  Good                             Very good fr time pass        5\n",
       "26799  Good                                       Good product        5\n",
       "26823  Good                                       Good product        5\n",
       "26836  Good  Good product by Amazon,  very intelligent and ...        5\n",
       "\n",
       "[331 rows x 3 columns]"
      ]
     },
     "execution_count": 36,
     "metadata": {},
     "output_type": "execute_result"
    }
   ],
   "source": [
    "df[(df['Ratings']==5) & (df['Title']=='Good')]"
   ]
  },
  {
   "cell_type": "markdown",
   "id": "8fa1e0d2",
   "metadata": {},
   "source": [
    "##### Above dataframe consist of all the records having rating as 1 and title as 'Good'."
   ]
  },
  {
   "cell_type": "code",
   "execution_count": 37,
   "id": "d0875be8",
   "metadata": {},
   "outputs": [
    {
     "data": {
      "text/html": [
       "<div>\n",
       "<style scoped>\n",
       "    .dataframe tbody tr th:only-of-type {\n",
       "        vertical-align: middle;\n",
       "    }\n",
       "\n",
       "    .dataframe tbody tr th {\n",
       "        vertical-align: top;\n",
       "    }\n",
       "\n",
       "    .dataframe thead th {\n",
       "        text-align: right;\n",
       "    }\n",
       "</style>\n",
       "<table border=\"1\" class=\"dataframe\">\n",
       "  <thead>\n",
       "    <tr style=\"text-align: right;\">\n",
       "      <th></th>\n",
       "      <th>Title</th>\n",
       "      <th>Review_Text</th>\n",
       "      <th>Ratings</th>\n",
       "    </tr>\n",
       "  </thead>\n",
       "  <tbody>\n",
       "    <tr>\n",
       "      <th>1093</th>\n",
       "      <td>Good</td>\n",
       "      <td>NaN</td>\n",
       "      <td>3</td>\n",
       "    </tr>\n",
       "    <tr>\n",
       "      <th>1100</th>\n",
       "      <td>Good</td>\n",
       "      <td>Good</td>\n",
       "      <td>3</td>\n",
       "    </tr>\n",
       "    <tr>\n",
       "      <th>1160</th>\n",
       "      <td>Good</td>\n",
       "      <td>10 driver for boat model 242 they better</td>\n",
       "      <td>3</td>\n",
       "    </tr>\n",
       "    <tr>\n",
       "      <th>1186</th>\n",
       "      <td>Good</td>\n",
       "      <td>Nice Bluetooth</td>\n",
       "      <td>3</td>\n",
       "    </tr>\n",
       "    <tr>\n",
       "      <th>1238</th>\n",
       "      <td>Good</td>\n",
       "      <td>Good</td>\n",
       "      <td>3</td>\n",
       "    </tr>\n",
       "    <tr>\n",
       "      <th>...</th>\n",
       "      <td>...</td>\n",
       "      <td>...</td>\n",
       "      <td>...</td>\n",
       "    </tr>\n",
       "    <tr>\n",
       "      <th>25303</th>\n",
       "      <td>Good</td>\n",
       "      <td>Good product and good connectivity. Very nice ...</td>\n",
       "      <td>3</td>\n",
       "    </tr>\n",
       "    <tr>\n",
       "      <th>25381</th>\n",
       "      <td>Good</td>\n",
       "      <td>Good experience with the product.</td>\n",
       "      <td>3</td>\n",
       "    </tr>\n",
       "    <tr>\n",
       "      <th>25384</th>\n",
       "      <td>Good</td>\n",
       "      <td>Good</td>\n",
       "      <td>3</td>\n",
       "    </tr>\n",
       "    <tr>\n",
       "      <th>25411</th>\n",
       "      <td>Good</td>\n",
       "      <td>Nothing</td>\n",
       "      <td>3</td>\n",
       "    </tr>\n",
       "    <tr>\n",
       "      <th>25457</th>\n",
       "      <td>Good</td>\n",
       "      <td>Nice</td>\n",
       "      <td>3</td>\n",
       "    </tr>\n",
       "  </tbody>\n",
       "</table>\n",
       "<p>181 rows × 3 columns</p>\n",
       "</div>"
      ],
      "text/plain": [
       "      Title                                        Review_Text  Ratings\n",
       "1093   Good                                                NaN        3\n",
       "1100   Good                                               Good        3\n",
       "1160   Good           10 driver for boat model 242 they better        3\n",
       "1186   Good                                     Nice Bluetooth        3\n",
       "1238   Good                                               Good        3\n",
       "...     ...                                                ...      ...\n",
       "25303  Good  Good product and good connectivity. Very nice ...        3\n",
       "25381  Good                  Good experience with the product.        3\n",
       "25384  Good                                               Good        3\n",
       "25411  Good                                            Nothing        3\n",
       "25457  Good                                               Nice        3\n",
       "\n",
       "[181 rows x 3 columns]"
      ]
     },
     "execution_count": 37,
     "metadata": {},
     "output_type": "execute_result"
    }
   ],
   "source": [
    "df[(df['Ratings']==3) & (df['Title']=='Good')]"
   ]
  },
  {
   "cell_type": "markdown",
   "id": "a593ee02",
   "metadata": {},
   "source": [
    "##### Above dataframe consist of all the records having rating as 3 and title as 'Good'."
   ]
  },
  {
   "cell_type": "code",
   "execution_count": 38,
   "id": "93a91975",
   "metadata": {},
   "outputs": [
    {
     "data": {
      "text/html": [
       "<div>\n",
       "<style scoped>\n",
       "    .dataframe tbody tr th:only-of-type {\n",
       "        vertical-align: middle;\n",
       "    }\n",
       "\n",
       "    .dataframe tbody tr th {\n",
       "        vertical-align: top;\n",
       "    }\n",
       "\n",
       "    .dataframe thead th {\n",
       "        text-align: right;\n",
       "    }\n",
       "</style>\n",
       "<table border=\"1\" class=\"dataframe\">\n",
       "  <thead>\n",
       "    <tr style=\"text-align: right;\">\n",
       "      <th></th>\n",
       "      <th>Title</th>\n",
       "      <th>Review_Text</th>\n",
       "      <th>Ratings</th>\n",
       "    </tr>\n",
       "  </thead>\n",
       "  <tbody>\n",
       "    <tr>\n",
       "      <th>4771</th>\n",
       "      <td>bad</td>\n",
       "      <td>The product sound quality is good if we keep i...</td>\n",
       "      <td>2</td>\n",
       "    </tr>\n",
       "    <tr>\n",
       "      <th>5013</th>\n",
       "      <td>bad</td>\n",
       "      <td>bad</td>\n",
       "      <td>2</td>\n",
       "    </tr>\n",
       "    <tr>\n",
       "      <th>10004</th>\n",
       "      <td>bad</td>\n",
       "      <td>I got used product</td>\n",
       "      <td>1</td>\n",
       "    </tr>\n",
       "    <tr>\n",
       "      <th>16071</th>\n",
       "      <td>bad</td>\n",
       "      <td>bad</td>\n",
       "      <td>1</td>\n",
       "    </tr>\n",
       "    <tr>\n",
       "      <th>16433</th>\n",
       "      <td>bad</td>\n",
       "      <td>bad</td>\n",
       "      <td>1</td>\n",
       "    </tr>\n",
       "    <tr>\n",
       "      <th>16793</th>\n",
       "      <td>bad</td>\n",
       "      <td>bad</td>\n",
       "      <td>1</td>\n",
       "    </tr>\n",
       "    <tr>\n",
       "      <th>18285</th>\n",
       "      <td>bad</td>\n",
       "      <td>bad</td>\n",
       "      <td>2</td>\n",
       "    </tr>\n",
       "    <tr>\n",
       "      <th>21321</th>\n",
       "      <td>bad</td>\n",
       "      <td>bad</td>\n",
       "      <td>5</td>\n",
       "    </tr>\n",
       "    <tr>\n",
       "      <th>25755</th>\n",
       "      <td>bad</td>\n",
       "      <td>when I setup echo dot after 2 hours it told so...</td>\n",
       "      <td>1</td>\n",
       "    </tr>\n",
       "  </tbody>\n",
       "</table>\n",
       "</div>"
      ],
      "text/plain": [
       "      Title                                        Review_Text  Ratings\n",
       "4771    bad  The product sound quality is good if we keep i...        2\n",
       "5013    bad                                                bad        2\n",
       "10004   bad                                 I got used product        1\n",
       "16071   bad                                                bad        1\n",
       "16433   bad                                                bad        1\n",
       "16793   bad                                                bad        1\n",
       "18285   bad                                                bad        2\n",
       "21321   bad                                                bad        5\n",
       "25755   bad  when I setup echo dot after 2 hours it told so...        1"
      ]
     },
     "execution_count": 38,
     "metadata": {},
     "output_type": "execute_result"
    }
   ],
   "source": [
    "df[(df['Title']=='bad')]"
   ]
  },
  {
   "cell_type": "markdown",
   "id": "9b090b32",
   "metadata": {},
   "source": [
    "##### Above dataframe consist of all the records having title of the reviews as 'bad' and it doesn't consist of 3 and 4 ratings"
   ]
  },
  {
   "cell_type": "code",
   "execution_count": 39,
   "id": "2a889839",
   "metadata": {},
   "outputs": [
    {
     "data": {
      "text/html": [
       "<div>\n",
       "<style scoped>\n",
       "    .dataframe tbody tr th:only-of-type {\n",
       "        vertical-align: middle;\n",
       "    }\n",
       "\n",
       "    .dataframe tbody tr th {\n",
       "        vertical-align: top;\n",
       "    }\n",
       "\n",
       "    .dataframe thead th {\n",
       "        text-align: right;\n",
       "    }\n",
       "</style>\n",
       "<table border=\"1\" class=\"dataframe\">\n",
       "  <thead>\n",
       "    <tr style=\"text-align: right;\">\n",
       "      <th></th>\n",
       "      <th>Title</th>\n",
       "      <th>Review_Text</th>\n",
       "      <th>Ratings</th>\n",
       "    </tr>\n",
       "  </thead>\n",
       "  <tbody>\n",
       "    <tr>\n",
       "      <th>816</th>\n",
       "      <td>Bad</td>\n",
       "      <td>In</td>\n",
       "      <td>2</td>\n",
       "    </tr>\n",
       "    <tr>\n",
       "      <th>832</th>\n",
       "      <td>Bad</td>\n",
       "      <td>&amp;nbsp;It won't disconnecting after two magnets...</td>\n",
       "      <td>2</td>\n",
       "    </tr>\n",
       "    <tr>\n",
       "      <th>2228</th>\n",
       "      <td>Bad</td>\n",
       "      <td>So bad</td>\n",
       "      <td>3</td>\n",
       "    </tr>\n",
       "    <tr>\n",
       "      <th>4055</th>\n",
       "      <td>Bad</td>\n",
       "      <td>Sound quality too bad, Others can hear everyth...</td>\n",
       "      <td>2</td>\n",
       "    </tr>\n",
       "    <tr>\n",
       "      <th>4292</th>\n",
       "      <td>Bad</td>\n",
       "      <td>&amp;nbsp;😞 bad</td>\n",
       "      <td>2</td>\n",
       "    </tr>\n",
       "    <tr>\n",
       "      <th>4730</th>\n",
       "      <td>Bad</td>\n",
       "      <td>It sound is bad</td>\n",
       "      <td>2</td>\n",
       "    </tr>\n",
       "    <tr>\n",
       "      <th>4763</th>\n",
       "      <td>Bad</td>\n",
       "      <td>Few days later one side not working</td>\n",
       "      <td>2</td>\n",
       "    </tr>\n",
       "    <tr>\n",
       "      <th>4780</th>\n",
       "      <td>Bad</td>\n",
       "      <td>Very bad quality ... One side on headphone is ...</td>\n",
       "      <td>2</td>\n",
       "    </tr>\n",
       "    <tr>\n",
       "      <th>9120</th>\n",
       "      <td>Bad</td>\n",
       "      <td>Static ip address not able to change this device</td>\n",
       "      <td>2</td>\n",
       "    </tr>\n",
       "    <tr>\n",
       "      <th>9182</th>\n",
       "      <td>Bad</td>\n",
       "      <td>Bad</td>\n",
       "      <td>1</td>\n",
       "    </tr>\n",
       "    <tr>\n",
       "      <th>10632</th>\n",
       "      <td>Bad</td>\n",
       "      <td>Camera is not good , and battery backup is als...</td>\n",
       "      <td>1</td>\n",
       "    </tr>\n",
       "    <tr>\n",
       "      <th>10807</th>\n",
       "      <td>Bad</td>\n",
       "      <td>Sad</td>\n",
       "      <td>1</td>\n",
       "    </tr>\n",
       "    <tr>\n",
       "      <th>11542</th>\n",
       "      <td>Bad</td>\n",
       "      <td>Camera is not good , and battery backup is als...</td>\n",
       "      <td>1</td>\n",
       "    </tr>\n",
       "    <tr>\n",
       "      <th>11717</th>\n",
       "      <td>Bad</td>\n",
       "      <td>Sad</td>\n",
       "      <td>1</td>\n",
       "    </tr>\n",
       "    <tr>\n",
       "      <th>12542</th>\n",
       "      <td>Bad</td>\n",
       "      <td>Camera is not good , and battery backup is als...</td>\n",
       "      <td>1</td>\n",
       "    </tr>\n",
       "    <tr>\n",
       "      <th>12717</th>\n",
       "      <td>Bad</td>\n",
       "      <td>Sad</td>\n",
       "      <td>1</td>\n",
       "    </tr>\n",
       "    <tr>\n",
       "      <th>13186</th>\n",
       "      <td>Bad</td>\n",
       "      <td>Bad</td>\n",
       "      <td>2</td>\n",
       "    </tr>\n",
       "    <tr>\n",
       "      <th>14107</th>\n",
       "      <td>Bad</td>\n",
       "      <td>Bad</td>\n",
       "      <td>2</td>\n",
       "    </tr>\n",
       "    <tr>\n",
       "      <th>15028</th>\n",
       "      <td>Bad</td>\n",
       "      <td>Bad</td>\n",
       "      <td>2</td>\n",
       "    </tr>\n",
       "    <tr>\n",
       "      <th>15942</th>\n",
       "      <td>Bad</td>\n",
       "      <td>&amp;nbsp;Not dish like product charging issu char...</td>\n",
       "      <td>1</td>\n",
       "    </tr>\n",
       "    <tr>\n",
       "      <th>16059</th>\n",
       "      <td>Bad</td>\n",
       "      <td>Bad condition</td>\n",
       "      <td>1</td>\n",
       "    </tr>\n",
       "    <tr>\n",
       "      <th>16304</th>\n",
       "      <td>Bad</td>\n",
       "      <td>&amp;nbsp;Not dish like product charging issu char...</td>\n",
       "      <td>1</td>\n",
       "    </tr>\n",
       "    <tr>\n",
       "      <th>16421</th>\n",
       "      <td>Bad</td>\n",
       "      <td>Bad condition</td>\n",
       "      <td>1</td>\n",
       "    </tr>\n",
       "    <tr>\n",
       "      <th>16664</th>\n",
       "      <td>Bad</td>\n",
       "      <td>&amp;nbsp;Not dish like product charging issu char...</td>\n",
       "      <td>1</td>\n",
       "    </tr>\n",
       "    <tr>\n",
       "      <th>16781</th>\n",
       "      <td>Bad</td>\n",
       "      <td>Bad condition</td>\n",
       "      <td>1</td>\n",
       "    </tr>\n",
       "    <tr>\n",
       "      <th>17922</th>\n",
       "      <td>Bad</td>\n",
       "      <td>Dislike very bad phone one plus nord 2  qualit...</td>\n",
       "      <td>1</td>\n",
       "    </tr>\n",
       "    <tr>\n",
       "      <th>18066</th>\n",
       "      <td>Bad</td>\n",
       "      <td>Not like this</td>\n",
       "      <td>2</td>\n",
       "    </tr>\n",
       "    <tr>\n",
       "      <th>18299</th>\n",
       "      <td>Bad</td>\n",
       "      <td>Very bad</td>\n",
       "      <td>2</td>\n",
       "    </tr>\n",
       "    <tr>\n",
       "      <th>18318</th>\n",
       "      <td>Bad</td>\n",
       "      <td>Bad</td>\n",
       "      <td>2</td>\n",
       "    </tr>\n",
       "    <tr>\n",
       "      <th>18776</th>\n",
       "      <td>Bad</td>\n",
       "      <td>Good for price&lt;br&gt;But cartridge s are too cost...</td>\n",
       "      <td>3</td>\n",
       "    </tr>\n",
       "    <tr>\n",
       "      <th>19180</th>\n",
       "      <td>Bad</td>\n",
       "      <td>Bad</td>\n",
       "      <td>1</td>\n",
       "    </tr>\n",
       "    <tr>\n",
       "      <th>19278</th>\n",
       "      <td>Bad</td>\n",
       "      <td>Broken item</td>\n",
       "      <td>1</td>\n",
       "    </tr>\n",
       "    <tr>\n",
       "      <th>19907</th>\n",
       "      <td>Bad</td>\n",
       "      <td>&amp;nbsp;Very bad product&lt;br&gt;Item defective,,, ca...</td>\n",
       "      <td>1</td>\n",
       "    </tr>\n",
       "    <tr>\n",
       "      <th>20028</th>\n",
       "      <td>Bad</td>\n",
       "      <td>Wrost product ink is very costly an unaffordab...</td>\n",
       "      <td>1</td>\n",
       "    </tr>\n",
       "    <tr>\n",
       "      <th>20064</th>\n",
       "      <td>Bad</td>\n",
       "      <td>Bad...utter junk</td>\n",
       "      <td>1</td>\n",
       "    </tr>\n",
       "    <tr>\n",
       "      <th>20132</th>\n",
       "      <td>Bad</td>\n",
       "      <td>Not working properly</td>\n",
       "      <td>1</td>\n",
       "    </tr>\n",
       "    <tr>\n",
       "      <th>20885</th>\n",
       "      <td>Bad</td>\n",
       "      <td>Printer is not working..plz exchange my produc...</td>\n",
       "      <td>5</td>\n",
       "    </tr>\n",
       "    <tr>\n",
       "      <th>22934</th>\n",
       "      <td>Bad</td>\n",
       "      <td>Done not work with one plus 6.. very annoying</td>\n",
       "      <td>1</td>\n",
       "    </tr>\n",
       "    <tr>\n",
       "      <th>23298</th>\n",
       "      <td>Bad</td>\n",
       "      <td>The watch does not work. We asked Amazon for a...</td>\n",
       "      <td>1</td>\n",
       "    </tr>\n",
       "    <tr>\n",
       "      <th>23738</th>\n",
       "      <td>Bad</td>\n",
       "      <td>Done not work with one plus 6.. very annoying</td>\n",
       "      <td>1</td>\n",
       "    </tr>\n",
       "    <tr>\n",
       "      <th>24090</th>\n",
       "      <td>Bad</td>\n",
       "      <td>The watch does not work. We asked Amazon for a...</td>\n",
       "      <td>1</td>\n",
       "    </tr>\n",
       "    <tr>\n",
       "      <th>24441</th>\n",
       "      <td>Bad</td>\n",
       "      <td>it was not taking kannada songs recognisation ...</td>\n",
       "      <td>2</td>\n",
       "    </tr>\n",
       "    <tr>\n",
       "      <th>24736</th>\n",
       "      <td>Bad</td>\n",
       "      <td>Ok ok same Songs Didn’t play</td>\n",
       "      <td>2</td>\n",
       "    </tr>\n",
       "    <tr>\n",
       "      <th>25859</th>\n",
       "      <td>Bad</td>\n",
       "      <td>Worst smart speakers in the market ... after a...</td>\n",
       "      <td>1</td>\n",
       "    </tr>\n",
       "    <tr>\n",
       "      <th>26072</th>\n",
       "      <td>Bad</td>\n",
       "      <td>Not satisfied</td>\n",
       "      <td>1</td>\n",
       "    </tr>\n",
       "    <tr>\n",
       "      <th>26153</th>\n",
       "      <td>Bad</td>\n",
       "      <td>Bad</td>\n",
       "      <td>1</td>\n",
       "    </tr>\n",
       "    <tr>\n",
       "      <th>26168</th>\n",
       "      <td>Bad</td>\n",
       "      <td>Not good</td>\n",
       "      <td>1</td>\n",
       "    </tr>\n",
       "    <tr>\n",
       "      <th>26174</th>\n",
       "      <td>Bad</td>\n",
       "      <td>Not working 😣😣☹️😣😣😣☹️</td>\n",
       "      <td>1</td>\n",
       "    </tr>\n",
       "    <tr>\n",
       "      <th>26216</th>\n",
       "      <td>Bad</td>\n",
       "      <td>It will not inform the remainders and the soun...</td>\n",
       "      <td>1</td>\n",
       "    </tr>\n",
       "    <tr>\n",
       "      <th>26329</th>\n",
       "      <td>Bad</td>\n",
       "      <td>Dislike</td>\n",
       "      <td>1</td>\n",
       "    </tr>\n",
       "    <tr>\n",
       "      <th>26358</th>\n",
       "      <td>Bad</td>\n",
       "      <td>Bad</td>\n",
       "      <td>1</td>\n",
       "    </tr>\n",
       "    <tr>\n",
       "      <th>26368</th>\n",
       "      <td>Bad</td>\n",
       "      <td>Not as expected</td>\n",
       "      <td>1</td>\n",
       "    </tr>\n",
       "    <tr>\n",
       "      <th>26380</th>\n",
       "      <td>Bad</td>\n",
       "      <td>Not good</td>\n",
       "      <td>1</td>\n",
       "    </tr>\n",
       "  </tbody>\n",
       "</table>\n",
       "</div>"
      ],
      "text/plain": [
       "      Title                                        Review_Text  Ratings\n",
       "816     Bad                                                 In        2\n",
       "832     Bad  &nbsp;It won't disconnecting after two magnets...        2\n",
       "2228    Bad                                             So bad        3\n",
       "4055    Bad  Sound quality too bad, Others can hear everyth...        2\n",
       "4292    Bad                                        &nbsp;😞 bad        2\n",
       "4730    Bad                                    It sound is bad        2\n",
       "4763    Bad                Few days later one side not working        2\n",
       "4780    Bad  Very bad quality ... One side on headphone is ...        2\n",
       "9120    Bad   Static ip address not able to change this device        2\n",
       "9182    Bad                                                Bad        1\n",
       "10632   Bad  Camera is not good , and battery backup is als...        1\n",
       "10807   Bad                                                Sad        1\n",
       "11542   Bad  Camera is not good , and battery backup is als...        1\n",
       "11717   Bad                                                Sad        1\n",
       "12542   Bad  Camera is not good , and battery backup is als...        1\n",
       "12717   Bad                                                Sad        1\n",
       "13186   Bad                                                Bad        2\n",
       "14107   Bad                                                Bad        2\n",
       "15028   Bad                                                Bad        2\n",
       "15942   Bad  &nbsp;Not dish like product charging issu char...        1\n",
       "16059   Bad                                      Bad condition        1\n",
       "16304   Bad  &nbsp;Not dish like product charging issu char...        1\n",
       "16421   Bad                                      Bad condition        1\n",
       "16664   Bad  &nbsp;Not dish like product charging issu char...        1\n",
       "16781   Bad                                      Bad condition        1\n",
       "17922   Bad  Dislike very bad phone one plus nord 2  qualit...        1\n",
       "18066   Bad                                      Not like this        2\n",
       "18299   Bad                                           Very bad        2\n",
       "18318   Bad                                                Bad        2\n",
       "18776   Bad  Good for price<br>But cartridge s are too cost...        3\n",
       "19180   Bad                                                Bad        1\n",
       "19278   Bad                                        Broken item        1\n",
       "19907   Bad  &nbsp;Very bad product<br>Item defective,,, ca...        1\n",
       "20028   Bad  Wrost product ink is very costly an unaffordab...        1\n",
       "20064   Bad                                   Bad...utter junk        1\n",
       "20132   Bad                               Not working properly        1\n",
       "20885   Bad  Printer is not working..plz exchange my produc...        5\n",
       "22934   Bad      Done not work with one plus 6.. very annoying        1\n",
       "23298   Bad  The watch does not work. We asked Amazon for a...        1\n",
       "23738   Bad      Done not work with one plus 6.. very annoying        1\n",
       "24090   Bad  The watch does not work. We asked Amazon for a...        1\n",
       "24441   Bad  it was not taking kannada songs recognisation ...        2\n",
       "24736   Bad                       Ok ok same Songs Didn’t play        2\n",
       "25859   Bad  Worst smart speakers in the market ... after a...        1\n",
       "26072   Bad                                      Not satisfied        1\n",
       "26153   Bad                                                Bad        1\n",
       "26168   Bad                                           Not good        1\n",
       "26174   Bad                              Not working 😣😣☹️😣😣😣☹️        1\n",
       "26216   Bad  It will not inform the remainders and the soun...        1\n",
       "26329   Bad                                            Dislike        1\n",
       "26358   Bad                                                Bad        1\n",
       "26368   Bad                                    Not as expected        1\n",
       "26380   Bad                                           Not good        1"
      ]
     },
     "execution_count": 39,
     "metadata": {},
     "output_type": "execute_result"
    }
   ],
   "source": [
    "df[(df['Title']=='Bad')]"
   ]
  },
  {
   "cell_type": "markdown",
   "id": "de1f2222",
   "metadata": {},
   "source": [
    "##### Above dataframe consist of all the records having title of the reviews as 'Bad' and it doesn't consist rating 4"
   ]
  },
  {
   "cell_type": "code",
   "execution_count": 40,
   "id": "65f84b73",
   "metadata": {},
   "outputs": [
    {
     "data": {
      "text/html": [
       "<div>\n",
       "<style scoped>\n",
       "    .dataframe tbody tr th:only-of-type {\n",
       "        vertical-align: middle;\n",
       "    }\n",
       "\n",
       "    .dataframe tbody tr th {\n",
       "        vertical-align: top;\n",
       "    }\n",
       "\n",
       "    .dataframe thead th {\n",
       "        text-align: right;\n",
       "    }\n",
       "</style>\n",
       "<table border=\"1\" class=\"dataframe\">\n",
       "  <thead>\n",
       "    <tr style=\"text-align: right;\">\n",
       "      <th></th>\n",
       "      <th>Title</th>\n",
       "      <th>Review_Text</th>\n",
       "      <th>Ratings</th>\n",
       "    </tr>\n",
       "  </thead>\n",
       "  <tbody>\n",
       "    <tr>\n",
       "      <th>8833</th>\n",
       "      <td>BAD</td>\n",
       "      <td>The internet keeps disconnecting constantly. T...</td>\n",
       "      <td>1</td>\n",
       "    </tr>\n",
       "  </tbody>\n",
       "</table>\n",
       "</div>"
      ],
      "text/plain": [
       "     Title                                        Review_Text  Ratings\n",
       "8833   BAD  The internet keeps disconnecting constantly. T...        1"
      ]
     },
     "execution_count": 40,
     "metadata": {},
     "output_type": "execute_result"
    }
   ],
   "source": [
    "df[(df['Title']=='BAD')]"
   ]
  },
  {
   "cell_type": "markdown",
   "id": "d5052e32",
   "metadata": {},
   "source": [
    "##### Above dataframe consist of one rating record only having title of the reviews as 'BAD' in uppercase."
   ]
  },
  {
   "cell_type": "code",
   "execution_count": 41,
   "id": "218523d4",
   "metadata": {},
   "outputs": [
    {
     "data": {
      "text/html": [
       "<div>\n",
       "<style scoped>\n",
       "    .dataframe tbody tr th:only-of-type {\n",
       "        vertical-align: middle;\n",
       "    }\n",
       "\n",
       "    .dataframe tbody tr th {\n",
       "        vertical-align: top;\n",
       "    }\n",
       "\n",
       "    .dataframe thead th {\n",
       "        text-align: right;\n",
       "    }\n",
       "</style>\n",
       "<table border=\"1\" class=\"dataframe\">\n",
       "  <thead>\n",
       "    <tr style=\"text-align: right;\">\n",
       "      <th></th>\n",
       "      <th>Title</th>\n",
       "      <th>Review_Text</th>\n",
       "      <th>Ratings</th>\n",
       "    </tr>\n",
       "  </thead>\n",
       "  <tbody>\n",
       "    <tr>\n",
       "      <th>2636</th>\n",
       "      <td>good</td>\n",
       "      <td>&amp;nbsp;good</td>\n",
       "      <td>4</td>\n",
       "    </tr>\n",
       "    <tr>\n",
       "      <th>2679</th>\n",
       "      <td>good</td>\n",
       "      <td>good sound quality</td>\n",
       "      <td>4</td>\n",
       "    </tr>\n",
       "    <tr>\n",
       "      <th>2698</th>\n",
       "      <td>good</td>\n",
       "      <td>good</td>\n",
       "      <td>4</td>\n",
       "    </tr>\n",
       "    <tr>\n",
       "      <th>2732</th>\n",
       "      <td>good</td>\n",
       "      <td>&amp;nbsp;amazing neckband but eartips are less th...</td>\n",
       "      <td>4</td>\n",
       "    </tr>\n",
       "    <tr>\n",
       "      <th>2837</th>\n",
       "      <td>good</td>\n",
       "      <td>good</td>\n",
       "      <td>4</td>\n",
       "    </tr>\n",
       "    <tr>\n",
       "      <th>3106</th>\n",
       "      <td>good</td>\n",
       "      <td>good sound quality and better</td>\n",
       "      <td>4</td>\n",
       "    </tr>\n",
       "    <tr>\n",
       "      <th>3230</th>\n",
       "      <td>good</td>\n",
       "      <td>its soomuch lenghty and  due to more batteries...</td>\n",
       "      <td>4</td>\n",
       "    </tr>\n",
       "    <tr>\n",
       "      <th>4230</th>\n",
       "      <td>good</td>\n",
       "      <td>good headphone but the comfortness is bad.it f...</td>\n",
       "      <td>2</td>\n",
       "    </tr>\n",
       "    <tr>\n",
       "      <th>5548</th>\n",
       "      <td>good</td>\n",
       "      <td>good as expected</td>\n",
       "      <td>5</td>\n",
       "    </tr>\n",
       "    <tr>\n",
       "      <th>5887</th>\n",
       "      <td>good</td>\n",
       "      <td>good</td>\n",
       "      <td>3</td>\n",
       "    </tr>\n",
       "    <tr>\n",
       "      <th>5938</th>\n",
       "      <td>good</td>\n",
       "      <td>good</td>\n",
       "      <td>5</td>\n",
       "    </tr>\n",
       "    <tr>\n",
       "      <th>6287</th>\n",
       "      <td>good</td>\n",
       "      <td>good</td>\n",
       "      <td>3</td>\n",
       "    </tr>\n",
       "    <tr>\n",
       "      <th>6338</th>\n",
       "      <td>good</td>\n",
       "      <td>good</td>\n",
       "      <td>5</td>\n",
       "    </tr>\n",
       "    <tr>\n",
       "      <th>6697</th>\n",
       "      <td>good</td>\n",
       "      <td>good</td>\n",
       "      <td>3</td>\n",
       "    </tr>\n",
       "    <tr>\n",
       "      <th>6748</th>\n",
       "      <td>good</td>\n",
       "      <td>good</td>\n",
       "      <td>5</td>\n",
       "    </tr>\n",
       "    <tr>\n",
       "      <th>7097</th>\n",
       "      <td>good</td>\n",
       "      <td>good</td>\n",
       "      <td>3</td>\n",
       "    </tr>\n",
       "    <tr>\n",
       "      <th>7148</th>\n",
       "      <td>good</td>\n",
       "      <td>good</td>\n",
       "      <td>5</td>\n",
       "    </tr>\n",
       "    <tr>\n",
       "      <th>7521</th>\n",
       "      <td>good</td>\n",
       "      <td>good</td>\n",
       "      <td>5</td>\n",
       "    </tr>\n",
       "    <tr>\n",
       "      <th>7631</th>\n",
       "      <td>good</td>\n",
       "      <td>VERRY GOOD</td>\n",
       "      <td>4</td>\n",
       "    </tr>\n",
       "    <tr>\n",
       "      <th>8430</th>\n",
       "      <td>good</td>\n",
       "      <td>good</td>\n",
       "      <td>5</td>\n",
       "    </tr>\n",
       "    <tr>\n",
       "      <th>8540</th>\n",
       "      <td>good</td>\n",
       "      <td>VERRY GOOD</td>\n",
       "      <td>4</td>\n",
       "    </tr>\n",
       "    <tr>\n",
       "      <th>9588</th>\n",
       "      <td>good</td>\n",
       "      <td>good</td>\n",
       "      <td>5</td>\n",
       "    </tr>\n",
       "    <tr>\n",
       "      <th>9698</th>\n",
       "      <td>good</td>\n",
       "      <td>VERRY GOOD</td>\n",
       "      <td>4</td>\n",
       "    </tr>\n",
       "    <tr>\n",
       "      <th>13683</th>\n",
       "      <td>good</td>\n",
       "      <td>good</td>\n",
       "      <td>5</td>\n",
       "    </tr>\n",
       "    <tr>\n",
       "      <th>13804</th>\n",
       "      <td>good</td>\n",
       "      <td>thanks</td>\n",
       "      <td>5</td>\n",
       "    </tr>\n",
       "    <tr>\n",
       "      <th>14604</th>\n",
       "      <td>good</td>\n",
       "      <td>good</td>\n",
       "      <td>5</td>\n",
       "    </tr>\n",
       "    <tr>\n",
       "      <th>14725</th>\n",
       "      <td>good</td>\n",
       "      <td>thanks</td>\n",
       "      <td>5</td>\n",
       "    </tr>\n",
       "    <tr>\n",
       "      <th>15525</th>\n",
       "      <td>good</td>\n",
       "      <td>good</td>\n",
       "      <td>5</td>\n",
       "    </tr>\n",
       "    <tr>\n",
       "      <th>15646</th>\n",
       "      <td>good</td>\n",
       "      <td>thanks</td>\n",
       "      <td>5</td>\n",
       "    </tr>\n",
       "    <tr>\n",
       "      <th>16066</th>\n",
       "      <td>good</td>\n",
       "      <td>good</td>\n",
       "      <td>1</td>\n",
       "    </tr>\n",
       "    <tr>\n",
       "      <th>16428</th>\n",
       "      <td>good</td>\n",
       "      <td>good</td>\n",
       "      <td>1</td>\n",
       "    </tr>\n",
       "    <tr>\n",
       "      <th>16788</th>\n",
       "      <td>good</td>\n",
       "      <td>good</td>\n",
       "      <td>1</td>\n",
       "    </tr>\n",
       "    <tr>\n",
       "      <th>18668</th>\n",
       "      <td>good</td>\n",
       "      <td>good</td>\n",
       "      <td>3</td>\n",
       "    </tr>\n",
       "    <tr>\n",
       "      <th>18872</th>\n",
       "      <td>good</td>\n",
       "      <td>good</td>\n",
       "      <td>3</td>\n",
       "    </tr>\n",
       "    <tr>\n",
       "      <th>20384</th>\n",
       "      <td>good</td>\n",
       "      <td>good</td>\n",
       "      <td>5</td>\n",
       "    </tr>\n",
       "    <tr>\n",
       "      <th>20452</th>\n",
       "      <td>good</td>\n",
       "      <td>quality product , work fine</td>\n",
       "      <td>5</td>\n",
       "    </tr>\n",
       "    <tr>\n",
       "      <th>20683</th>\n",
       "      <td>good</td>\n",
       "      <td>printer is good</td>\n",
       "      <td>5</td>\n",
       "    </tr>\n",
       "    <tr>\n",
       "      <th>20948</th>\n",
       "      <td>good</td>\n",
       "      <td>i dont get software cd in the box</td>\n",
       "      <td>5</td>\n",
       "    </tr>\n",
       "    <tr>\n",
       "      <th>21769</th>\n",
       "      <td>good</td>\n",
       "      <td>very nice product!&lt;br&gt;but ink price is high bu...</td>\n",
       "      <td>4</td>\n",
       "    </tr>\n",
       "    <tr>\n",
       "      <th>21885</th>\n",
       "      <td>good</td>\n",
       "      <td>printer is nice</td>\n",
       "      <td>4</td>\n",
       "    </tr>\n",
       "    <tr>\n",
       "      <th>22061</th>\n",
       "      <td>good</td>\n",
       "      <td>expensive management</td>\n",
       "      <td>4</td>\n",
       "    </tr>\n",
       "    <tr>\n",
       "      <th>22108</th>\n",
       "      <td>good</td>\n",
       "      <td>Good</td>\n",
       "      <td>4</td>\n",
       "    </tr>\n",
       "    <tr>\n",
       "      <th>22187</th>\n",
       "      <td>good</td>\n",
       "      <td>good</td>\n",
       "      <td>4</td>\n",
       "    </tr>\n",
       "    <tr>\n",
       "      <th>22191</th>\n",
       "      <td>good</td>\n",
       "      <td>good</td>\n",
       "      <td>4</td>\n",
       "    </tr>\n",
       "    <tr>\n",
       "      <th>22354</th>\n",
       "      <td>good</td>\n",
       "      <td>its nice one good for personal or home use</td>\n",
       "      <td>4</td>\n",
       "    </tr>\n",
       "    <tr>\n",
       "      <th>22355</th>\n",
       "      <td>good</td>\n",
       "      <td>good</td>\n",
       "      <td>4</td>\n",
       "    </tr>\n",
       "    <tr>\n",
       "      <th>22524</th>\n",
       "      <td>good</td>\n",
       "      <td>Worth money, good quality</td>\n",
       "      <td>4</td>\n",
       "    </tr>\n",
       "    <tr>\n",
       "      <th>22584</th>\n",
       "      <td>good</td>\n",
       "      <td>Good</td>\n",
       "      <td>4</td>\n",
       "    </tr>\n",
       "    <tr>\n",
       "      <th>23134</th>\n",
       "      <td>good</td>\n",
       "      <td>good</td>\n",
       "      <td>5</td>\n",
       "    </tr>\n",
       "    <tr>\n",
       "      <th>23938</th>\n",
       "      <td>good</td>\n",
       "      <td>good</td>\n",
       "      <td>5</td>\n",
       "    </tr>\n",
       "    <tr>\n",
       "      <th>24887</th>\n",
       "      <td>good</td>\n",
       "      <td>good</td>\n",
       "      <td>3</td>\n",
       "    </tr>\n",
       "    <tr>\n",
       "      <th>26534</th>\n",
       "      <td>good</td>\n",
       "      <td>good</td>\n",
       "      <td>5</td>\n",
       "    </tr>\n",
       "  </tbody>\n",
       "</table>\n",
       "</div>"
      ],
      "text/plain": [
       "      Title                                        Review_Text  Ratings\n",
       "2636   good                                         &nbsp;good        4\n",
       "2679   good                                 good sound quality        4\n",
       "2698   good                                               good        4\n",
       "2732   good  &nbsp;amazing neckband but eartips are less th...        4\n",
       "2837   good                                               good        4\n",
       "3106   good                      good sound quality and better        4\n",
       "3230   good  its soomuch lenghty and  due to more batteries...        4\n",
       "4230   good  good headphone but the comfortness is bad.it f...        2\n",
       "5548   good                                   good as expected        5\n",
       "5887   good                                               good        3\n",
       "5938   good                                               good        5\n",
       "6287   good                                               good        3\n",
       "6338   good                                               good        5\n",
       "6697   good                                               good        3\n",
       "6748   good                                               good        5\n",
       "7097   good                                               good        3\n",
       "7148   good                                               good        5\n",
       "7521   good                                               good        5\n",
       "7631   good                                         VERRY GOOD        4\n",
       "8430   good                                               good        5\n",
       "8540   good                                         VERRY GOOD        4\n",
       "9588   good                                               good        5\n",
       "9698   good                                         VERRY GOOD        4\n",
       "13683  good                                               good        5\n",
       "13804  good                                             thanks        5\n",
       "14604  good                                               good        5\n",
       "14725  good                                             thanks        5\n",
       "15525  good                                               good        5\n",
       "15646  good                                             thanks        5\n",
       "16066  good                                               good        1\n",
       "16428  good                                               good        1\n",
       "16788  good                                               good        1\n",
       "18668  good                                               good        3\n",
       "18872  good                                               good        3\n",
       "20384  good                                               good        5\n",
       "20452  good                        quality product , work fine        5\n",
       "20683  good                                    printer is good        5\n",
       "20948  good                  i dont get software cd in the box        5\n",
       "21769  good  very nice product!<br>but ink price is high bu...        4\n",
       "21885  good                                    printer is nice        4\n",
       "22061  good                               expensive management        4\n",
       "22108  good                                               Good        4\n",
       "22187  good                                               good        4\n",
       "22191  good                                               good        4\n",
       "22354  good         its nice one good for personal or home use        4\n",
       "22355  good                                               good        4\n",
       "22524  good                          Worth money, good quality        4\n",
       "22584  good                                               Good        4\n",
       "23134  good                                               good        5\n",
       "23938  good                                               good        5\n",
       "24887  good                                               good        3\n",
       "26534  good                                               good        5"
      ]
     },
     "execution_count": 41,
     "metadata": {},
     "output_type": "execute_result"
    }
   ],
   "source": [
    "df[(df['Title']=='good')]"
   ]
  },
  {
   "cell_type": "markdown",
   "id": "711aafd6",
   "metadata": {},
   "source": [
    "##### Above dataframe consist of all the records having title of the reviews as 'good' in lowercase and this consist of all the ratings except 2."
   ]
  },
  {
   "cell_type": "markdown",
   "id": "9c31c67d",
   "metadata": {},
   "source": [
    "##### After analysing above dataframes what i can observe that there are lots of reviews having same meaning but some are written in uppercase and some are in lowercase,so i'm going to replace the similar words with a single parameter and that would definitely reduce the noise in the dataset "
   ]
  },
  {
   "cell_type": "code",
   "execution_count": 42,
   "id": "63d60fb3",
   "metadata": {},
   "outputs": [],
   "source": [
    "#replacing as Good\n",
    "df['Title'] = df['Title']. replace(['good', 'GOOD'], 'Good')"
   ]
  },
  {
   "cell_type": "code",
   "execution_count": 43,
   "id": "b4b54f6c",
   "metadata": {},
   "outputs": [],
   "source": [
    "#replacing as Bad\n",
    "df['Title'] = df['Title'].replace(['bad', 'BAD'], 'Bad')"
   ]
  },
  {
   "cell_type": "markdown",
   "id": "296db2bd",
   "metadata": {},
   "source": [
    "### SimpleImputer\n",
    "##### To replace nan values of categorical columns w.r.t. mode "
   ]
  },
  {
   "cell_type": "code",
   "execution_count": 44,
   "id": "ae85db87",
   "metadata": {},
   "outputs": [],
   "source": [
    "from sklearn.impute import SimpleImputer"
   ]
  },
  {
   "cell_type": "code",
   "execution_count": 45,
   "id": "d59d2a68",
   "metadata": {},
   "outputs": [],
   "source": [
    "#replacing nan of categorical columns with mode\n",
    "for i in categorical_columns:\n",
    "    df[i]=SimpleImputer(missing_values=np.nan,strategy='most_frequent').fit_transform(df[i].values.reshape(-1,1))"
   ]
  },
  {
   "cell_type": "code",
   "execution_count": 46,
   "id": "cc098698",
   "metadata": {},
   "outputs": [
    {
     "data": {
      "text/plain": [
       "0"
      ]
     },
     "execution_count": 46,
     "metadata": {},
     "output_type": "execute_result"
    }
   ],
   "source": [
    "df.isnull().sum().sum()"
   ]
  },
  {
   "cell_type": "markdown",
   "id": "7e153900",
   "metadata": {},
   "source": [
    "##### We've successfully replaced all the nan values present in the dataset."
   ]
  },
  {
   "cell_type": "markdown",
   "id": "2175baa0",
   "metadata": {},
   "source": [
    "### Encoding\n",
    "##### Now I'll convert all the categorical columns into numeric one by applying label encoder technique\n",
    "### Label Encoder "
   ]
  },
  {
   "cell_type": "code",
   "execution_count": 47,
   "id": "978c05ae",
   "metadata": {},
   "outputs": [],
   "source": [
    "import sklearn\n",
    "from sklearn.preprocessing import LabelEncoder"
   ]
  },
  {
   "cell_type": "code",
   "execution_count": 48,
   "id": "64c1fef2",
   "metadata": {},
   "outputs": [],
   "source": [
    "for j in categorical_columns:\n",
    "    df[j]=LabelEncoder().fit_transform(df[j].astype(str))"
   ]
  },
  {
   "cell_type": "markdown",
   "id": "02e263a3",
   "metadata": {},
   "source": [
    "##### As we can see in the following dataframe our object value is replaced with corresponding numeric value"
   ]
  },
  {
   "cell_type": "code",
   "execution_count": 49,
   "id": "c2099f30",
   "metadata": {},
   "outputs": [
    {
     "data": {
      "text/html": [
       "<div>\n",
       "<style scoped>\n",
       "    .dataframe tbody tr th:only-of-type {\n",
       "        vertical-align: middle;\n",
       "    }\n",
       "\n",
       "    .dataframe tbody tr th {\n",
       "        vertical-align: top;\n",
       "    }\n",
       "\n",
       "    .dataframe thead th {\n",
       "        text-align: right;\n",
       "    }\n",
       "</style>\n",
       "<table border=\"1\" class=\"dataframe\">\n",
       "  <thead>\n",
       "    <tr style=\"text-align: right;\">\n",
       "      <th></th>\n",
       "      <th>Title</th>\n",
       "      <th>Review_Text</th>\n",
       "      <th>Ratings</th>\n",
       "    </tr>\n",
       "  </thead>\n",
       "  <tbody>\n",
       "    <tr>\n",
       "      <th>0</th>\n",
       "      <td>11874</td>\n",
       "      <td>1220</td>\n",
       "      <td>2</td>\n",
       "    </tr>\n",
       "    <tr>\n",
       "      <th>1</th>\n",
       "      <td>14035</td>\n",
       "      <td>16843</td>\n",
       "      <td>2</td>\n",
       "    </tr>\n",
       "    <tr>\n",
       "      <th>2</th>\n",
       "      <td>8267</td>\n",
       "      <td>3803</td>\n",
       "      <td>2</td>\n",
       "    </tr>\n",
       "    <tr>\n",
       "      <th>3</th>\n",
       "      <td>9726</td>\n",
       "      <td>11271</td>\n",
       "      <td>2</td>\n",
       "    </tr>\n",
       "    <tr>\n",
       "      <th>4</th>\n",
       "      <td>7158</td>\n",
       "      <td>5941</td>\n",
       "      <td>2</td>\n",
       "    </tr>\n",
       "  </tbody>\n",
       "</table>\n",
       "</div>"
      ],
      "text/plain": [
       "   Title  Review_Text  Ratings\n",
       "0  11874         1220        2\n",
       "1  14035        16843        2\n",
       "2   8267         3803        2\n",
       "3   9726        11271        2\n",
       "4   7158         5941        2"
      ]
     },
     "execution_count": 49,
     "metadata": {},
     "output_type": "execute_result"
    }
   ],
   "source": [
    "df.head()"
   ]
  },
  {
   "cell_type": "code",
   "execution_count": 50,
   "id": "bef0c8cb",
   "metadata": {},
   "outputs": [
    {
     "data": {
      "text/html": [
       "<div>\n",
       "<style scoped>\n",
       "    .dataframe tbody tr th:only-of-type {\n",
       "        vertical-align: middle;\n",
       "    }\n",
       "\n",
       "    .dataframe tbody tr th {\n",
       "        vertical-align: top;\n",
       "    }\n",
       "\n",
       "    .dataframe thead th {\n",
       "        text-align: right;\n",
       "    }\n",
       "</style>\n",
       "<table border=\"1\" class=\"dataframe\">\n",
       "  <thead>\n",
       "    <tr style=\"text-align: right;\">\n",
       "      <th></th>\n",
       "      <th>Title</th>\n",
       "      <th>Review_Text</th>\n",
       "      <th>Ratings</th>\n",
       "    </tr>\n",
       "  </thead>\n",
       "  <tbody>\n",
       "    <tr>\n",
       "      <th>26835</th>\n",
       "      <td>2671</td>\n",
       "      <td>91</td>\n",
       "      <td>5</td>\n",
       "    </tr>\n",
       "    <tr>\n",
       "      <th>26836</th>\n",
       "      <td>4114</td>\n",
       "      <td>4737</td>\n",
       "      <td>5</td>\n",
       "    </tr>\n",
       "    <tr>\n",
       "      <th>26837</th>\n",
       "      <td>10806</td>\n",
       "      <td>12569</td>\n",
       "      <td>5</td>\n",
       "    </tr>\n",
       "    <tr>\n",
       "      <th>26838</th>\n",
       "      <td>12228</td>\n",
       "      <td>6227</td>\n",
       "      <td>5</td>\n",
       "    </tr>\n",
       "    <tr>\n",
       "      <th>26839</th>\n",
       "      <td>6226</td>\n",
       "      <td>7904</td>\n",
       "      <td>5</td>\n",
       "    </tr>\n",
       "  </tbody>\n",
       "</table>\n",
       "</div>"
      ],
      "text/plain": [
       "       Title  Review_Text  Ratings\n",
       "26835   2671           91        5\n",
       "26836   4114         4737        5\n",
       "26837  10806        12569        5\n",
       "26838  12228         6227        5\n",
       "26839   6226         7904        5"
      ]
     },
     "execution_count": 50,
     "metadata": {},
     "output_type": "execute_result"
    }
   ],
   "source": [
    "df.tail()"
   ]
  },
  {
   "cell_type": "markdown",
   "id": "3b4eec3c",
   "metadata": {},
   "source": [
    "### 2.ViolinPlot"
   ]
  },
  {
   "cell_type": "code",
   "execution_count": 51,
   "id": "b4654057",
   "metadata": {
    "scrolled": true
   },
   "outputs": [
    {
     "name": "stdout",
     "output_type": "stream",
     "text": [
      "The Violin-Plot for the attribute \"Title\" is-\n",
      " AxesSubplot(0.125,0.125;0.775x0.755)\n"
     ]
    },
    {
     "data": {
      "image/png": "[encoded data removed]",
      "text/plain": [
       "<Figure size 432x288 with 1 Axes>"
      ]
     },
     "metadata": {
      "needs_background": "light"
     },
     "output_type": "display_data"
    },
    {
     "name": "stdout",
     "output_type": "stream",
     "text": [
      "\n",
      "\n",
      "The Violin-Plot for the attribute \"Review_Text\" is-\n",
      " AxesSubplot(0.125,0.125;0.775x0.755)\n"
     ]
    },
    {
     "data": {
      "image/png": "[encoded data removed]",
      "text/plain": [
       "<Figure size 432x288 with 1 Axes>"
      ]
     },
     "metadata": {
      "needs_background": "light"
     },
     "output_type": "display_data"
    },
    {
     "name": "stdout",
     "output_type": "stream",
     "text": [
      "\n",
      "\n",
      "The Violin-Plot for the attribute \"Ratings\" is-\n",
      " AxesSubplot(0.125,0.125;0.775x0.755)\n"
     ]
    },
    {
     "data": {
      "image/png": "[encoded data removed]",
      "text/plain": [
       "<Figure size 432x288 with 1 Axes>"
      ]
     },
     "metadata": {
      "needs_background": "light"
     },
     "output_type": "display_data"
    },
    {
     "name": "stdout",
     "output_type": "stream",
     "text": [
      "\n",
      "\n"
     ]
    }
   ],
   "source": [
    "for i in df.columns:\n",
    "    print(f'The Violin-Plot for the attribute \"{i}\" is-\\n {sns.violinplot(df[i],color=\"c\")}')\n",
    "    plt.xticks(rotation=90)\n",
    "    plt.show()\n",
    "    print('\\n')"
   ]
  },
  {
   "cell_type": "markdown",
   "id": "1a1b4898",
   "metadata": {},
   "source": [
    "### 3.Pairplot"
   ]
  },
  {
   "cell_type": "code",
   "execution_count": 52,
   "id": "8a6ae9ac",
   "metadata": {},
   "outputs": [
    {
     "data": {
      "image/png": "[encoded data removed]",
      "text/plain": [
       "<Figure size 540x540 with 12 Axes>"
      ]
     },
     "metadata": {
      "needs_background": "light"
     },
     "output_type": "display_data"
    }
   ],
   "source": [
    "sns.pairplot(df)\n",
    "plt.show()"
   ]
  },
  {
   "cell_type": "markdown",
   "id": "5c84ab4e",
   "metadata": {},
   "source": [
    "##### As we can see in the above pairplot there is no such strong relationship exist b/w the attributes"
   ]
  },
  {
   "cell_type": "markdown",
   "id": "b60e18bb",
   "metadata": {},
   "source": [
    "### Descriptive Statistics"
   ]
  },
  {
   "cell_type": "code",
   "execution_count": 53,
   "id": "bfad958b",
   "metadata": {},
   "outputs": [
    {
     "data": {
      "text/html": [
       "<div>\n",
       "<style scoped>\n",
       "    .dataframe tbody tr th:only-of-type {\n",
       "        vertical-align: middle;\n",
       "    }\n",
       "\n",
       "    .dataframe tbody tr th {\n",
       "        vertical-align: top;\n",
       "    }\n",
       "\n",
       "    .dataframe thead th {\n",
       "        text-align: right;\n",
       "    }\n",
       "</style>\n",
       "<table border=\"1\" class=\"dataframe\">\n",
       "  <thead>\n",
       "    <tr style=\"text-align: right;\">\n",
       "      <th></th>\n",
       "      <th>count</th>\n",
       "      <th>mean</th>\n",
       "      <th>std</th>\n",
       "      <th>min</th>\n",
       "      <th>25%</th>\n",
       "      <th>50%</th>\n",
       "      <th>75%</th>\n",
       "      <th>max</th>\n",
       "    </tr>\n",
       "  </thead>\n",
       "  <tbody>\n",
       "    <tr>\n",
       "      <th>Title</th>\n",
       "      <td>26840.0</td>\n",
       "      <td>6899.369113</td>\n",
       "      <td>3996.532448</td>\n",
       "      <td>0.0</td>\n",
       "      <td>3751.75</td>\n",
       "      <td>6974.0</td>\n",
       "      <td>10329.25</td>\n",
       "      <td>14099.0</td>\n",
       "    </tr>\n",
       "    <tr>\n",
       "      <th>Review_Text</th>\n",
       "      <td>26840.0</td>\n",
       "      <td>8150.441319</td>\n",
       "      <td>4821.992418</td>\n",
       "      <td>0.0</td>\n",
       "      <td>4295.75</td>\n",
       "      <td>7990.5</td>\n",
       "      <td>12333.25</td>\n",
       "      <td>16907.0</td>\n",
       "    </tr>\n",
       "    <tr>\n",
       "      <th>Ratings</th>\n",
       "      <td>26840.0</td>\n",
       "      <td>3.003875</td>\n",
       "      <td>1.425832</td>\n",
       "      <td>1.0</td>\n",
       "      <td>2.00</td>\n",
       "      <td>3.0</td>\n",
       "      <td>4.00</td>\n",
       "      <td>5.0</td>\n",
       "    </tr>\n",
       "  </tbody>\n",
       "</table>\n",
       "</div>"
      ],
      "text/plain": [
       "               count         mean          std  min      25%     50%  \\\n",
       "Title        26840.0  6899.369113  3996.532448  0.0  3751.75  6974.0   \n",
       "Review_Text  26840.0  8150.441319  4821.992418  0.0  4295.75  7990.5   \n",
       "Ratings      26840.0     3.003875     1.425832  1.0     2.00     3.0   \n",
       "\n",
       "                  75%      max  \n",
       "Title        10329.25  14099.0  \n",
       "Review_Text  12333.25  16907.0  \n",
       "Ratings          4.00      5.0  "
      ]
     },
     "execution_count": 53,
     "metadata": {},
     "output_type": "execute_result"
    }
   ],
   "source": [
    "df.describe().T"
   ]
  },
  {
   "cell_type": "markdown",
   "id": "59dee8b3",
   "metadata": {},
   "source": [
    "##### We can see that attributes Title has more median than it's mean and that indicates that there may be possibility of outliers presence and that we'll check further"
   ]
  },
  {
   "cell_type": "code",
   "execution_count": 54,
   "id": "e1f713e5",
   "metadata": {},
   "outputs": [
    {
     "data": {
      "image/png": "[encoded data removed]",
      "text/plain": [
       "<Figure size 576x432 with 2 Axes>"
      ]
     },
     "metadata": {
      "needs_background": "light"
     },
     "output_type": "display_data"
    }
   ],
   "source": [
    "#Heatmap representation of central tendency\n",
    "plt.figure(figsize=(8,6))\n",
    "sns.heatmap(df.describe()[1:].transpose(),annot=True,linecolor='Green',linewidth='0.5',fmt='0.2f')\n",
    "plt.title('Heatmap Representation of Descriptive Statistics',fontsize=14)\n",
    "plt.show()"
   ]
  },
  {
   "cell_type": "markdown",
   "id": "24541d80",
   "metadata": {},
   "source": [
    "### Correlation"
   ]
  },
  {
   "cell_type": "code",
   "execution_count": 55,
   "id": "8841f066",
   "metadata": {},
   "outputs": [
    {
     "data": {
      "text/plain": [
       "Title         -0.120468\n",
       "Review_Text   -0.076988\n",
       "Ratings        1.000000\n",
       "Name: Ratings, dtype: float64"
      ]
     },
     "execution_count": 55,
     "metadata": {},
     "output_type": "execute_result"
    }
   ],
   "source": [
    "df.corr()['Ratings'].sort_values()"
   ]
  },
  {
   "cell_type": "markdown",
   "id": "8ab062c0",
   "metadata": {},
   "source": [
    "##### There is no such strong positive and negative relation exist among the variables and also no two variables are strongly correlated w.r.t. each other."
   ]
  },
  {
   "cell_type": "code",
   "execution_count": 56,
   "id": "56a767b4",
   "metadata": {},
   "outputs": [
    {
     "data": {
      "image/png": "[encoded data removed]",
      "text/plain": [
       "<Figure size 576x432 with 2 Axes>"
      ]
     },
     "metadata": {
      "needs_background": "light"
     },
     "output_type": "display_data"
    }
   ],
   "source": [
    "plt.figure(figsize=(8,6))\n",
    "sns.heatmap(df.corr(),annot=True,linecolor='green',linewidth='1',fmt='0.2f')\n",
    "plt.title('Heatmap Representation of Correlation',fontsize=14)\n",
    "plt.show()"
   ]
  },
  {
   "cell_type": "markdown",
   "id": "561595ea",
   "metadata": {},
   "source": [
    "As we can see that no attribute is highly correlated with our target variable 'Ratings' as all are them negatively correlated with the target variable and which might give us important relation as well. Negative correlation means if input is +ve then output is -ve and vice-versa whereas, Positive correlation means if input is +ve then output would also be +ve and vice-versa. Also we'll not remove any categorical columns in this process"
   ]
  },
  {
   "cell_type": "markdown",
   "id": "6fd60071",
   "metadata": {},
   "source": [
    "### Multicollinearity"
   ]
  },
  {
   "cell_type": "code",
   "execution_count": 57,
   "id": "9cf8edd0",
   "metadata": {},
   "outputs": [
    {
     "data": {
      "image/png": "[encoded data removed]",
      "text/plain": [
       "<Figure size 432x288 with 1 Axes>"
      ]
     },
     "metadata": {
      "needs_background": "light"
     },
     "output_type": "display_data"
    }
   ],
   "source": [
    "df.corr()['Ratings'].drop(['Ratings']).plot(kind='bar',color='r')\n",
    "plt.show()"
   ]
  },
  {
   "cell_type": "markdown",
   "id": "7848fe56",
   "metadata": {},
   "source": [
    "##### i'll check the multicollinearity score later in the Data Cleansing portion when i'll be calculating the Variance inflation factor."
   ]
  },
  {
   "cell_type": "markdown",
   "id": "e504ef02",
   "metadata": {},
   "source": [
    "### Skewness"
   ]
  },
  {
   "cell_type": "code",
   "execution_count": 58,
   "id": "0834ee3f",
   "metadata": {},
   "outputs": [
    {
     "data": {
      "text/plain": [
       "Ratings       -0.005737\n",
       "Title          0.062791\n",
       "Review_Text    0.130442\n",
       "dtype: float64"
      ]
     },
     "execution_count": 58,
     "metadata": {},
     "output_type": "execute_result"
    }
   ],
   "source": [
    "df.skew().sort_values()"
   ]
  },
  {
   "cell_type": "markdown",
   "id": "b3624bd5",
   "metadata": {},
   "source": [
    "##### The threshold value of Skewness is +/=0.5. As we can see that our attributes are in the range and dataset are almost normally distributed"
   ]
  },
  {
   "cell_type": "markdown",
   "id": "cff27821",
   "metadata": {},
   "source": [
    "### Distribution Plot"
   ]
  },
  {
   "cell_type": "markdown",
   "id": "5fac4296",
   "metadata": {},
   "source": [
    "##### Here we can now check the normal distribution pattern for each attribute"
   ]
  },
  {
   "cell_type": "code",
   "execution_count": 59,
   "id": "3996e805",
   "metadata": {
    "scrolled": true
   },
   "outputs": [
    {
     "name": "stdout",
     "output_type": "stream",
     "text": [
      "The Distribution Plot for attribute \"Title\" is-\n",
      " AxesSubplot(0.125,0.125;0.775x0.755)\n"
     ]
    },
    {
     "data": {
      "image/png": "[encoded data removed]",
      "text/plain": [
       "<Figure size 432x288 with 1 Axes>"
      ]
     },
     "metadata": {
      "needs_background": "light"
     },
     "output_type": "display_data"
    },
    {
     "name": "stdout",
     "output_type": "stream",
     "text": [
      "\n",
      "\n",
      "The Distribution Plot for attribute \"Review_Text\" is-\n",
      " AxesSubplot(0.125,0.125;0.775x0.755)\n"
     ]
    },
    {
     "data": {
      "image/png": "[encoded data removed]",
      "text/plain": [
       "<Figure size 432x288 with 1 Axes>"
      ]
     },
     "metadata": {
      "needs_background": "light"
     },
     "output_type": "display_data"
    },
    {
     "name": "stdout",
     "output_type": "stream",
     "text": [
      "\n",
      "\n",
      "The Distribution Plot for attribute \"Ratings\" is-\n",
      " AxesSubplot(0.125,0.125;0.775x0.755)\n"
     ]
    },
    {
     "data": {
      "image/png": "[encoded data removed]",
      "text/plain": [
       "<Figure size 432x288 with 1 Axes>"
      ]
     },
     "metadata": {
      "needs_background": "light"
     },
     "output_type": "display_data"
    },
    {
     "name": "stdout",
     "output_type": "stream",
     "text": [
      "\n",
      "\n"
     ]
    }
   ],
   "source": [
    "for i in df.columns:\n",
    "    print(f'The Distribution Plot for attribute \"{i}\" is-\\n {sns.distplot(df[i])}')\n",
    "    plt.show()\n",
    "    print('\\n')"
   ]
  },
  {
   "cell_type": "markdown",
   "id": "06b7f849",
   "metadata": {},
   "source": [
    "##### As we can see that there is no strong skewness present in the dataset as well"
   ]
  },
  {
   "cell_type": "markdown",
   "id": "fb9055a1",
   "metadata": {},
   "source": [
    "### Outliers"
   ]
  },
  {
   "cell_type": "code",
   "execution_count": 60,
   "id": "f4411455",
   "metadata": {},
   "outputs": [
    {
     "data": {
      "text/plain": [
       "(array([], dtype=int64), array([], dtype=int64))"
      ]
     },
     "execution_count": 60,
     "metadata": {},
     "output_type": "execute_result"
    }
   ],
   "source": [
    "z=np.abs(zscore(df))\n",
    "np.where(z>3)"
   ]
  },
  {
   "cell_type": "markdown",
   "id": "534b0445",
   "metadata": {},
   "source": [
    "### Boxplots To check the Outliers"
   ]
  },
  {
   "cell_type": "code",
   "execution_count": 61,
   "id": "1ff63733",
   "metadata": {
    "scrolled": true
   },
   "outputs": [
    {
     "name": "stdout",
     "output_type": "stream",
     "text": [
      "The Box-Plot for attribute \"Title\" is-\n",
      " AxesSubplot(0.125,0.125;0.775x0.755)\n"
     ]
    },
    {
     "data": {
      "image/png": "[encoded data removed]",
      "text/plain": [
       "<Figure size 432x288 with 1 Axes>"
      ]
     },
     "metadata": {
      "needs_background": "light"
     },
     "output_type": "display_data"
    },
    {
     "name": "stdout",
     "output_type": "stream",
     "text": [
      "\n",
      "\n",
      "The Box-Plot for attribute \"Review_Text\" is-\n",
      " AxesSubplot(0.125,0.125;0.775x0.755)\n"
     ]
    },
    {
     "data": {
      "image/png": "[encoded data removed]",
      "text/plain": [
       "<Figure size 432x288 with 1 Axes>"
      ]
     },
     "metadata": {
      "needs_background": "light"
     },
     "output_type": "display_data"
    },
    {
     "name": "stdout",
     "output_type": "stream",
     "text": [
      "\n",
      "\n",
      "The Box-Plot for attribute \"Ratings\" is-\n",
      " AxesSubplot(0.125,0.125;0.775x0.755)\n"
     ]
    },
    {
     "data": {
      "image/png": "[encoded data removed]",
      "text/plain": [
       "<Figure size 432x288 with 1 Axes>"
      ]
     },
     "metadata": {
      "needs_background": "light"
     },
     "output_type": "display_data"
    },
    {
     "name": "stdout",
     "output_type": "stream",
     "text": [
      "\n",
      "\n"
     ]
    }
   ],
   "source": [
    "for i in df.columns:\n",
    "    print(f'The Box-Plot for attribute \"{i}\" is-\\n {sns.boxplot(df[i])}')\n",
    "    plt.show()\n",
    "    print('\\n')"
   ]
  },
  {
   "cell_type": "markdown",
   "id": "b63570fa",
   "metadata": {},
   "source": [
    "##### No outliers are there in this dataset"
   ]
  },
  {
   "cell_type": "markdown",
   "id": "b7c60cb3",
   "metadata": {},
   "source": [
    "### Data Cleansing"
   ]
  },
  {
   "cell_type": "markdown",
   "id": "bf998d87",
   "metadata": {},
   "source": [
    "### Checking Multicollinearity"
   ]
  },
  {
   "cell_type": "code",
   "execution_count": 62,
   "id": "7b1bb1e5",
   "metadata": {},
   "outputs": [],
   "source": [
    "import statsmodels.api\n",
    "from statsmodels.stats.outliers_influence import variance_inflation_factor"
   ]
  },
  {
   "cell_type": "code",
   "execution_count": 63,
   "id": "281abacb",
   "metadata": {},
   "outputs": [
    {
     "data": {
      "text/html": [
       "<div>\n",
       "<style scoped>\n",
       "    .dataframe tbody tr th:only-of-type {\n",
       "        vertical-align: middle;\n",
       "    }\n",
       "\n",
       "    .dataframe tbody tr th {\n",
       "        vertical-align: top;\n",
       "    }\n",
       "\n",
       "    .dataframe thead th {\n",
       "        text-align: right;\n",
       "    }\n",
       "</style>\n",
       "<table border=\"1\" class=\"dataframe\">\n",
       "  <thead>\n",
       "    <tr style=\"text-align: right;\">\n",
       "      <th></th>\n",
       "      <th>Title</th>\n",
       "      <th>Review_Text</th>\n",
       "    </tr>\n",
       "  </thead>\n",
       "  <tbody>\n",
       "    <tr>\n",
       "      <th>0</th>\n",
       "      <td>11874</td>\n",
       "      <td>1220</td>\n",
       "    </tr>\n",
       "    <tr>\n",
       "      <th>1</th>\n",
       "      <td>14035</td>\n",
       "      <td>16843</td>\n",
       "    </tr>\n",
       "    <tr>\n",
       "      <th>2</th>\n",
       "      <td>8267</td>\n",
       "      <td>3803</td>\n",
       "    </tr>\n",
       "    <tr>\n",
       "      <th>3</th>\n",
       "      <td>9726</td>\n",
       "      <td>11271</td>\n",
       "    </tr>\n",
       "    <tr>\n",
       "      <th>4</th>\n",
       "      <td>7158</td>\n",
       "      <td>5941</td>\n",
       "    </tr>\n",
       "    <tr>\n",
       "      <th>...</th>\n",
       "      <td>...</td>\n",
       "      <td>...</td>\n",
       "    </tr>\n",
       "    <tr>\n",
       "      <th>26835</th>\n",
       "      <td>2671</td>\n",
       "      <td>91</td>\n",
       "    </tr>\n",
       "    <tr>\n",
       "      <th>26836</th>\n",
       "      <td>4114</td>\n",
       "      <td>4737</td>\n",
       "    </tr>\n",
       "    <tr>\n",
       "      <th>26837</th>\n",
       "      <td>10806</td>\n",
       "      <td>12569</td>\n",
       "    </tr>\n",
       "    <tr>\n",
       "      <th>26838</th>\n",
       "      <td>12228</td>\n",
       "      <td>6227</td>\n",
       "    </tr>\n",
       "    <tr>\n",
       "      <th>26839</th>\n",
       "      <td>6226</td>\n",
       "      <td>7904</td>\n",
       "    </tr>\n",
       "  </tbody>\n",
       "</table>\n",
       "<p>26840 rows × 2 columns</p>\n",
       "</div>"
      ],
      "text/plain": [
       "       Title  Review_Text\n",
       "0      11874         1220\n",
       "1      14035        16843\n",
       "2       8267         3803\n",
       "3       9726        11271\n",
       "4       7158         5941\n",
       "...      ...          ...\n",
       "26835   2671           91\n",
       "26836   4114         4737\n",
       "26837  10806        12569\n",
       "26838  12228         6227\n",
       "26839   6226         7904\n",
       "\n",
       "[26840 rows x 2 columns]"
      ]
     },
     "execution_count": 63,
     "metadata": {},
     "output_type": "execute_result"
    }
   ],
   "source": [
    "x=df.drop('Ratings',axis=1)\n",
    "x"
   ]
  },
  {
   "cell_type": "code",
   "execution_count": 64,
   "id": "08bea4fb",
   "metadata": {},
   "outputs": [],
   "source": [
    "def vif():\n",
    "    df1=pd.DataFrame()\n",
    "    df1['Features']=x.columns\n",
    "    df1['VIF_Score']=[variance_inflation_factor(x.values,k) for k in range(x.shape[1])]\n",
    "    print(df1)"
   ]
  },
  {
   "cell_type": "code",
   "execution_count": 65,
   "id": "b864a937",
   "metadata": {},
   "outputs": [
    {
     "name": "stdout",
     "output_type": "stream",
     "text": [
      "      Features  VIF_Score\n",
      "0        Title   0.001999\n",
      "1  Review_Text   0.002180\n"
     ]
    }
   ],
   "source": [
    "vif()"
   ]
  },
  {
   "cell_type": "markdown",
   "id": "7f6b1755",
   "metadata": {},
   "source": [
    "##### I'll not be removing any of the attributes as there is very less correlation and the multicollinearity exist among the variables; also there is no outliers and data is skewed almost normally."
   ]
  },
  {
   "cell_type": "markdown",
   "id": "07e1ed3b",
   "metadata": {},
   "source": [
    "### Using Standard Scaler"
   ]
  },
  {
   "cell_type": "code",
   "execution_count": 66,
   "id": "4a550908",
   "metadata": {},
   "outputs": [],
   "source": [
    "from sklearn.preprocessing import StandardScaler\n",
    "sc=StandardScaler()"
   ]
  },
  {
   "cell_type": "code",
   "execution_count": 67,
   "id": "44f60b0b",
   "metadata": {},
   "outputs": [
    {
     "data": {
      "text/html": [
       "<div>\n",
       "<style scoped>\n",
       "    .dataframe tbody tr th:only-of-type {\n",
       "        vertical-align: middle;\n",
       "    }\n",
       "\n",
       "    .dataframe tbody tr th {\n",
       "        vertical-align: top;\n",
       "    }\n",
       "\n",
       "    .dataframe thead th {\n",
       "        text-align: right;\n",
       "    }\n",
       "</style>\n",
       "<table border=\"1\" class=\"dataframe\">\n",
       "  <thead>\n",
       "    <tr style=\"text-align: right;\">\n",
       "      <th></th>\n",
       "      <th>Title</th>\n",
       "      <th>Review_Text</th>\n",
       "    </tr>\n",
       "  </thead>\n",
       "  <tbody>\n",
       "    <tr>\n",
       "      <th>0</th>\n",
       "      <td>11874</td>\n",
       "      <td>1220</td>\n",
       "    </tr>\n",
       "    <tr>\n",
       "      <th>1</th>\n",
       "      <td>14035</td>\n",
       "      <td>16843</td>\n",
       "    </tr>\n",
       "    <tr>\n",
       "      <th>2</th>\n",
       "      <td>8267</td>\n",
       "      <td>3803</td>\n",
       "    </tr>\n",
       "    <tr>\n",
       "      <th>3</th>\n",
       "      <td>9726</td>\n",
       "      <td>11271</td>\n",
       "    </tr>\n",
       "    <tr>\n",
       "      <th>4</th>\n",
       "      <td>7158</td>\n",
       "      <td>5941</td>\n",
       "    </tr>\n",
       "    <tr>\n",
       "      <th>...</th>\n",
       "      <td>...</td>\n",
       "      <td>...</td>\n",
       "    </tr>\n",
       "    <tr>\n",
       "      <th>26835</th>\n",
       "      <td>2671</td>\n",
       "      <td>91</td>\n",
       "    </tr>\n",
       "    <tr>\n",
       "      <th>26836</th>\n",
       "      <td>4114</td>\n",
       "      <td>4737</td>\n",
       "    </tr>\n",
       "    <tr>\n",
       "      <th>26837</th>\n",
       "      <td>10806</td>\n",
       "      <td>12569</td>\n",
       "    </tr>\n",
       "    <tr>\n",
       "      <th>26838</th>\n",
       "      <td>12228</td>\n",
       "      <td>6227</td>\n",
       "    </tr>\n",
       "    <tr>\n",
       "      <th>26839</th>\n",
       "      <td>6226</td>\n",
       "      <td>7904</td>\n",
       "    </tr>\n",
       "  </tbody>\n",
       "</table>\n",
       "<p>26840 rows × 2 columns</p>\n",
       "</div>"
      ],
      "text/plain": [
       "       Title  Review_Text\n",
       "0      11874         1220\n",
       "1      14035        16843\n",
       "2       8267         3803\n",
       "3       9726        11271\n",
       "4       7158         5941\n",
       "...      ...          ...\n",
       "26835   2671           91\n",
       "26836   4114         4737\n",
       "26837  10806        12569\n",
       "26838  12228         6227\n",
       "26839   6226         7904\n",
       "\n",
       "[26840 rows x 2 columns]"
      ]
     },
     "execution_count": 67,
     "metadata": {},
     "output_type": "execute_result"
    }
   ],
   "source": [
    "x=df.drop('Ratings',axis=1)\n",
    "x"
   ]
  },
  {
   "cell_type": "code",
   "execution_count": 68,
   "id": "976a59e4",
   "metadata": {},
   "outputs": [
    {
     "data": {
      "text/plain": [
       "array([[ 1.24475996, -1.43728356],\n",
       "       [ 1.78548877,  1.80272383],\n",
       "       [ 0.34221075, -0.90160289],\n",
       "       ...,\n",
       "       [ 0.97752332,  0.91635171],\n",
       "       [ 1.33333839, -0.39889676],\n",
       "       [-0.16849148, -0.05110873]])"
      ]
     },
     "execution_count": 68,
     "metadata": {},
     "output_type": "execute_result"
    }
   ],
   "source": [
    "x=sc.fit_transform(x)\n",
    "x"
   ]
  },
  {
   "cell_type": "code",
   "execution_count": 69,
   "id": "fa2de848",
   "metadata": {},
   "outputs": [
    {
     "name": "stdout",
     "output_type": "stream",
     "text": [
      "Mean is= 7.624303572984682e-17\n",
      "Standard Deviation= 1.0\n",
      "AxesSubplot(0.125,0.125;0.775x0.755)\n"
     ]
    },
    {
     "data": {
      "image/png": "[encoded data removed]",
      "text/plain": [
       "<Figure size 432x288 with 1 Axes>"
      ]
     },
     "metadata": {
      "needs_background": "light"
     },
     "output_type": "display_data"
    }
   ],
   "source": [
    "print('Mean is=',x.mean())\n",
    "print('Standard Deviation=',x.std())\n",
    "print(sns.distplot(x))\n",
    "plt.show()"
   ]
  },
  {
   "cell_type": "markdown",
   "id": "ad86feb8",
   "metadata": {},
   "source": [
    "##### Now,almost our features is normally distributed as we have got the mean almost as zero and standard deviation=1 i.e. data is fully transformed in b/w 0-1"
   ]
  },
  {
   "cell_type": "markdown",
   "id": "0299e049",
   "metadata": {},
   "source": [
    "### Using Principle Component Analysis(PCA)"
   ]
  },
  {
   "cell_type": "code",
   "execution_count": 70,
   "id": "9ac68159",
   "metadata": {},
   "outputs": [],
   "source": [
    "from sklearn.decomposition import PCA"
   ]
  },
  {
   "cell_type": "code",
   "execution_count": 71,
   "id": "0567084a",
   "metadata": {},
   "outputs": [
    {
     "data": {
      "text/plain": [
       "array([[-0.13613474, -1.89649116],\n",
       "       [ 2.53724946,  0.01218702],\n",
       "       [-0.39554998, -0.87950906],\n",
       "       ...,\n",
       "       [ 1.33917188, -0.04325486],\n",
       "       [ 0.66075002, -1.22487522],\n",
       "       [-0.1552808 ,  0.08300214]])"
      ]
     },
     "execution_count": 71,
     "metadata": {},
     "output_type": "execute_result"
    }
   ],
   "source": [
    "#Here I'm selecting the number of principle component as 2 as i dont want to remove the title attribute becasue it is 12% negatively correlated w.r.t. our target variable 'Ratings' which is highest and so that it could play important role while predicting our target variable.\n",
    "pca=PCA(n_components=2)\n",
    "x=pca.fit_transform(x)\n",
    "x"
   ]
  },
  {
   "cell_type": "code",
   "execution_count": 72,
   "id": "0ef15f89",
   "metadata": {},
   "outputs": [
    {
     "data": {
      "text/plain": [
       "0        2\n",
       "1        2\n",
       "2        2\n",
       "3        2\n",
       "4        2\n",
       "        ..\n",
       "26835    5\n",
       "26836    5\n",
       "26837    5\n",
       "26838    5\n",
       "26839    5\n",
       "Name: Ratings, Length: 26840, dtype: int64"
      ]
     },
     "execution_count": 72,
     "metadata": {},
     "output_type": "execute_result"
    }
   ],
   "source": [
    "#target variable\n",
    "y=df['Ratings']\n",
    "y"
   ]
  },
  {
   "cell_type": "code",
   "execution_count": 73,
   "id": "87c5bc2d",
   "metadata": {},
   "outputs": [
    {
     "data": {
      "image/png": "[encoded data removed]",
      "text/plain": [
       "<Figure size 576x432 with 1 Axes>"
      ]
     },
     "metadata": {
      "needs_background": "light"
     },
     "output_type": "display_data"
    }
   ],
   "source": [
    "plt.figure(figsize=(8,6))\n",
    "plt.scatter(x[:,0:1],x[:,1:2],c=y)\n",
    "plt.xlabel('First Principle Component',fontsize=14)\n",
    "plt.ylabel('Second Principle Component',fontsize=14)\n",
    "plt.show()"
   ]
  },
  {
   "cell_type": "markdown",
   "id": "5b05f13f",
   "metadata": {},
   "source": [
    "##### Above graph indicates that our two principle components are almost equally distributed and which is a good sign "
   ]
  },
  {
   "cell_type": "code",
   "execution_count": 74,
   "id": "e7f3d85b",
   "metadata": {},
   "outputs": [
    {
     "name": "stdout",
     "output_type": "stream",
     "text": [
      "(26840, 2)\n",
      "(26840,)\n"
     ]
    }
   ],
   "source": [
    "print(x.shape)\n",
    "print(y.shape)"
   ]
  },
  {
   "cell_type": "markdown",
   "id": "2badadbf",
   "metadata": {},
   "source": [
    "### Using IMBlearn Balancing Techniques\n",
    "##### To balance the class of target variable"
   ]
  },
  {
   "cell_type": "code",
   "execution_count": 75,
   "id": "bf902495",
   "metadata": {},
   "outputs": [
    {
     "data": {
      "text/plain": [
       "5    5527\n",
       "1    5513\n",
       "3    5396\n",
       "4    5240\n",
       "2    5164\n",
       "Name: Ratings, dtype: int64"
      ]
     },
     "execution_count": 75,
     "metadata": {},
     "output_type": "execute_result"
    }
   ],
   "source": [
    "y.value_counts()"
   ]
  },
  {
   "cell_type": "code",
   "execution_count": 76,
   "id": "1e4c5b72",
   "metadata": {},
   "outputs": [
    {
     "name": "stdout",
     "output_type": "stream",
     "text": [
      "Requirement already satisfied: imbalanced-learn in c:\\users\\admin\\anaconda3\\lib\\site-packages (0.9.1)\n",
      "Requirement already satisfied: numpy>=1.17.3 in c:\\users\\admin\\anaconda3\\lib\\site-packages (from imbalanced-learn) (1.20.3)\n",
      "Requirement already satisfied: scikit-learn>=1.1.0 in c:\\users\\admin\\anaconda3\\lib\\site-packages (from imbalanced-learn) (1.1.2)\n",
      "Requirement already satisfied: scipy>=1.3.2 in c:\\users\\admin\\anaconda3\\lib\\site-packages (from imbalanced-learn) (1.7.1)\n",
      "Requirement already satisfied: threadpoolctl>=2.0.0 in c:\\users\\admin\\anaconda3\\lib\\site-packages (from imbalanced-learn) (2.2.0)\n",
      "Requirement already satisfied: joblib>=1.0.0 in c:\\users\\admin\\anaconda3\\lib\\site-packages (from imbalanced-learn) (1.1.0)\n"
     ]
    }
   ],
   "source": [
    "!pip install -U imbalanced-learn"
   ]
  },
  {
   "cell_type": "code",
   "execution_count": 77,
   "id": "b32fef0e",
   "metadata": {},
   "outputs": [],
   "source": [
    "from imblearn.over_sampling import SMOTE\n",
    "sm=SMOTE()\n",
    "x,y=sm.fit_resample(x,y)"
   ]
  },
  {
   "cell_type": "code",
   "execution_count": 78,
   "id": "7e050928",
   "metadata": {},
   "outputs": [
    {
     "data": {
      "text/plain": [
       "2    5527\n",
       "3    5527\n",
       "4    5527\n",
       "5    5527\n",
       "1    5527\n",
       "Name: Ratings, dtype: int64"
      ]
     },
     "execution_count": 78,
     "metadata": {},
     "output_type": "execute_result"
    }
   ],
   "source": [
    "y.value_counts()"
   ]
  },
  {
   "cell_type": "markdown",
   "id": "cf92fd46",
   "metadata": {},
   "source": [
    "##### Now each class of the target variable has equal number in it and we can now clearly see that the classes of target variable Ratings is balanced now.There are total 5 classes are present and due to this we can't use Logistic Regression as well GaussianNB because these two supports only binary classes 0 & 1. Also here we can't use ROC-AUC curve and ROC-AUC score as its supports only two label target."
   ]
  },
  {
   "cell_type": "code",
   "execution_count": 79,
   "id": "35d530e4",
   "metadata": {},
   "outputs": [
    {
     "name": "stdout",
     "output_type": "stream",
     "text": [
      "(27635, 2)\n",
      "(27635,)\n"
     ]
    }
   ],
   "source": [
    "print(x.shape)\n",
    "print(y.shape)"
   ]
  },
  {
   "cell_type": "markdown",
   "id": "85f564ba",
   "metadata": {},
   "source": [
    "### Training_Testing Phase\n",
    "##### I am going to train 80% of the data and testing size would be 20%\n",
    "##### first will try to find out the best value for random_state"
   ]
  },
  {
   "cell_type": "code",
   "execution_count": 80,
   "id": "f2b694ee",
   "metadata": {},
   "outputs": [],
   "source": [
    "#importing machine learning libraries for classification model\n",
    "from sklearn.neighbors import KNeighborsClassifier\n",
    "from sklearn.model_selection import train_test_split\n",
    "from sklearn.metrics import accuracy_score,classification_report,confusion_matrix\n",
    "kn=KNeighborsClassifier()"
   ]
  },
  {
   "cell_type": "code",
   "execution_count": 81,
   "id": "6efd3c01",
   "metadata": {
    "scrolled": true
   },
   "outputs": [
    {
     "name": "stdout",
     "output_type": "stream",
     "text": [
      "At random_state 0\n",
      "Training Accuracy Score is-  0.6392256196851819\n",
      "Testing Accuracy Score is-  0.4559435498462095\n",
      "\n",
      "\n",
      "At random_state 1\n",
      "Training Accuracy Score is-  0.6431156142572825\n",
      "Testing Accuracy Score is-  0.4631807490501176\n",
      "\n",
      "\n",
      "At random_state 2\n",
      "Training Accuracy Score is-  0.6403564320607925\n",
      "Testing Accuracy Score is-  0.4548579699656233\n",
      "\n",
      "\n",
      "At random_state 3\n",
      "Training Accuracy Score is-  0.6387280622399132\n",
      "Testing Accuracy Score is-  0.44309752125927265\n",
      "\n",
      "\n",
      "At random_state 4\n",
      "Training Accuracy Score is-  0.6458747964537724\n",
      "Testing Accuracy Score is-  0.44653519088112903\n",
      "\n",
      "\n",
      "At random_state 5\n",
      "Training Accuracy Score is-  0.639768409625475\n",
      "Testing Accuracy Score is-  0.46028586936855437\n",
      "\n",
      "\n",
      "At random_state 6\n",
      "Training Accuracy Score is-  0.6404016645558169\n",
      "Testing Accuracy Score is-  0.4470779808214221\n",
      "\n",
      "\n",
      "At random_state 7\n",
      "Training Accuracy Score is-  0.6401302695856703\n",
      "Testing Accuracy Score is-  0.444725891080152\n",
      "\n",
      "\n",
      "At random_state 8\n",
      "Training Accuracy Score is-  0.6356070200832278\n",
      "Testing Accuracy Score is-  0.45901935950787043\n",
      "\n",
      "\n",
      "At random_state 9\n",
      "Training Accuracy Score is-  0.6382305047946445\n",
      "Testing Accuracy Score is-  0.4584765695675774\n",
      "\n",
      "\n"
     ]
    }
   ],
   "source": [
    "#will finding best value of random_state\n",
    "for h in range(0,10):\n",
    "    x_train,x_test,y_train,y_test=train_test_split(x,y,test_size=0.20,random_state=h)\n",
    "    kn.fit(x_train,y_train)\n",
    "    pred_train=kn.predict(x_train)\n",
    "    pred_test=kn.predict(x_test)\n",
    "    if accuracy_score(pred_train,y_train) == accuracy_score(pred_test,y_test):\n",
    "        print('At random_state',h,'the model perform very well')\n",
    "        print('At random_state',h)\n",
    "        print('Training Accuracy Score is- ',accuracy_score(pred_train,y_train))\n",
    "        print('Testing Accuracy Score is- ',accuracy_score(pred_test,y_test))\n",
    "    else:\n",
    "        print('At random_state',h)\n",
    "        print('Training Accuracy Score is- ',accuracy_score(pred_train,y_train))\n",
    "        print('Testing Accuracy Score is- ',accuracy_score(pred_test,y_test))\n",
    "        print('\\n')"
   ]
  },
  {
   "cell_type": "code",
   "execution_count": 82,
   "id": "602d52b8",
   "metadata": {},
   "outputs": [
    {
     "name": "stdout",
     "output_type": "stream",
     "text": [
      "At random_state 1\n",
      "Training Accuracy Score is-  0.6431156142572825\n",
      "Testing Accuracy Score is-  0.4631807490501176\n",
      "\n",
      "\n"
     ]
    }
   ],
   "source": [
    "#Traing the Logistic Regression Model at Random_State 1\n",
    "x_train,x_test,y_train,y_test=train_test_split(x,y,test_size=0.20,random_state=1)\n",
    "kn.fit(x_train,y_train)\n",
    "pred_train=kn.predict(x_train)\n",
    "pred_test=kn.predict(x_test)\n",
    "print('At random_state',1)\n",
    "print('Training Accuracy Score is- ',accuracy_score(pred_train,y_train))\n",
    "print('Testing Accuracy Score is- ',accuracy_score(pred_test,y_test))\n",
    "print('\\n')"
   ]
  },
  {
   "cell_type": "markdown",
   "id": "9904c62a",
   "metadata": {},
   "source": [
    "##### At random_state 1 I'm getting training and testing accuracy score as 64% and 46% respectively. Now we will try to find out the CV score for this model and then will compare it with the testing accuarcy of the model and if both are equal then we can say that our model is performing well,otherwise will try to test CV score for other models as well."
   ]
  },
  {
   "cell_type": "markdown",
   "id": "c5623022",
   "metadata": {},
   "source": [
    "### Finding Out CV Score"
   ]
  },
  {
   "cell_type": "code",
   "execution_count": 84,
   "id": "4ca0ffae",
   "metadata": {},
   "outputs": [],
   "source": [
    "from sklearn.model_selection import cross_val_score"
   ]
  },
  {
   "cell_type": "code",
   "execution_count": 85,
   "id": "d60d1eb0",
   "metadata": {},
   "outputs": [
    {
     "name": "stdout",
     "output_type": "stream",
     "text": [
      "At K-Fold 2 the CV Score of model is 0.30949876543621135\n",
      "At K-Fold 3 the CV Score of model is 0.3225980152453851\n",
      "At K-Fold 4 the CV Score of model is 0.3313914130868132\n"
     ]
    }
   ],
   "source": [
    "for i in range(2,5):\n",
    "    cvs=cross_val_score(kn,x,y,cv=i)\n",
    "    print(f'At K-Fold {i} the CV Score of model is {cvs.mean()}')"
   ]
  },
  {
   "cell_type": "markdown",
   "id": "85eb517d",
   "metadata": {},
   "source": [
    "##### By increasing K-Fold value, i'm getting increment in the CV scores too which indicate that model performace is getting increase in each passing fold and since the training accuracy is greater than the testing accuracy it means that there is overfitting exist in this model hence will try to find out other model's CV score and later will compare with it's testing accuracy."
   ]
  },
  {
   "cell_type": "code",
   "execution_count": 86,
   "id": "4e209077",
   "metadata": {},
   "outputs": [],
   "source": [
    "#importing other libraries\n",
    "from sklearn.tree import DecisionTreeClassifier\n",
    "from sklearn.svm import SVC\n",
    "from sklearn.naive_bayes import MultinomialNB\n",
    "from sklearn.ensemble import RandomForestClassifier,AdaBoostClassifier,GradientBoostingClassifier\n",
    "from sklearn.linear_model import SGDClassifier\n",
    "dtc=DecisionTreeClassifier()\n",
    "svc=SVC()\n",
    "mnb=MultinomialNB()\n",
    "rfc=RandomForestClassifier()\n",
    "ad=AdaBoostClassifier()\n",
    "grd=GradientBoostingClassifier()\n",
    "sgd=SGDClassifier()"
   ]
  },
  {
   "cell_type": "code",
   "execution_count": 87,
   "id": "5404dfaf",
   "metadata": {},
   "outputs": [],
   "source": [
    "#creating a definition to expand the model individually\n",
    "def model(algorithm,x,y):\n",
    "    x_train,x_test,y_train,y_test=train_test_split(x,y,test_size=0.2,random_state=1)\n",
    "    algorithm.fit(x_train,y_train)\n",
    "    pred_train_x=algorithm.predict(x_train)\n",
    "    pred_test_y=algorithm.predict(x_test)\n",
    "    print('For',algorithm)\n",
    "    print('Training_Accuracy_Score=',accuracy_score(y_train,pred_train_x))\n",
    "    print('Testing_Accuracy_Score=',accuracy_score(y_test,pred_test_y))\n",
    "    for l in range(2,6):\n",
    "        cvscore=cross_val_score(algorithm,x,y,cv=l)\n",
    "        cv_accuracy_score=cvscore.mean()\n",
    "        print(f'At the K-Fold {l} the CV score of model {algorithm} is {cv_accuracy_score}')\n",
    "        print('\\n')"
   ]
  },
  {
   "cell_type": "markdown",
   "id": "a047a13a",
   "metadata": {},
   "source": [
    "##### Since Multiclass format is not applicable for AUC_ROC CURVE as it supports only two classes (0&1) hence will not plot Auc_Roc curve"
   ]
  },
  {
   "cell_type": "markdown",
   "id": "5afbe678",
   "metadata": {},
   "source": [
    "### Hyper Parameter Tuning\n",
    "##### To make the model more accurate by providing their best parameters"
   ]
  },
  {
   "cell_type": "code",
   "execution_count": 88,
   "id": "4c60719f",
   "metadata": {},
   "outputs": [],
   "source": [
    "from sklearn.model_selection import GridSearchCV"
   ]
  },
  {
   "cell_type": "code",
   "execution_count": 89,
   "id": "6a7bb649",
   "metadata": {},
   "outputs": [],
   "source": [
    "#Now I'm defining a function so that i can individuallay let the model perfom and give the best parameter out of it.\n",
    "def HPT(machine,dictionary):\n",
    "    gd=GridSearchCV(machine,dictionary)\n",
    "    gd.fit(x,y)\n",
    "    print(f'The best Parameters of the model {machine} is {gd.best_params_}')"
   ]
  },
  {
   "cell_type": "markdown",
   "id": "381370c3",
   "metadata": {},
   "source": [
    "##### It was taking too much time while finding out the parameters hence i'm randomly going to select the parameters"
   ]
  },
  {
   "cell_type": "code",
   "execution_count": 90,
   "id": "3f3b44d4",
   "metadata": {},
   "outputs": [],
   "source": [
    "svc=SVC(decision_function_shape='ovo',gamma='scale')\n",
    "dtc=DecisionTreeClassifier(criterion='gini',max_features='sqrt',splitter='best')\n",
    "rfc=RandomForestClassifier(criterion='gini',max_features=None)\n",
    "ad=AdaBoostClassifier(algorithm= 'SAMME')\n",
    "grd=GradientBoostingClassifier(loss='log_loss',criterion='friedman_mse')"
   ]
  },
  {
   "cell_type": "code",
   "execution_count": 91,
   "id": "bea43cfe",
   "metadata": {},
   "outputs": [
    {
     "name": "stdout",
     "output_type": "stream",
     "text": [
      "For KNeighborsClassifier()\n",
      "Training_Accuracy_Score= 0.6431156142572825\n",
      "Testing_Accuracy_Score= 0.4631807490501176\n",
      "At the K-Fold 2 the CV score of model KNeighborsClassifier() is 0.30949876543621135\n",
      "\n",
      "\n",
      "At the K-Fold 3 the CV score of model KNeighborsClassifier() is 0.3225980152453851\n",
      "\n",
      "\n",
      "At the K-Fold 4 the CV score of model KNeighborsClassifier() is 0.3313914130868132\n",
      "\n",
      "\n",
      "At the K-Fold 5 the CV score of model KNeighborsClassifier() is 0.34760267776370546\n",
      "\n",
      "\n"
     ]
    }
   ],
   "source": [
    "model(kn,x,y)"
   ]
  },
  {
   "cell_type": "code",
   "execution_count": 92,
   "id": "215f9d23",
   "metadata": {},
   "outputs": [
    {
     "name": "stdout",
     "output_type": "stream",
     "text": [
      "For SVC(decision_function_shape='ovo')\n",
      "Training_Accuracy_Score= 0.2714402026415777\n",
      "Testing_Accuracy_Score= 0.27845123937036365\n",
      "At the K-Fold 2 the CV score of model SVC(decision_function_shape='ovo') is 0.2559432188964924\n",
      "\n",
      "\n",
      "At the K-Fold 3 the CV score of model SVC(decision_function_shape='ovo') is 0.26173268527584875\n",
      "\n",
      "\n",
      "At the K-Fold 4 the CV score of model SVC(decision_function_shape='ovo') is 0.25626864600883537\n",
      "\n",
      "\n",
      "At the K-Fold 5 the CV score of model SVC(decision_function_shape='ovo') is 0.26108196128098426\n",
      "\n",
      "\n"
     ]
    }
   ],
   "source": [
    "model(svc,x,y)"
   ]
  },
  {
   "cell_type": "code",
   "execution_count": 93,
   "id": "3b395c59",
   "metadata": {},
   "outputs": [
    {
     "name": "stdout",
     "output_type": "stream",
     "text": [
      "For DecisionTreeClassifier(max_features='sqrt')\n",
      "Training_Accuracy_Score= 0.9790121223086665\n",
      "Testing_Accuracy_Score= 0.585670345576262\n",
      "At the K-Fold 2 the CV score of model DecisionTreeClassifier(max_features='sqrt') is 0.32925607049775263\n",
      "\n",
      "\n",
      "At the K-Fold 3 the CV score of model DecisionTreeClassifier(max_features='sqrt') is 0.33482820362464727\n",
      "\n",
      "\n",
      "At the K-Fold 4 the CV score of model DecisionTreeClassifier(max_features='sqrt') is 0.38396779944221526\n",
      "\n",
      "\n",
      "At the K-Fold 5 the CV score of model DecisionTreeClassifier(max_features='sqrt') is 0.38867378324588386\n",
      "\n",
      "\n"
     ]
    }
   ],
   "source": [
    "model(dtc,x,y)"
   ]
  },
  {
   "cell_type": "code",
   "execution_count": 94,
   "id": "3a1f849e",
   "metadata": {},
   "outputs": [
    {
     "name": "stdout",
     "output_type": "stream",
     "text": [
      "For RandomForestClassifier(max_features=None)\n",
      "Training_Accuracy_Score= 0.9790121223086665\n",
      "Testing_Accuracy_Score= 0.6057535733671069\n",
      "At the K-Fold 2 the CV score of model RandomForestClassifier(max_features=None) is 0.35357295771947295\n",
      "\n",
      "\n",
      "At the K-Fold 3 the CV score of model RandomForestClassifier(max_features=None) is 0.35834910240842227\n",
      "\n",
      "\n",
      "At the K-Fold 4 the CV score of model RandomForestClassifier(max_features=None) is 0.405534972677733\n",
      "\n",
      "\n",
      "At the K-Fold 5 the CV score of model RandomForestClassifier(max_features=None) is 0.41349737651528856\n",
      "\n",
      "\n"
     ]
    }
   ],
   "source": [
    "model(rfc,x,y)"
   ]
  },
  {
   "cell_type": "code",
   "execution_count": 95,
   "id": "1774ecd0",
   "metadata": {},
   "outputs": [
    {
     "name": "stdout",
     "output_type": "stream",
     "text": [
      "For AdaBoostClassifier(algorithm='SAMME')\n",
      "Training_Accuracy_Score= 0.25524696942283337\n",
      "Testing_Accuracy_Score= 0.25167360231590374\n",
      "At the K-Fold 2 the CV score of model AdaBoostClassifier(algorithm='SAMME') is 0.2423374572196021\n",
      "\n",
      "\n",
      "At the K-Fold 3 the CV score of model AdaBoostClassifier(algorithm='SAMME') is 0.24704133715659848\n",
      "\n",
      "\n",
      "At the K-Fold 4 the CV score of model AdaBoostClassifier(algorithm='SAMME') is 0.24563011766078385\n",
      "\n",
      "\n",
      "At the K-Fold 5 the CV score of model AdaBoostClassifier(algorithm='SAMME') is 0.24487063506423015\n",
      "\n",
      "\n"
     ]
    }
   ],
   "source": [
    "model(ad,x,y)"
   ]
  },
  {
   "cell_type": "code",
   "execution_count": 96,
   "id": "13e8d505",
   "metadata": {},
   "outputs": [
    {
     "name": "stdout",
     "output_type": "stream",
     "text": [
      "For GradientBoostingClassifier()\n",
      "Training_Accuracy_Score= 0.36783064953862854\n",
      "Testing_Accuracy_Score= 0.32603582413605936\n",
      "At the K-Fold 2 the CV score of model GradientBoostingClassifier() is 0.27761891730494126\n",
      "\n",
      "\n",
      "At the K-Fold 3 the CV score of model GradientBoostingClassifier() is 0.2794643170434439\n",
      "\n",
      "\n",
      "At the K-Fold 4 the CV score of model GradientBoostingClassifier() is 0.2848922207575142\n",
      "\n",
      "\n",
      "At the K-Fold 5 the CV score of model GradientBoostingClassifier() is 0.2920571738737109\n",
      "\n",
      "\n"
     ]
    }
   ],
   "source": [
    "model(grd,x,y)"
   ]
  },
  {
   "cell_type": "markdown",
   "id": "30302f73",
   "metadata": {},
   "source": [
    "### Saving the Best Modle"
   ]
  },
  {
   "cell_type": "code",
   "execution_count": 97,
   "id": "217371f7",
   "metadata": {},
   "outputs": [],
   "source": [
    "import joblib"
   ]
  },
  {
   "cell_type": "code",
   "execution_count": 98,
   "id": "1c7bbae3",
   "metadata": {},
   "outputs": [
    {
     "data": {
      "text/plain": [
       "['Rating_predict.obj']"
      ]
     },
     "execution_count": 98,
     "metadata": {},
     "output_type": "execute_result"
    }
   ],
   "source": [
    "file='Rating_predict.obj'\n",
    "joblib.dump(rfc,file)"
   ]
  },
  {
   "cell_type": "code",
   "execution_count": 99,
   "id": "6552cc59",
   "metadata": {},
   "outputs": [
    {
     "data": {
      "text/html": [
       "<style>#sk-container-id-1 {color: black;background-color: white;}#sk-container-id-1 pre{padding: 0;}#sk-container-id-1 div.sk-toggleable {background-color: white;}#sk-container-id-1 label.sk-toggleable__label {cursor: pointer;display: block;width: 100%;margin-bottom: 0;padding: 0.3em;box-sizing: border-box;text-align: center;}#sk-container-id-1 label.sk-toggleable__label-arrow:before {content: \"▸\";float: left;margin-right: 0.25em;color: #696969;}#sk-container-id-1 label.sk-toggleable__label-arrow:hover:before {color: black;}#sk-container-id-1 div.sk-estimator:hover label.sk-toggleable__label-arrow:before {color: black;}#sk-container-id-1 div.sk-toggleable__content {max-height: 0;max-width: 0;overflow: hidden;text-align: left;background-color: #f0f8ff;}#sk-container-id-1 div.sk-toggleable__content pre {margin: 0.2em;color: black;border-radius: 0.25em;background-color: #f0f8ff;}#sk-container-id-1 input.sk-toggleable__control:checked~div.sk-toggleable__content {max-height: 200px;max-width: 100%;overflow: auto;}#sk-container-id-1 input.sk-toggleable__control:checked~label.sk-toggleable__label-arrow:before {content: \"▾\";}#sk-container-id-1 div.sk-estimator input.sk-toggleable__control:checked~label.sk-toggleable__label {background-color: #d4ebff;}#sk-container-id-1 div.sk-label input.sk-toggleable__control:checked~label.sk-toggleable__label {background-color: #d4ebff;}#sk-container-id-1 input.sk-hidden--visually {border: 0;clip: rect(1px 1px 1px 1px);clip: rect(1px, 1px, 1px, 1px);height: 1px;margin: -1px;overflow: hidden;padding: 0;position: absolute;width: 1px;}#sk-container-id-1 div.sk-estimator {font-family: monospace;background-color: #f0f8ff;border: 1px dotted black;border-radius: 0.25em;box-sizing: border-box;margin-bottom: 0.5em;}#sk-container-id-1 div.sk-estimator:hover {background-color: #d4ebff;}#sk-container-id-1 div.sk-parallel-item::after {content: \"\";width: 100%;border-bottom: 1px solid gray;flex-grow: 1;}#sk-container-id-1 div.sk-label:hover label.sk-toggleable__label {background-color: #d4ebff;}#sk-container-id-1 div.sk-serial::before {content: \"\";position: absolute;border-left: 1px solid gray;box-sizing: border-box;top: 0;bottom: 0;left: 50%;z-index: 0;}#sk-container-id-1 div.sk-serial {display: flex;flex-direction: column;align-items: center;background-color: white;padding-right: 0.2em;padding-left: 0.2em;position: relative;}#sk-container-id-1 div.sk-item {position: relative;z-index: 1;}#sk-container-id-1 div.sk-parallel {display: flex;align-items: stretch;justify-content: center;background-color: white;position: relative;}#sk-container-id-1 div.sk-item::before, #sk-container-id-1 div.sk-parallel-item::before {content: \"\";position: absolute;border-left: 1px solid gray;box-sizing: border-box;top: 0;bottom: 0;left: 50%;z-index: -1;}#sk-container-id-1 div.sk-parallel-item {display: flex;flex-direction: column;z-index: 1;position: relative;background-color: white;}#sk-container-id-1 div.sk-parallel-item:first-child::after {align-self: flex-end;width: 50%;}#sk-container-id-1 div.sk-parallel-item:last-child::after {align-self: flex-start;width: 50%;}#sk-container-id-1 div.sk-parallel-item:only-child::after {width: 0;}#sk-container-id-1 div.sk-dashed-wrapped {border: 1px dashed gray;margin: 0 0.4em 0.5em 0.4em;box-sizing: border-box;padding-bottom: 0.4em;background-color: white;}#sk-container-id-1 div.sk-label label {font-family: monospace;font-weight: bold;display: inline-block;line-height: 1.2em;}#sk-container-id-1 div.sk-label-container {text-align: center;}#sk-container-id-1 div.sk-container {/* jupyter's `normalize.less` sets `[hidden] { display: none; }` but bootstrap.min.css set `[hidden] { display: none !important; }` so we also need the `!important` here to be able to override the default hidden behavior on the sphinx rendered scikit-learn.org. See: https://github.com/scikit-learn/scikit-learn/issues/21755 */display: inline-block !important;position: relative;}#sk-container-id-1 div.sk-text-repr-fallback {display: none;}</style><div id=\"sk-container-id-1\" class=\"sk-top-container\"><div class=\"sk-text-repr-fallback\"><pre>RandomForestClassifier(max_features=None)</pre><b>In a Jupyter environment, please rerun this cell to show the HTML representation or trust the notebook. <br />On GitHub, the HTML representation is unable to render, please try loading this page with nbviewer.org.</b></div><div class=\"sk-container\" hidden><div class=\"sk-item\"><div class=\"sk-estimator sk-toggleable\"><input class=\"sk-toggleable__control sk-hidden--visually\" id=\"sk-estimator-id-1\" type=\"checkbox\" checked><label for=\"sk-estimator-id-1\" class=\"sk-toggleable__label sk-toggleable__label-arrow\">RandomForestClassifier</label><div class=\"sk-toggleable__content\"><pre>RandomForestClassifier(max_features=None)</pre></div></div></div></div></div>"
      ],
      "text/plain": [
       "RandomForestClassifier(max_features=None)"
      ]
     },
     "execution_count": 99,
     "metadata": {},
     "output_type": "execute_result"
    }
   ],
   "source": [
    "c=joblib.load('Rating_predict.obj')\n",
    "c"
   ]
  },
  {
   "cell_type": "code",
   "execution_count": 100,
   "id": "91162662",
   "metadata": {},
   "outputs": [
    {
     "data": {
      "text/plain": [
       "array([3, 1, 4, ..., 5, 5, 1], dtype=int64)"
      ]
     },
     "execution_count": 100,
     "metadata": {},
     "output_type": "execute_result"
    }
   ],
   "source": [
    "Prediction=c.predict(x_test)\n",
    "Prediction"
   ]
  },
  {
   "cell_type": "code",
   "execution_count": 101,
   "id": "9bfff8d5",
   "metadata": {},
   "outputs": [
    {
     "data": {
      "text/plain": [
       "0.6057535733671069"
      ]
     },
     "execution_count": 101,
     "metadata": {},
     "output_type": "execute_result"
    }
   ],
   "source": [
    "#Testing accuracy\n",
    "accuracyScore=accuracy_score(y_test,Prediction)\n",
    "accuracyScore"
   ]
  },
  {
   "cell_type": "markdown",
   "id": "926ac0b4",
   "metadata": {},
   "source": [
    "### Conclusion"
   ]
  },
  {
   "cell_type": "code",
   "execution_count": 102,
   "id": "c903b47d",
   "metadata": {},
   "outputs": [
    {
     "data": {
      "text/html": [
       "<div>\n",
       "<style scoped>\n",
       "    .dataframe tbody tr th:only-of-type {\n",
       "        vertical-align: middle;\n",
       "    }\n",
       "\n",
       "    .dataframe tbody tr th {\n",
       "        vertical-align: top;\n",
       "    }\n",
       "\n",
       "    .dataframe thead th {\n",
       "        text-align: right;\n",
       "    }\n",
       "</style>\n",
       "<table border=\"1\" class=\"dataframe\">\n",
       "  <thead>\n",
       "    <tr style=\"text-align: right;\">\n",
       "      <th></th>\n",
       "      <th>0</th>\n",
       "      <th>1</th>\n",
       "      <th>2</th>\n",
       "      <th>3</th>\n",
       "      <th>4</th>\n",
       "      <th>5</th>\n",
       "      <th>6</th>\n",
       "      <th>7</th>\n",
       "      <th>8</th>\n",
       "      <th>9</th>\n",
       "      <th>...</th>\n",
       "      <th>5517</th>\n",
       "      <th>5518</th>\n",
       "      <th>5519</th>\n",
       "      <th>5520</th>\n",
       "      <th>5521</th>\n",
       "      <th>5522</th>\n",
       "      <th>5523</th>\n",
       "      <th>5524</th>\n",
       "      <th>5525</th>\n",
       "      <th>5526</th>\n",
       "    </tr>\n",
       "  </thead>\n",
       "  <tbody>\n",
       "    <tr>\n",
       "      <th>Predicted Ratings</th>\n",
       "      <td>3</td>\n",
       "      <td>1</td>\n",
       "      <td>4</td>\n",
       "      <td>3</td>\n",
       "      <td>5</td>\n",
       "      <td>1</td>\n",
       "      <td>5</td>\n",
       "      <td>3</td>\n",
       "      <td>5</td>\n",
       "      <td>2</td>\n",
       "      <td>...</td>\n",
       "      <td>4</td>\n",
       "      <td>1</td>\n",
       "      <td>1</td>\n",
       "      <td>5</td>\n",
       "      <td>5</td>\n",
       "      <td>3</td>\n",
       "      <td>1</td>\n",
       "      <td>5</td>\n",
       "      <td>5</td>\n",
       "      <td>1</td>\n",
       "    </tr>\n",
       "    <tr>\n",
       "      <th>Original Ratings</th>\n",
       "      <td>3</td>\n",
       "      <td>1</td>\n",
       "      <td>4</td>\n",
       "      <td>2</td>\n",
       "      <td>5</td>\n",
       "      <td>2</td>\n",
       "      <td>4</td>\n",
       "      <td>3</td>\n",
       "      <td>5</td>\n",
       "      <td>3</td>\n",
       "      <td>...</td>\n",
       "      <td>4</td>\n",
       "      <td>1</td>\n",
       "      <td>1</td>\n",
       "      <td>4</td>\n",
       "      <td>5</td>\n",
       "      <td>3</td>\n",
       "      <td>1</td>\n",
       "      <td>3</td>\n",
       "      <td>1</td>\n",
       "      <td>1</td>\n",
       "    </tr>\n",
       "  </tbody>\n",
       "</table>\n",
       "<p>2 rows × 5527 columns</p>\n",
       "</div>"
      ],
      "text/plain": [
       "                   0     1     2     3     4     5     6     7     8     9     \\\n",
       "Predicted Ratings     3     1     4     3     5     1     5     3     5     2   \n",
       "Original Ratings      3     1     4     2     5     2     4     3     5     3   \n",
       "\n",
       "                   ...  5517  5518  5519  5520  5521  5522  5523  5524  5525  \\\n",
       "Predicted Ratings  ...     4     1     1     5     5     3     1     5     5   \n",
       "Original Ratings   ...     4     1     1     4     5     3     1     3     1   \n",
       "\n",
       "                   5526  \n",
       "Predicted Ratings     1  \n",
       "Original Ratings      1  \n",
       "\n",
       "[2 rows x 5527 columns]"
      ]
     },
     "execution_count": 102,
     "metadata": {},
     "output_type": "execute_result"
    }
   ],
   "source": [
    "conclusion=pd.DataFrame(data=[Prediction,y_test],index=['Predicted Ratings','Original Ratings'])\n",
    "conclusion"
   ]
  },
  {
   "cell_type": "markdown",
   "id": "894a77ef",
   "metadata": {},
   "source": [
    "###### After comparing all the above model i come to the point that Random Forest Classifier model performs well as compare to other models. This model generates training accuracy as almost 100% and testing accuracy as 61% which is best as compare to others. Also the Cross Validation score for the model is increasing at each instances so we can say that it might come same as that of testing accuracy at some point."
   ]
  }
 ],
 "metadata": {
  "kernelspec": {
   "display_name": "Python 3 (ipykernel)",
   "language": "python",
   "name": "python3"
  },
  "language_info": {
   "codemirror_mode": {
    "name": "ipython",
    "version": 3
   },
   "file_extension": ".py",
   "mimetype": "text/x-python",
   "name": "python",
   "nbconvert_exporter": "python",
   "pygments_lexer": "ipython3",
   "version": "3.9.7"
  }
 },
 "nbformat": 4,
 "nbformat_minor": 5
}
