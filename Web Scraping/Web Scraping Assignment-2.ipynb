{
 "cells": [
  {
   "cell_type": "markdown",
   "id": "81058c24",
   "metadata": {},
   "source": [
    "1"
   ]
  },
  {
   "cell_type": "code",
   "execution_count": 4,
   "id": "c44f38f5",
   "metadata": {},
   "outputs": [
    {
     "name": "stdout",
     "output_type": "stream",
     "text": [
      "Requirement already satisfied: selenium in c:\\users\\admin\\anaconda3\\lib\\site-packages (4.4.0)\n",
      "Requirement already satisfied: trio-websocket~=0.9 in c:\\users\\admin\\anaconda3\\lib\\site-packages (from selenium) (0.9.2)\n",
      "Requirement already satisfied: trio~=0.17 in c:\\users\\admin\\anaconda3\\lib\\site-packages (from selenium) (0.21.0)\n",
      "Requirement already satisfied: urllib3[secure,socks]~=1.26 in c:\\users\\admin\\anaconda3\\lib\\site-packages (from selenium) (1.26.7)\n",
      "Requirement already satisfied: attrs>=19.2.0 in c:\\users\\admin\\anaconda3\\lib\\site-packages (from trio~=0.17->selenium) (21.2.0)\n",
      "Requirement already satisfied: idna in c:\\users\\admin\\anaconda3\\lib\\site-packages (from trio~=0.17->selenium) (3.2)\n",
      "Requirement already satisfied: cffi>=1.14 in c:\\users\\admin\\anaconda3\\lib\\site-packages (from trio~=0.17->selenium) (1.14.6)\n",
      "Requirement already satisfied: sortedcontainers in c:\\users\\admin\\anaconda3\\lib\\site-packages (from trio~=0.17->selenium) (2.4.0)\n",
      "Requirement already satisfied: async-generator>=1.9 in c:\\users\\admin\\anaconda3\\lib\\site-packages (from trio~=0.17->selenium) (1.10)\n",
      "Requirement already satisfied: sniffio in c:\\users\\admin\\anaconda3\\lib\\site-packages (from trio~=0.17->selenium) (1.2.0)\n",
      "Requirement already satisfied: outcome in c:\\users\\admin\\anaconda3\\lib\\site-packages (from trio~=0.17->selenium) (1.2.0)\n",
      "Requirement already satisfied: pycparser in c:\\users\\admin\\anaconda3\\lib\\site-packages (from cffi>=1.14->trio~=0.17->selenium) (2.20)\n",
      "Requirement already satisfied: wsproto>=0.14 in c:\\users\\admin\\anaconda3\\lib\\site-packages (from trio-websocket~=0.9->selenium) (1.1.0)\n",
      "Requirement already satisfied: pyOpenSSL>=0.14 in c:\\users\\admin\\anaconda3\\lib\\site-packages (from urllib3[secure,socks]~=1.26->selenium) (21.0.0)\n",
      "Requirement already satisfied: cryptography>=1.3.4 in c:\\users\\admin\\anaconda3\\lib\\site-packages (from urllib3[secure,socks]~=1.26->selenium) (3.4.8)\n",
      "Requirement already satisfied: certifi in c:\\users\\admin\\anaconda3\\lib\\site-packages (from urllib3[secure,socks]~=1.26->selenium) (2021.10.8)\n",
      "Requirement already satisfied: PySocks!=1.5.7,<2.0,>=1.5.6 in c:\\users\\admin\\anaconda3\\lib\\site-packages (from urllib3[secure,socks]~=1.26->selenium) (1.7.1)\n",
      "Requirement already satisfied: six>=1.5.2 in c:\\users\\admin\\anaconda3\\lib\\site-packages (from pyOpenSSL>=0.14->urllib3[secure,socks]~=1.26->selenium) (1.16.0)\n",
      "Requirement already satisfied: h11<1,>=0.9.0 in c:\\users\\admin\\anaconda3\\lib\\site-packages (from wsproto>=0.14->trio-websocket~=0.9->selenium) (0.13.0)\n"
     ]
    }
   ],
   "source": [
    "!pip install selenium"
   ]
  },
  {
   "cell_type": "code",
   "execution_count": 5,
   "id": "5d1b2999",
   "metadata": {},
   "outputs": [],
   "source": [
    "import selenium\n",
    "from selenium import webdriver\n",
    "from selenium.common.exceptions import StaleElementReferenceException,NoSuchElementException\n",
    "from selenium.webdriver.common.by import By\n",
    "import warnings\n",
    "warnings.filterwarnings('ignore')\n",
    "import pandas as pd\n",
    "import time"
   ]
  },
  {
   "cell_type": "code",
   "execution_count": 3,
   "id": "904d7b83",
   "metadata": {},
   "outputs": [],
   "source": [
    "driver=webdriver.Chrome(r'C:\\Users\\Admin\\Desktop\\Internship\\worksheet set 1\\chromedriver.exe')"
   ]
  },
  {
   "cell_type": "code",
   "execution_count": 4,
   "id": "1e418042",
   "metadata": {},
   "outputs": [],
   "source": [
    "driver=webdriver.Chrome(r'chromedriver.exe')"
   ]
  },
  {
   "cell_type": "code",
   "execution_count": 5,
   "id": "05a4592a",
   "metadata": {},
   "outputs": [],
   "source": [
    "driver.get('https://www.naukri.com/')"
   ]
  },
  {
   "cell_type": "code",
   "execution_count": 6,
   "id": "0d0fbc44",
   "metadata": {},
   "outputs": [],
   "source": [
    "designation=driver.find_element(By.CLASS_NAME,\"suggestor-input\")\n",
    "designation.send_keys('Data Analyst')"
   ]
  },
  {
   "cell_type": "code",
   "execution_count": 7,
   "id": "b62df8c6",
   "metadata": {},
   "outputs": [],
   "source": [
    "location=driver.find_element(By.XPATH,'/html/body/div[1]/div[2]/div[3]/div/div/div[5]/div/div/div/input')\n",
    "location.send_keys('Bangalore')"
   ]
  },
  {
   "cell_type": "code",
   "execution_count": 8,
   "id": "81f615f3",
   "metadata": {},
   "outputs": [],
   "source": [
    "search=driver.find_element(By.XPATH,'/html/body/div[1]/div[2]/div[3]/div/div/div[6]')\n",
    "search.click()"
   ]
  },
  {
   "cell_type": "code",
   "execution_count": 9,
   "id": "bdb469af",
   "metadata": {},
   "outputs": [
    {
     "data": {
      "text/plain": [
       "['Senior Data Analyst',\n",
       " 'Senior Data Analyst II',\n",
       " 'Data Analyst',\n",
       " 'Data Analyst',\n",
       " 'Data Analyst - Data Science, 3 To 5 Years',\n",
       " 'Commercial Stream Data Analyst',\n",
       " 'Data Analyst',\n",
       " 'Data Analyst / MIS',\n",
       " 'Business Analyst/ Data Analyst opportunity - Bangalore, India',\n",
       " 'Job opportunity Switzerland based MNC / JR. Data Analyst']"
      ]
     },
     "execution_count": 9,
     "metadata": {},
     "output_type": "execute_result"
    }
   ],
   "source": [
    "job_title=[]\n",
    "for i in driver.find_elements(By.XPATH,'//a[@class=\"title fw500 ellipsis\"]')[0:10]:\n",
    "    job_title.append(i.text)\n",
    "job_title    "
   ]
  },
  {
   "cell_type": "code",
   "execution_count": 10,
   "id": "13229143",
   "metadata": {},
   "outputs": [
    {
     "data": {
      "text/plain": [
       "['Bangalore/Bengaluru',\n",
       " 'Bangalore/Bengaluru',\n",
       " 'Bangalore/Bengaluru',\n",
       " 'Bangalore/Bengaluru',\n",
       " 'Bangalore/Bengaluru, Mumbai (All Areas)',\n",
       " 'Bangalore/Bengaluru',\n",
       " 'Bangalore/Bengaluru',\n",
       " 'Bangalore/Bengaluru(Indira Nagar)',\n",
       " 'Bangalore/Bengaluru',\n",
       " 'Bangalore/Bengaluru']"
      ]
     },
     "execution_count": 10,
     "metadata": {},
     "output_type": "execute_result"
    }
   ],
   "source": [
    "job_location=[]\n",
    "for i in driver.find_elements(By.XPATH,'//li[@class=\"fleft grey-text br2 placeHolderLi location\"]')[0:10]:\n",
    "    job_location.append(i.text)\n",
    "job_location"
   ]
  },
  {
   "cell_type": "code",
   "execution_count": 11,
   "id": "50bbb8be",
   "metadata": {},
   "outputs": [
    {
     "data": {
      "text/plain": [
       "['Optum',\n",
       " 'Flipkart',\n",
       " 'Bright Money',\n",
       " 'Aon Hewitt',\n",
       " 'Rise Finconnect',\n",
       " 'Schneider Electric',\n",
       " 'Cargill',\n",
       " 'Trukker Technologies',\n",
       " 'GSG consulting services private ltd',\n",
       " 'Allegis Services India Pvt. Ltd.']"
      ]
     },
     "execution_count": 11,
     "metadata": {},
     "output_type": "execute_result"
    }
   ],
   "source": [
    "company_name=[]\n",
    "for i in driver.find_elements(By.XPATH,'//a[@class=\"subTitle ellipsis fleft\"]')[0:10]:\n",
    "    company_name.append(i.text)\n",
    "company_name"
   ]
  },
  {
   "cell_type": "code",
   "execution_count": 12,
   "id": "2b7d8fce",
   "metadata": {},
   "outputs": [
    {
     "data": {
      "text/plain": [
       "['5-7 Yrs',\n",
       " '3-6 Yrs',\n",
       " '0-2 Yrs',\n",
       " '2-4 Yrs',\n",
       " '2-6 Yrs',\n",
       " '3-8 Yrs',\n",
       " '2-7 Yrs',\n",
       " '3-6 Yrs',\n",
       " '5-10 Yrs',\n",
       " '0-2 Yrs']"
      ]
     },
     "execution_count": 12,
     "metadata": {},
     "output_type": "execute_result"
    }
   ],
   "source": [
    "experience_required=[]\n",
    "for i in driver.find_elements(By.XPATH,'//li[@class=\"fleft grey-text br2 placeHolderLi experience\"]')[0:10]:\n",
    "    experience_required.append(i.text)\n",
    "experience_required    "
   ]
  },
  {
   "cell_type": "code",
   "execution_count": 13,
   "id": "fbdd548d",
   "metadata": {},
   "outputs": [
    {
     "name": "stdout",
     "output_type": "stream",
     "text": [
      "10 10 10 10\n"
     ]
    }
   ],
   "source": [
    "print(len(job_title),len(job_location),len(company_name),len(experience_required))"
   ]
  },
  {
   "cell_type": "code",
   "execution_count": 14,
   "id": "48cdd3ec",
   "metadata": {},
   "outputs": [
    {
     "data": {
      "text/html": [
       "<div>\n",
       "<style scoped>\n",
       "    .dataframe tbody tr th:only-of-type {\n",
       "        vertical-align: middle;\n",
       "    }\n",
       "\n",
       "    .dataframe tbody tr th {\n",
       "        vertical-align: top;\n",
       "    }\n",
       "\n",
       "    .dataframe thead th {\n",
       "        text-align: right;\n",
       "    }\n",
       "</style>\n",
       "<table border=\"1\" class=\"dataframe\">\n",
       "  <thead>\n",
       "    <tr style=\"text-align: right;\">\n",
       "      <th></th>\n",
       "      <th>Job_Title</th>\n",
       "      <th>Job_Location</th>\n",
       "      <th>Company_Name</th>\n",
       "      <th>Experience_Required</th>\n",
       "    </tr>\n",
       "  </thead>\n",
       "  <tbody>\n",
       "    <tr>\n",
       "      <th>0</th>\n",
       "      <td>Senior Data Analyst</td>\n",
       "      <td>Bangalore/Bengaluru</td>\n",
       "      <td>Optum</td>\n",
       "      <td>5-7 Yrs</td>\n",
       "    </tr>\n",
       "    <tr>\n",
       "      <th>1</th>\n",
       "      <td>Senior Data Analyst II</td>\n",
       "      <td>Bangalore/Bengaluru</td>\n",
       "      <td>Flipkart</td>\n",
       "      <td>3-6 Yrs</td>\n",
       "    </tr>\n",
       "    <tr>\n",
       "      <th>2</th>\n",
       "      <td>Data Analyst</td>\n",
       "      <td>Bangalore/Bengaluru</td>\n",
       "      <td>Bright Money</td>\n",
       "      <td>0-2 Yrs</td>\n",
       "    </tr>\n",
       "    <tr>\n",
       "      <th>3</th>\n",
       "      <td>Data Analyst</td>\n",
       "      <td>Bangalore/Bengaluru</td>\n",
       "      <td>Aon Hewitt</td>\n",
       "      <td>2-4 Yrs</td>\n",
       "    </tr>\n",
       "    <tr>\n",
       "      <th>4</th>\n",
       "      <td>Data Analyst - Data Science, 3 To 5 Years</td>\n",
       "      <td>Bangalore/Bengaluru, Mumbai (All Areas)</td>\n",
       "      <td>Rise Finconnect</td>\n",
       "      <td>2-6 Yrs</td>\n",
       "    </tr>\n",
       "    <tr>\n",
       "      <th>5</th>\n",
       "      <td>Commercial Stream Data Analyst</td>\n",
       "      <td>Bangalore/Bengaluru</td>\n",
       "      <td>Schneider Electric</td>\n",
       "      <td>3-8 Yrs</td>\n",
       "    </tr>\n",
       "    <tr>\n",
       "      <th>6</th>\n",
       "      <td>Data Analyst</td>\n",
       "      <td>Bangalore/Bengaluru</td>\n",
       "      <td>Cargill</td>\n",
       "      <td>2-7 Yrs</td>\n",
       "    </tr>\n",
       "    <tr>\n",
       "      <th>7</th>\n",
       "      <td>Data Analyst / MIS</td>\n",
       "      <td>Bangalore/Bengaluru(Indira Nagar)</td>\n",
       "      <td>Trukker Technologies</td>\n",
       "      <td>3-6 Yrs</td>\n",
       "    </tr>\n",
       "    <tr>\n",
       "      <th>8</th>\n",
       "      <td>Business Analyst/ Data Analyst opportunity - B...</td>\n",
       "      <td>Bangalore/Bengaluru</td>\n",
       "      <td>GSG consulting services private ltd</td>\n",
       "      <td>5-10 Yrs</td>\n",
       "    </tr>\n",
       "    <tr>\n",
       "      <th>9</th>\n",
       "      <td>Job opportunity Switzerland based MNC / JR. Da...</td>\n",
       "      <td>Bangalore/Bengaluru</td>\n",
       "      <td>Allegis Services India Pvt. Ltd.</td>\n",
       "      <td>0-2 Yrs</td>\n",
       "    </tr>\n",
       "  </tbody>\n",
       "</table>\n",
       "</div>"
      ],
      "text/plain": [
       "                                           Job_Title  \\\n",
       "0                                Senior Data Analyst   \n",
       "1                             Senior Data Analyst II   \n",
       "2                                       Data Analyst   \n",
       "3                                       Data Analyst   \n",
       "4          Data Analyst - Data Science, 3 To 5 Years   \n",
       "5                     Commercial Stream Data Analyst   \n",
       "6                                       Data Analyst   \n",
       "7                                 Data Analyst / MIS   \n",
       "8  Business Analyst/ Data Analyst opportunity - B...   \n",
       "9  Job opportunity Switzerland based MNC / JR. Da...   \n",
       "\n",
       "                              Job_Location  \\\n",
       "0                      Bangalore/Bengaluru   \n",
       "1                      Bangalore/Bengaluru   \n",
       "2                      Bangalore/Bengaluru   \n",
       "3                      Bangalore/Bengaluru   \n",
       "4  Bangalore/Bengaluru, Mumbai (All Areas)   \n",
       "5                      Bangalore/Bengaluru   \n",
       "6                      Bangalore/Bengaluru   \n",
       "7        Bangalore/Bengaluru(Indira Nagar)   \n",
       "8                      Bangalore/Bengaluru   \n",
       "9                      Bangalore/Bengaluru   \n",
       "\n",
       "                          Company_Name Experience_Required  \n",
       "0                                Optum             5-7 Yrs  \n",
       "1                             Flipkart             3-6 Yrs  \n",
       "2                         Bright Money             0-2 Yrs  \n",
       "3                           Aon Hewitt             2-4 Yrs  \n",
       "4                      Rise Finconnect             2-6 Yrs  \n",
       "5                   Schneider Electric             3-8 Yrs  \n",
       "6                              Cargill             2-7 Yrs  \n",
       "7                 Trukker Technologies             3-6 Yrs  \n",
       "8  GSG consulting services private ltd            5-10 Yrs  \n",
       "9     Allegis Services India Pvt. Ltd.             0-2 Yrs  "
      ]
     },
     "execution_count": 14,
     "metadata": {},
     "output_type": "execute_result"
    }
   ],
   "source": [
    "df=pd.DataFrame({'Job_Title':job_title,'Job_Location':job_location,'Company_Name':company_name,'Experience_Required':experience_required})\n",
    "df"
   ]
  },
  {
   "cell_type": "markdown",
   "id": "526b1987",
   "metadata": {},
   "source": [
    "2"
   ]
  },
  {
   "cell_type": "code",
   "execution_count": 15,
   "id": "b72a253d",
   "metadata": {},
   "outputs": [],
   "source": [
    "driver=webdriver.Chrome(r'C:\\Users\\Admin\\Desktop\\Internship\\worksheet set 1\\chromedriver.exe')"
   ]
  },
  {
   "cell_type": "code",
   "execution_count": 16,
   "id": "33d8720e",
   "metadata": {},
   "outputs": [],
   "source": [
    "driver.get('https://www.naukri.com/')"
   ]
  },
  {
   "cell_type": "code",
   "execution_count": 17,
   "id": "5f244ab7",
   "metadata": {},
   "outputs": [],
   "source": [
    "Designations=driver.find_element(By.XPATH,'/html/body/div[1]/div[2]/div[3]/div/div/div[1]/div/div/div/input')\n",
    "Designations.send_keys('Data Scientist')"
   ]
  },
  {
   "cell_type": "code",
   "execution_count": 18,
   "id": "ba85e4a4",
   "metadata": {},
   "outputs": [],
   "source": [
    "Location=driver.find_element(By.XPATH,'/html/body/div[1]/div[2]/div[3]/div/div/div[5]/div/div/div/input')\n",
    "Location.send_keys('Bangalore')"
   ]
  },
  {
   "cell_type": "code",
   "execution_count": 19,
   "id": "b7b83e45",
   "metadata": {},
   "outputs": [],
   "source": [
    "Search=driver.find_element(By.XPATH,'/html/body/div[1]/div[2]/div[3]/div/div/div[6]')\n",
    "Search.click()"
   ]
  },
  {
   "cell_type": "code",
   "execution_count": 20,
   "id": "8dbf194c",
   "metadata": {},
   "outputs": [
    {
     "data": {
      "text/plain": [
       "['Analystics & Modeling Specialist',\n",
       " 'Job||Job Opening For AI Technologist - Data Scientist at Wipro Holmes',\n",
       " 'Urgent Job Opening For AI Practitioner - Data Science at Wipro Holmes',\n",
       " 'Assistant Manager - Data Science',\n",
       " 'Data scientist _Tata Consultancy Services(Tcs)',\n",
       " 'Data Science Senior Analyst',\n",
       " 'Hiring For DATA Scientist @ NTT DATA Business Solution India',\n",
       " 'Expert Data Scientist',\n",
       " 'ACN - Applied Intelligence - C4DI - Sustainability - 09',\n",
       " 'ACN - Applied Intelligence - Data & Insights - CPG - 09']"
      ]
     },
     "execution_count": 20,
     "metadata": {},
     "output_type": "execute_result"
    }
   ],
   "source": [
    "Job_Title=[]\n",
    "for i in driver.find_elements(By.XPATH,'//a[@class=\"title fw500 ellipsis\"]')[0:10]:\n",
    "    Job_Title.append(i.text)\n",
    "Job_Title    "
   ]
  },
  {
   "cell_type": "code",
   "execution_count": 21,
   "id": "0a8c6ca0",
   "metadata": {},
   "outputs": [
    {
     "data": {
      "text/plain": [
       "['Bangalore/Bengaluru, Kolkata, Mumbai, Hyderabad/Secunderabad, Pune, Chennai, delhi ncr',\n",
       " 'Bangalore/Bengaluru, New Delhi, Hyderabad/Secunderabad, Pune, Chennai, Coimbatore, Cochin, Mumbai',\n",
       " 'Bangalore/Bengaluru, Kochi/Cochin, New Delhi, Coimbatore, Chennai, Pune, Mumbai, Hyderabad',\n",
       " 'Bangalore/Bengaluru, Mumbai, Pune',\n",
       " 'Bangalore/Bengaluru, Kochi/Cochin, Indore, New Delhi, Hyderabad/Secunderabad, Pune, Chennai, Delhi / NCR, Mumbai (All Areas)',\n",
       " 'Bangalore/Bengaluru, Kolkata, Mumbai, Hyderabad/Secunderabad, Pune, Chennai, delhi ncr',\n",
       " 'Bangalore/Bengaluru, Noida, Hyderabad/Secunderabad, Pune, Gurgaon/Gurugram, Chennai, Mumbai (All Areas)',\n",
       " 'Bangalore/Bengaluru, Mumbai',\n",
       " 'Bangalore/Bengaluru',\n",
       " 'Bangalore/Bengaluru']"
      ]
     },
     "execution_count": 21,
     "metadata": {},
     "output_type": "execute_result"
    }
   ],
   "source": [
    "Job_Location=[]\n",
    "for i in driver.find_elements(By.XPATH,'//li[@class=\"fleft grey-text br2 placeHolderLi location\"]')[0:10]:\n",
    "    Job_Location.append(i.text)\n",
    "Job_Location"
   ]
  },
  {
   "cell_type": "code",
   "execution_count": 22,
   "id": "8a676a25",
   "metadata": {},
   "outputs": [
    {
     "data": {
      "text/plain": [
       "['Accenture',\n",
       " 'Wipro',\n",
       " 'Wipro',\n",
       " 'CitiusTech',\n",
       " 'TATA CONSULTANCY SERVICES (TCS)',\n",
       " 'Accenture',\n",
       " 'NTT DATA Business Solutions Private Limited',\n",
       " 'United Phosphorus Limited',\n",
       " 'Accenture',\n",
       " 'Accenture']"
      ]
     },
     "execution_count": 22,
     "metadata": {},
     "output_type": "execute_result"
    }
   ],
   "source": [
    "Company_Name=[]\n",
    "for i in driver.find_elements(By.XPATH,'//a[@class=\"subTitle ellipsis fleft\"]')[0:10]:\n",
    "    Company_Name.append(i.text)\n",
    "Company_Name"
   ]
  },
  {
   "cell_type": "code",
   "execution_count": 23,
   "id": "c045d24e",
   "metadata": {},
   "outputs": [
    {
     "name": "stdout",
     "output_type": "stream",
     "text": [
      "10 10 10\n"
     ]
    }
   ],
   "source": [
    "print(len(Job_Title),len(Job_Location),len(Company_Name))"
   ]
  },
  {
   "cell_type": "code",
   "execution_count": 24,
   "id": "5d176c4c",
   "metadata": {},
   "outputs": [
    {
     "data": {
      "text/html": [
       "<div>\n",
       "<style scoped>\n",
       "    .dataframe tbody tr th:only-of-type {\n",
       "        vertical-align: middle;\n",
       "    }\n",
       "\n",
       "    .dataframe tbody tr th {\n",
       "        vertical-align: top;\n",
       "    }\n",
       "\n",
       "    .dataframe thead th {\n",
       "        text-align: right;\n",
       "    }\n",
       "</style>\n",
       "<table border=\"1\" class=\"dataframe\">\n",
       "  <thead>\n",
       "    <tr style=\"text-align: right;\">\n",
       "      <th></th>\n",
       "      <th>Job_Title</th>\n",
       "      <th>Job_Location</th>\n",
       "      <th>Company_Name</th>\n",
       "    </tr>\n",
       "  </thead>\n",
       "  <tbody>\n",
       "    <tr>\n",
       "      <th>0</th>\n",
       "      <td>Analystics &amp; Modeling Specialist</td>\n",
       "      <td>Bangalore/Bengaluru, Kolkata, Mumbai, Hyderaba...</td>\n",
       "      <td>Accenture</td>\n",
       "    </tr>\n",
       "    <tr>\n",
       "      <th>1</th>\n",
       "      <td>Job||Job Opening For AI Technologist - Data Sc...</td>\n",
       "      <td>Bangalore/Bengaluru, New Delhi, Hyderabad/Secu...</td>\n",
       "      <td>Wipro</td>\n",
       "    </tr>\n",
       "    <tr>\n",
       "      <th>2</th>\n",
       "      <td>Urgent Job Opening For AI Practitioner - Data ...</td>\n",
       "      <td>Bangalore/Bengaluru, Kochi/Cochin, New Delhi, ...</td>\n",
       "      <td>Wipro</td>\n",
       "    </tr>\n",
       "    <tr>\n",
       "      <th>3</th>\n",
       "      <td>Assistant Manager - Data Science</td>\n",
       "      <td>Bangalore/Bengaluru, Mumbai, Pune</td>\n",
       "      <td>CitiusTech</td>\n",
       "    </tr>\n",
       "    <tr>\n",
       "      <th>4</th>\n",
       "      <td>Data scientist _Tata Consultancy Services(Tcs)</td>\n",
       "      <td>Bangalore/Bengaluru, Kochi/Cochin, Indore, New...</td>\n",
       "      <td>TATA CONSULTANCY SERVICES (TCS)</td>\n",
       "    </tr>\n",
       "    <tr>\n",
       "      <th>5</th>\n",
       "      <td>Data Science Senior Analyst</td>\n",
       "      <td>Bangalore/Bengaluru, Kolkata, Mumbai, Hyderaba...</td>\n",
       "      <td>Accenture</td>\n",
       "    </tr>\n",
       "    <tr>\n",
       "      <th>6</th>\n",
       "      <td>Hiring For DATA Scientist @ NTT DATA Business ...</td>\n",
       "      <td>Bangalore/Bengaluru, Noida, Hyderabad/Secunder...</td>\n",
       "      <td>NTT DATA Business Solutions Private Limited</td>\n",
       "    </tr>\n",
       "    <tr>\n",
       "      <th>7</th>\n",
       "      <td>Expert Data Scientist</td>\n",
       "      <td>Bangalore/Bengaluru, Mumbai</td>\n",
       "      <td>United Phosphorus Limited</td>\n",
       "    </tr>\n",
       "    <tr>\n",
       "      <th>8</th>\n",
       "      <td>ACN - Applied Intelligence - C4DI - Sustainabi...</td>\n",
       "      <td>Bangalore/Bengaluru</td>\n",
       "      <td>Accenture</td>\n",
       "    </tr>\n",
       "    <tr>\n",
       "      <th>9</th>\n",
       "      <td>ACN - Applied Intelligence - Data &amp; Insights -...</td>\n",
       "      <td>Bangalore/Bengaluru</td>\n",
       "      <td>Accenture</td>\n",
       "    </tr>\n",
       "  </tbody>\n",
       "</table>\n",
       "</div>"
      ],
      "text/plain": [
       "                                           Job_Title  \\\n",
       "0                   Analystics & Modeling Specialist   \n",
       "1  Job||Job Opening For AI Technologist - Data Sc...   \n",
       "2  Urgent Job Opening For AI Practitioner - Data ...   \n",
       "3                   Assistant Manager - Data Science   \n",
       "4     Data scientist _Tata Consultancy Services(Tcs)   \n",
       "5                        Data Science Senior Analyst   \n",
       "6  Hiring For DATA Scientist @ NTT DATA Business ...   \n",
       "7                              Expert Data Scientist   \n",
       "8  ACN - Applied Intelligence - C4DI - Sustainabi...   \n",
       "9  ACN - Applied Intelligence - Data & Insights -...   \n",
       "\n",
       "                                        Job_Location  \\\n",
       "0  Bangalore/Bengaluru, Kolkata, Mumbai, Hyderaba...   \n",
       "1  Bangalore/Bengaluru, New Delhi, Hyderabad/Secu...   \n",
       "2  Bangalore/Bengaluru, Kochi/Cochin, New Delhi, ...   \n",
       "3                  Bangalore/Bengaluru, Mumbai, Pune   \n",
       "4  Bangalore/Bengaluru, Kochi/Cochin, Indore, New...   \n",
       "5  Bangalore/Bengaluru, Kolkata, Mumbai, Hyderaba...   \n",
       "6  Bangalore/Bengaluru, Noida, Hyderabad/Secunder...   \n",
       "7                        Bangalore/Bengaluru, Mumbai   \n",
       "8                                Bangalore/Bengaluru   \n",
       "9                                Bangalore/Bengaluru   \n",
       "\n",
       "                                  Company_Name  \n",
       "0                                    Accenture  \n",
       "1                                        Wipro  \n",
       "2                                        Wipro  \n",
       "3                                   CitiusTech  \n",
       "4              TATA CONSULTANCY SERVICES (TCS)  \n",
       "5                                    Accenture  \n",
       "6  NTT DATA Business Solutions Private Limited  \n",
       "7                    United Phosphorus Limited  \n",
       "8                                    Accenture  \n",
       "9                                    Accenture  "
      ]
     },
     "execution_count": 24,
     "metadata": {},
     "output_type": "execute_result"
    }
   ],
   "source": [
    "df=pd.DataFrame({'Job_Title':Job_Title,'Job_Location':Job_Location,'Company_Name':Company_Name})\n",
    "df"
   ]
  },
  {
   "cell_type": "markdown",
   "id": "19bc59ee",
   "metadata": {},
   "source": [
    "3"
   ]
  },
  {
   "cell_type": "code",
   "execution_count": 3,
   "id": "4b67da17",
   "metadata": {},
   "outputs": [],
   "source": [
    "driver=webdriver.Chrome(r'C:\\Users\\Admin\\Desktop\\Internship\\worksheet set 1\\chromedriver.exe')"
   ]
  },
  {
   "cell_type": "code",
   "execution_count": 4,
   "id": "81f84ed6",
   "metadata": {},
   "outputs": [],
   "source": [
    "driver.get(' https://www.naukri.com/')"
   ]
  },
  {
   "cell_type": "code",
   "execution_count": 5,
   "id": "6a94fc63",
   "metadata": {},
   "outputs": [],
   "source": [
    "designaion=driver.find_element(By.XPATH,'/html/body/div[1]/div[2]/div[3]/div/div/div[1]/div/div/div/input')\n",
    "designaion.send_keys('Data Scientist')"
   ]
  },
  {
   "cell_type": "code",
   "execution_count": 6,
   "id": "19058997",
   "metadata": {},
   "outputs": [],
   "source": [
    "search=driver.find_element(By.XPATH,'/html/body/div[1]/div[2]/div[3]/div/div/div[6]')\n",
    "search.click()"
   ]
  },
  {
   "cell_type": "code",
   "execution_count": 8,
   "id": "606e3f00",
   "metadata": {},
   "outputs": [],
   "source": [
    "location=driver.find_element(By.XPATH,'/html/body/div[1]/div[3]/div[2]/section[1]/div[2]/div[5]/div[2]/div[3]/label/i')\n",
    "location.click()"
   ]
  },
  {
   "cell_type": "code",
   "execution_count": 9,
   "id": "947a0445",
   "metadata": {},
   "outputs": [],
   "source": [
    "salary=driver.find_element(By.XPATH,'/html/body/div[1]/div[3]/div[2]/section[1]/div[2]/div[6]/div[2]/div[2]/label/i')\n",
    "salary.click()"
   ]
  },
  {
   "cell_type": "code",
   "execution_count": 10,
   "id": "2cbeebd3",
   "metadata": {},
   "outputs": [
    {
     "data": {
      "text/plain": [
       "['Job||Job Opening For AI Technologist - Data Scientist at Wipro Holmes',\n",
       " 'Data Scientist - Noida/Bangalore',\n",
       " 'DigitalBCG GAMMA Data Scientist',\n",
       " 'Data Scientist - Predictive Analytics',\n",
       " 'Data Scientist',\n",
       " 'Chat-bot Developer / Data Scientist',\n",
       " 'Data Scientist / Chat-bot Developer',\n",
       " 'Data Scientist - Engine Algorithm',\n",
       " 'Data Scientist For Healthcare Product team',\n",
       " 'Data Scientist']"
      ]
     },
     "execution_count": 10,
     "metadata": {},
     "output_type": "execute_result"
    }
   ],
   "source": [
    "Job_Title=[]\n",
    "for i in driver.find_elements(By.XPATH,'//a[@class=\"title fw500 ellipsis\"]')[0:10]:\n",
    "    Job_Title.append(i.text)\n",
    "Job_Title"
   ]
  },
  {
   "cell_type": "code",
   "execution_count": 11,
   "id": "beb4fa3e",
   "metadata": {},
   "outputs": [
    {
     "data": {
      "text/plain": [
       "['New Delhi, Hyderabad/Secunderabad, Pune, Chennai, Bangalore/Bengaluru, Coimbatore, Cochin, Mumbai',\n",
       " 'Noida, Bangalore/Bengaluru',\n",
       " 'New Delhi, Bangalore/Bengaluru',\n",
       " 'Noida, Mumbai, Chandigarh, Hyderabad/Secunderabad, Pune, Chennai, Gurgaon/Gurugram, Coimbatore, Bangalore/Bengaluru',\n",
       " 'Gurgaon/Gurugram',\n",
       " 'Mumbai, New Delhi, Bangalore/Bengaluru\\n(WFH during Covid)',\n",
       " 'New Delhi, Bangalore/Bengaluru, Mumbai (All Areas)',\n",
       " 'Delhi / NCR, Kolkata, Mumbai, Hyderabad/Secunderabad, Lucknow, Chennai, Ahmedabad, Bangalore/Bengaluru',\n",
       " 'Delhi / NCR, Chennai, Bangalore/Bengaluru',\n",
       " 'Noida, Gurgaon/Gurugram, Jaipur']"
      ]
     },
     "execution_count": 11,
     "metadata": {},
     "output_type": "execute_result"
    }
   ],
   "source": [
    "Job_Location=[]\n",
    "for i in driver.find_elements(By.XPATH,'//li[@class=\"fleft grey-text br2 placeHolderLi location\"]')[0:10]:\n",
    "    Job_Location.append(i.text)\n",
    "Job_Location"
   ]
  },
  {
   "cell_type": "code",
   "execution_count": 12,
   "id": "9122828a",
   "metadata": {},
   "outputs": [
    {
     "data": {
      "text/plain": [
       "['Wipro',\n",
       " 'EXL',\n",
       " 'Boston Consulting Group',\n",
       " 'Confidential',\n",
       " 'Optum',\n",
       " 'Big Seo Buzz',\n",
       " 'Big Seo Buzz',\n",
       " 'Primo Hiring',\n",
       " 'SECUREKLOUD TECHNOLOGIES',\n",
       " 'Celebal Technologies']"
      ]
     },
     "execution_count": 12,
     "metadata": {},
     "output_type": "execute_result"
    }
   ],
   "source": [
    "Company_Name=[]\n",
    "for i in driver.find_elements(By.XPATH,'//a[@class=\"subTitle ellipsis fleft\"]')[0:10]:\n",
    "    Company_Name.append(i.text)\n",
    "Company_Name"
   ]
  },
  {
   "cell_type": "code",
   "execution_count": 13,
   "id": "5772377b",
   "metadata": {},
   "outputs": [
    {
     "data": {
      "text/plain": [
       "['5-10 Yrs',\n",
       " '5-10 Yrs',\n",
       " '2-5 Yrs',\n",
       " '1-6 Yrs',\n",
       " '2-7 Yrs',\n",
       " '2-7 Yrs',\n",
       " '3-7 Yrs',\n",
       " '1-3 Yrs',\n",
       " '2-7 Yrs',\n",
       " '1-5 Yrs']"
      ]
     },
     "execution_count": 13,
     "metadata": {},
     "output_type": "execute_result"
    }
   ],
   "source": [
    "Experience_Required=[]\n",
    "for i in driver.find_elements(By.XPATH,'//li[@class=\"fleft grey-text br2 placeHolderLi experience\"]')[0:10]:\n",
    "    Experience_Required.append(i.text)\n",
    "Experience_Required"
   ]
  },
  {
   "cell_type": "code",
   "execution_count": 14,
   "id": "0e3d2238",
   "metadata": {},
   "outputs": [
    {
     "name": "stdout",
     "output_type": "stream",
     "text": [
      "10 10 10 10\n"
     ]
    }
   ],
   "source": [
    "print(len(Job_Title),len(Job_Location),len(Company_Name),len(Experience_Required))"
   ]
  },
  {
   "cell_type": "code",
   "execution_count": 15,
   "id": "6d467701",
   "metadata": {},
   "outputs": [
    {
     "data": {
      "text/html": [
       "<div>\n",
       "<style scoped>\n",
       "    .dataframe tbody tr th:only-of-type {\n",
       "        vertical-align: middle;\n",
       "    }\n",
       "\n",
       "    .dataframe tbody tr th {\n",
       "        vertical-align: top;\n",
       "    }\n",
       "\n",
       "    .dataframe thead th {\n",
       "        text-align: right;\n",
       "    }\n",
       "</style>\n",
       "<table border=\"1\" class=\"dataframe\">\n",
       "  <thead>\n",
       "    <tr style=\"text-align: right;\">\n",
       "      <th></th>\n",
       "      <th>Job_Title</th>\n",
       "      <th>Job_Location</th>\n",
       "      <th>Company_Name</th>\n",
       "      <th>Experience_Required</th>\n",
       "    </tr>\n",
       "  </thead>\n",
       "  <tbody>\n",
       "    <tr>\n",
       "      <th>0</th>\n",
       "      <td>Job||Job Opening For AI Technologist - Data Sc...</td>\n",
       "      <td>New Delhi, Hyderabad/Secunderabad, Pune, Chenn...</td>\n",
       "      <td>Wipro</td>\n",
       "      <td>5-10 Yrs</td>\n",
       "    </tr>\n",
       "    <tr>\n",
       "      <th>1</th>\n",
       "      <td>Data Scientist - Noida/Bangalore</td>\n",
       "      <td>Noida, Bangalore/Bengaluru</td>\n",
       "      <td>EXL</td>\n",
       "      <td>5-10 Yrs</td>\n",
       "    </tr>\n",
       "    <tr>\n",
       "      <th>2</th>\n",
       "      <td>DigitalBCG GAMMA Data Scientist</td>\n",
       "      <td>New Delhi, Bangalore/Bengaluru</td>\n",
       "      <td>Boston Consulting Group</td>\n",
       "      <td>2-5 Yrs</td>\n",
       "    </tr>\n",
       "    <tr>\n",
       "      <th>3</th>\n",
       "      <td>Data Scientist - Predictive Analytics</td>\n",
       "      <td>Noida, Mumbai, Chandigarh, Hyderabad/Secundera...</td>\n",
       "      <td>Confidential</td>\n",
       "      <td>1-6 Yrs</td>\n",
       "    </tr>\n",
       "    <tr>\n",
       "      <th>4</th>\n",
       "      <td>Data Scientist</td>\n",
       "      <td>Gurgaon/Gurugram</td>\n",
       "      <td>Optum</td>\n",
       "      <td>2-7 Yrs</td>\n",
       "    </tr>\n",
       "    <tr>\n",
       "      <th>5</th>\n",
       "      <td>Chat-bot Developer / Data Scientist</td>\n",
       "      <td>Mumbai, New Delhi, Bangalore/Bengaluru\\n(WFH d...</td>\n",
       "      <td>Big Seo Buzz</td>\n",
       "      <td>2-7 Yrs</td>\n",
       "    </tr>\n",
       "    <tr>\n",
       "      <th>6</th>\n",
       "      <td>Data Scientist / Chat-bot Developer</td>\n",
       "      <td>New Delhi, Bangalore/Bengaluru, Mumbai (All Ar...</td>\n",
       "      <td>Big Seo Buzz</td>\n",
       "      <td>3-7 Yrs</td>\n",
       "    </tr>\n",
       "    <tr>\n",
       "      <th>7</th>\n",
       "      <td>Data Scientist - Engine Algorithm</td>\n",
       "      <td>Delhi / NCR, Kolkata, Mumbai, Hyderabad/Secund...</td>\n",
       "      <td>Primo Hiring</td>\n",
       "      <td>1-3 Yrs</td>\n",
       "    </tr>\n",
       "    <tr>\n",
       "      <th>8</th>\n",
       "      <td>Data Scientist For Healthcare Product team</td>\n",
       "      <td>Delhi / NCR, Chennai, Bangalore/Bengaluru</td>\n",
       "      <td>SECUREKLOUD TECHNOLOGIES</td>\n",
       "      <td>2-7 Yrs</td>\n",
       "    </tr>\n",
       "    <tr>\n",
       "      <th>9</th>\n",
       "      <td>Data Scientist</td>\n",
       "      <td>Noida, Gurgaon/Gurugram, Jaipur</td>\n",
       "      <td>Celebal Technologies</td>\n",
       "      <td>1-5 Yrs</td>\n",
       "    </tr>\n",
       "  </tbody>\n",
       "</table>\n",
       "</div>"
      ],
      "text/plain": [
       "                                           Job_Title  \\\n",
       "0  Job||Job Opening For AI Technologist - Data Sc...   \n",
       "1                   Data Scientist - Noida/Bangalore   \n",
       "2                    DigitalBCG GAMMA Data Scientist   \n",
       "3              Data Scientist - Predictive Analytics   \n",
       "4                                     Data Scientist   \n",
       "5                Chat-bot Developer / Data Scientist   \n",
       "6                Data Scientist / Chat-bot Developer   \n",
       "7                  Data Scientist - Engine Algorithm   \n",
       "8         Data Scientist For Healthcare Product team   \n",
       "9                                     Data Scientist   \n",
       "\n",
       "                                        Job_Location  \\\n",
       "0  New Delhi, Hyderabad/Secunderabad, Pune, Chenn...   \n",
       "1                         Noida, Bangalore/Bengaluru   \n",
       "2                     New Delhi, Bangalore/Bengaluru   \n",
       "3  Noida, Mumbai, Chandigarh, Hyderabad/Secundera...   \n",
       "4                                   Gurgaon/Gurugram   \n",
       "5  Mumbai, New Delhi, Bangalore/Bengaluru\\n(WFH d...   \n",
       "6  New Delhi, Bangalore/Bengaluru, Mumbai (All Ar...   \n",
       "7  Delhi / NCR, Kolkata, Mumbai, Hyderabad/Secund...   \n",
       "8          Delhi / NCR, Chennai, Bangalore/Bengaluru   \n",
       "9                    Noida, Gurgaon/Gurugram, Jaipur   \n",
       "\n",
       "               Company_Name Experience_Required  \n",
       "0                     Wipro            5-10 Yrs  \n",
       "1                       EXL            5-10 Yrs  \n",
       "2   Boston Consulting Group             2-5 Yrs  \n",
       "3              Confidential             1-6 Yrs  \n",
       "4                     Optum             2-7 Yrs  \n",
       "5              Big Seo Buzz             2-7 Yrs  \n",
       "6              Big Seo Buzz             3-7 Yrs  \n",
       "7              Primo Hiring             1-3 Yrs  \n",
       "8  SECUREKLOUD TECHNOLOGIES             2-7 Yrs  \n",
       "9      Celebal Technologies             1-5 Yrs  "
      ]
     },
     "execution_count": 15,
     "metadata": {},
     "output_type": "execute_result"
    }
   ],
   "source": [
    "df=pd.DataFrame({'Job_Title':Job_Title,'Job_Location':Job_Location,'Company_Name':Company_Name,'Experience_Required':Experience_Required})\n",
    "df"
   ]
  },
  {
   "cell_type": "markdown",
   "id": "9da6be73",
   "metadata": {},
   "source": [
    "4"
   ]
  },
  {
   "cell_type": "code",
   "execution_count": 56,
   "id": "30390646",
   "metadata": {},
   "outputs": [],
   "source": [
    "driver=webdriver.Chrome(r'C:\\Users\\Admin\\Desktop\\Internship\\worksheet set 1\\chromedriver.exe')"
   ]
  },
  {
   "cell_type": "code",
   "execution_count": 57,
   "id": "dbfb5f4b",
   "metadata": {},
   "outputs": [],
   "source": [
    "driver.get('https://www.flipkart.com/')"
   ]
  },
  {
   "cell_type": "code",
   "execution_count": 58,
   "id": "584914e9",
   "metadata": {},
   "outputs": [],
   "source": [
    "product=driver.find_element(By.XPATH,'/html/body/div[1]/div/div[1]/div[1]/div[2]/div[2]/form/div/div/input')\n",
    "product.send_keys('sunglasses')"
   ]
  },
  {
   "cell_type": "code",
   "execution_count": 59,
   "id": "21e33f5d",
   "metadata": {},
   "outputs": [],
   "source": [
    "search=driver.find_element(By.XPATH,'/html/body/div[1]/div/div[1]/div[1]/div[2]/div[2]/form/div/button')\n",
    "search.click()"
   ]
  },
  {
   "cell_type": "code",
   "execution_count": 7,
   "id": "e9abe669",
   "metadata": {},
   "outputs": [],
   "source": [
    "brand=[]"
   ]
  },
  {
   "cell_type": "code",
   "execution_count": 64,
   "id": "90bd9ea5",
   "metadata": {},
   "outputs": [],
   "source": [
    "start,stop=0,3\n",
    "for page in range(start,stop):\n",
    "    a=driver.find_elements(By.XPATH,'//div[@class=\"_2WkVRV\"]')\n",
    "    for i in a:\n",
    "        brand.append(i.text)\n",
    "    next_page=driver.find_element(By.XPATH,'//a[@class=\"_1LKTO3\"]')\n",
    "    next_page.click() \n",
    "    time.sleep(3)"
   ]
  },
  {
   "cell_type": "code",
   "execution_count": 65,
   "id": "dd2b48f1",
   "metadata": {},
   "outputs": [
    {
     "data": {
      "text/plain": [
       "120"
      ]
     },
     "execution_count": 65,
     "metadata": {},
     "output_type": "execute_result"
    }
   ],
   "source": [
    "len(brand)"
   ]
  },
  {
   "cell_type": "code",
   "execution_count": 80,
   "id": "5fce8a01",
   "metadata": {},
   "outputs": [
    {
     "data": {
      "text/plain": [
       "['VINCENT CHASE',\n",
       " 'VINCENT CHASE',\n",
       " 'DAHAAZIL',\n",
       " 'Fastrack',\n",
       " 'Fastrack',\n",
       " 'SUNBEE',\n",
       " 'ROZZETTA CRAFT',\n",
       " 'VINCENT CHASE',\n",
       " 'PIRASO',\n",
       " 'Rich Club',\n",
       " 'PIRASO',\n",
       " 'VINCENT CHASE',\n",
       " 'NuVew',\n",
       " 'PHENOMENAL',\n",
       " 'NuVew',\n",
       " 'VINCENT CHASE',\n",
       " 'Fastrack',\n",
       " 'Mi',\n",
       " 'GANSTA',\n",
       " 'VINCENT CHASE',\n",
       " 'Fastrack',\n",
       " 'Fastrack',\n",
       " 'New Specs',\n",
       " 'VINCENT CHASE',\n",
       " 'LIZA ANGEL',\n",
       " 'Elligator',\n",
       " 'Fastrack',\n",
       " 'ROYAL SON',\n",
       " 'ROZZETTA CRAFT',\n",
       " 'SRPM',\n",
       " 'ROYAL SON',\n",
       " 'ROYAL SON',\n",
       " 'Fastrack',\n",
       " 'VINCENT CHASE',\n",
       " 'SHAAH COLLECTIONS',\n",
       " 'ROYAL SON',\n",
       " 'ROZZETTA CRAFT',\n",
       " 'Silver Kartz',\n",
       " 'kingsunglasses',\n",
       " 'ROYAL SON',\n",
       " 'PIRASO',\n",
       " 'Lee Topper',\n",
       " 'SRPM',\n",
       " 'VINCENT CHASE',\n",
       " 'ROZZETTA CRAFT',\n",
       " 'VINCENT CHASE',\n",
       " 'SUNBEE',\n",
       " 'VINCENT CHASE',\n",
       " 'CRYSTAL CART',\n",
       " 'VINCENT CHASE',\n",
       " 'PIRASO',\n",
       " 'VINCENT CHASE',\n",
       " 'ROZZETTA CRAFT',\n",
       " 'Lee Topper',\n",
       " 'CRYSTAL CART',\n",
       " 'VINCENT CHASE',\n",
       " 'Lee Topper',\n",
       " 'GANSTA',\n",
       " 'Fastrack',\n",
       " 'ROYAL SON',\n",
       " 'ROYAL SON',\n",
       " 'VINCENT CHASE',\n",
       " 'VINCENT CHASE',\n",
       " 'ROYAL SON',\n",
       " 'SHAAH COLLECTIONS',\n",
       " 'ROYAL SON',\n",
       " 'AISLIN',\n",
       " 'ROYAL SON',\n",
       " 'New Specs',\n",
       " 'ROYAL SON',\n",
       " 'ROZZETTA CRAFT',\n",
       " 'ROYAL SON',\n",
       " 'Fastrack',\n",
       " 'ROYAL SON',\n",
       " 'PIRASO',\n",
       " 'ROZZETTA CRAFT',\n",
       " 'kingsunglasses',\n",
       " 'IZAAN MART',\n",
       " 'ROYAL SON',\n",
       " 'ROYAL SON',\n",
       " 'VINCENT CHASE',\n",
       " 'VINCENT CHASE',\n",
       " 'DAHAAZIL',\n",
       " 'Fastrack',\n",
       " 'Fastrack',\n",
       " 'SUNBEE',\n",
       " 'ROZZETTA CRAFT',\n",
       " 'VINCENT CHASE',\n",
       " 'PIRASO',\n",
       " 'Rich Club',\n",
       " 'PIRASO',\n",
       " 'ROYAL SON',\n",
       " 'NuVew',\n",
       " 'PHENOMENAL',\n",
       " 'NuVew',\n",
       " 'ROYAL SON',\n",
       " 'Fastrack',\n",
       " 'Mi',\n",
       " 'GANSTA',\n",
       " 'ROYAL SON']"
      ]
     },
     "execution_count": 80,
     "metadata": {},
     "output_type": "execute_result"
    }
   ],
   "source": [
    "Brand=brand[0:100]\n",
    "Brand"
   ]
  },
  {
   "cell_type": "code",
   "execution_count": 69,
   "id": "82d03743",
   "metadata": {},
   "outputs": [],
   "source": [
    "Product_Description=[]\n",
    "for page in range(0,3):\n",
    "    b=driver.find_elements(By.XPATH,'//a[@class=\"IRpwTa\"]')\n",
    "    for i in b:\n",
    "        Product_Description.append(i.text)\n",
    "    next_page=driver.find_element(By.XPATH,'//a[@class=\"_1LKTO3\"]')\n",
    "    next_page.click()\n",
    "    time.sleep(4)\n"
   ]
  },
  {
   "cell_type": "code",
   "execution_count": 70,
   "id": "14ec7b0f",
   "metadata": {},
   "outputs": [
    {
     "data": {
      "text/plain": [
       "120"
      ]
     },
     "execution_count": 70,
     "metadata": {},
     "output_type": "execute_result"
    }
   ],
   "source": [
    "len(Product_Description)"
   ]
  },
  {
   "cell_type": "code",
   "execution_count": 81,
   "id": "504b0f8c",
   "metadata": {},
   "outputs": [
    {
     "data": {
      "text/plain": [
       "['by Lenskart Polarized, UV Protection Cat-eye Sunglasses...',\n",
       " 'by Lenskart Polarized, UV Protection Aviator Sunglasses...',\n",
       " 'UV Protection, Night Vision, Riding Glasses Wayfarer, W...',\n",
       " 'UV Protection Rectangular Sunglasses (Free Size)',\n",
       " 'UV Protection Wayfarer Sunglasses (Free Size)',\n",
       " 'UV Protection, Polarized Wayfarer Sunglasses (Free Size...',\n",
       " 'UV Protection Retro Square Sunglasses (Free Size)',\n",
       " 'by Lenskart UV Protection Wayfarer Sunglasses (51)',\n",
       " 'UV Protection Aviator Sunglasses (54)',\n",
       " 'UV Protection Retro Square Sunglasses (54)',\n",
       " 'UV Protection Aviator Sunglasses (58)',\n",
       " 'UV Protection Over-sized Sunglasses (61)',\n",
       " 'UV Protection Aviator Sunglasses (57)',\n",
       " 'UV Protection Retro Square Sunglasses (53)',\n",
       " 'UV Protection Sports Sunglasses (62)',\n",
       " 'UV Protection, Gradient Butterfly, Over-sized Sunglasse...',\n",
       " 'UV Protection Wayfarer Sunglasses (Free Size)',\n",
       " 'Polarized Aviator Sunglasses (Free Size)',\n",
       " 'Gradient, UV Protection Aviator Sunglasses (57)',\n",
       " 'Polarized, UV Protection Aviator Sunglasses (64)',\n",
       " 'UV Protection Shield Sunglasses (Free Size)',\n",
       " 'Polarized Retro Square Sunglasses (Free Size)',\n",
       " 'UV Protection Rectangular Sunglasses (Free Size)',\n",
       " 'UV Protection, Gradient Butterfly Sunglasses (52)',\n",
       " 'Riding Glasses, Night Vision Spectacle Sunglasses (Fre...',\n",
       " 'UV Protection Round Sunglasses (54)',\n",
       " 'UV Protection Aviator Sunglasses (58)',\n",
       " 'Polarized, UV Protection Aviator Sunglasses (58)',\n",
       " 'UV Protection, Gradient Rectangular Sunglasses (Free Si...',\n",
       " 'UV Protection Wayfarer Sunglasses (50)',\n",
       " 'Mirrored Aviator Sunglasses (55)',\n",
       " 'Polarized, UV Protection Wayfarer Sunglasses (61)',\n",
       " 'UV Protection Wayfarer Sunglasses (55)',\n",
       " 'Polarized, UV Protection Rectangular Sunglasses (59)',\n",
       " 'UV Protection, Polarized, Mirrored Rectangular Sunglass...',\n",
       " 'UV Protection, Gradient Over-sized Sunglasses (62)',\n",
       " 'UV Protection Aviator Sunglasses (55)',\n",
       " 'UV Protection Wayfarer Sunglasses (Free Size)',\n",
       " 'UV Protection, Riding Glasses, Mirrored Wayfarer Sungla...',\n",
       " 'UV Protection, Gradient Over-sized Sunglasses (62)',\n",
       " 'by Lenskart Polarized, UV Protection Rectangular Sungla...',\n",
       " 'Polarized, UV Protection, Mirrored, Gradient Rectangula...',\n",
       " 'by Lenskart Polarized, UV Protection Retro Square Sungl...',\n",
       " 'by Lenskart Polarized, UV Protection Cat-eye Sunglasses...',\n",
       " 'UV Protection, Gradient Round Sunglasses (Free Size)',\n",
       " 'UV Protection, Polarized, Mirrored Retro Square Sunglas...',\n",
       " 'Others Wayfarer, Retro Square Sunglasses (50)',\n",
       " 'UV Protection Wayfarer Sunglasses (55)',\n",
       " 'Polarized, Riding Glasses Sports, Wrap-around Sunglasse...',\n",
       " 'UV Protection Aviator Sunglasses (54)',\n",
       " 'Riding Glasses Wrap-around Sunglasses (Free Size)',\n",
       " 'Others Aviator Sunglasses (Free Size)',\n",
       " 'Mirrored, Night Vision Oval Sunglasses (Free Size)',\n",
       " 'Gradient, UV Protection Retro Square Sunglasses (53)',\n",
       " 'Gradient, UV Protection Wayfarer Sunglasses (Free Size)',\n",
       " 'by Lenskart Polarized, UV Protection Rectangular Sungla...',\n",
       " 'Polarized, UV Protection Wayfarer Sunglasses (61)',\n",
       " 'by Lenskart Polarized, UV Protection Wayfarer Sunglasse...',\n",
       " 'UV Protection, Riding Glasses, Mirrored Wayfarer Sungla...',\n",
       " 'Polarized, UV Protection Retro Square Sunglasses (55)',\n",
       " 'UV Protection Aviator Sunglasses (Free Size)',\n",
       " 'UV Protection, Gradient Butterfly, Retro Square Sunglas...',\n",
       " 'UV Protection Rectangular Sunglasses (Free Size)',\n",
       " 'UV Protection Cat-eye Sunglasses (56)',\n",
       " 'UV Protection, Gradient Butterfly Sunglasses (62)',\n",
       " 'UV Protection, Gradient Rectangular Sunglasses (Free Si...',\n",
       " 'Polarized, UV Protection Aviator Sunglasses (58)',\n",
       " 'UV Protection Spectacle Sunglasses (Free Size)',\n",
       " 'UV Protection Round Sunglasses (Free Size)',\n",
       " 'Mirrored, UV Protection Wayfarer Sunglasses (Free Size)',\n",
       " 'UV Protection Wayfarer Sunglasses (32)',\n",
       " 'UV Protection Rectangular Sunglasses (50)',\n",
       " 'Polarized, UV Protection Wayfarer, Retro Square Sunglas...',\n",
       " 'Polarized, UV Protection Round Sunglasses (50)',\n",
       " 'UV Protection Rectangular Sunglasses (55)',\n",
       " 'UV Protection Aviator Sunglasses (Free Size)',\n",
       " 'Polarized Round Sunglasses (44)',\n",
       " 'UV Protection, Gradient Retro Square Sunglasses (Free S...',\n",
       " 'Polarized Rectangular Sunglasses (60)',\n",
       " 'Mirrored Aviator Sunglasses (58)',\n",
       " 'Polarized, UV Protection Round Sunglasses (51)',\n",
       " 'Polarized, UV Protection Round Sunglasses (51)',\n",
       " 'UV Protection, Night Vision, Riding Glasses Wayfarer, W...',\n",
       " 'UV Protection Rectangular Sunglasses (Free Size)',\n",
       " 'UV Protection Wayfarer Sunglasses (Free Size)',\n",
       " 'UV Protection, Polarized Wayfarer Sunglasses (Free Size...',\n",
       " 'UV Protection Retro Square Sunglasses (Free Size)',\n",
       " 'by Lenskart Polarized, UV Protection Aviator Sunglasses...',\n",
       " 'UV Protection Aviator Sunglasses (54)',\n",
       " 'UV Protection Retro Square Sunglasses (54)',\n",
       " 'UV Protection Aviator Sunglasses (58)',\n",
       " 'by Lenskart Polarized, UV Protection Wayfarer Sunglasse...',\n",
       " 'UV Protection Wayfarer Sunglasses (Free Size)',\n",
       " 'UV Protection Aviator Sunglasses (57)',\n",
       " 'UV Protection Retro Square Sunglasses (53)',\n",
       " 'by Lenskart Polarized, UV Protection Cat-eye Sunglasses...',\n",
       " 'Polarized Aviator Sunglasses (Free Size)',\n",
       " 'UV Protection Round Sunglasses (54)',\n",
       " 'UV Protection Shield Sunglasses (Free Size)',\n",
       " 'Polarized, UV Protection Round Sunglasses (51)']"
      ]
     },
     "execution_count": 81,
     "metadata": {},
     "output_type": "execute_result"
    }
   ],
   "source": [
    "Product_Description=Product_Description[0:100]\n",
    "Product_Description"
   ]
  },
  {
   "cell_type": "code",
   "execution_count": 72,
   "id": "b503e0ab",
   "metadata": {},
   "outputs": [],
   "source": [
    "Price=[]\n",
    "for page in range(0,3):\n",
    "    c=driver.find_elements(By.XPATH,'//div[@class=\"_30jeq3\"]')\n",
    "    for i in c:\n",
    "        Price.append(i.text)\n",
    "    next_page=driver.find_element(By.XPATH,'//a[@class=\"_1LKTO3\"]')\n",
    "    next_page.click()\n",
    "    time.sleep(4)\n"
   ]
  },
  {
   "cell_type": "code",
   "execution_count": 73,
   "id": "2f98cf28",
   "metadata": {},
   "outputs": [
    {
     "data": {
      "text/plain": [
       "120"
      ]
     },
     "execution_count": 73,
     "metadata": {},
     "output_type": "execute_result"
    }
   ],
   "source": [
    "len(Price)"
   ]
  },
  {
   "cell_type": "code",
   "execution_count": 82,
   "id": "703d23ab",
   "metadata": {},
   "outputs": [
    {
     "data": {
      "text/plain": [
       "['₹749',\n",
       " '₹529',\n",
       " '₹949',\n",
       " '₹949',\n",
       " '₹379',\n",
       " '₹259',\n",
       " '₹207',\n",
       " '₹849',\n",
       " '₹474',\n",
       " '₹279',\n",
       " '₹299',\n",
       " '₹799',\n",
       " '₹219',\n",
       " '₹220',\n",
       " '₹599',\n",
       " '₹799',\n",
       " '₹559',\n",
       " '₹749',\n",
       " '₹213',\n",
       " '₹999',\n",
       " '₹639',\n",
       " '₹443',\n",
       " '₹189',\n",
       " '₹999',\n",
       " '₹559',\n",
       " '₹381',\n",
       " '₹599',\n",
       " '₹799',\n",
       " '₹324',\n",
       " '₹269',\n",
       " '₹279',\n",
       " '₹749',\n",
       " '₹559',\n",
       " '₹949',\n",
       " '₹290',\n",
       " '₹499',\n",
       " '₹599',\n",
       " '₹331',\n",
       " '₹559',\n",
       " '₹799',\n",
       " '₹1,533',\n",
       " '₹1,533',\n",
       " '₹194',\n",
       " '₹599',\n",
       " '₹749',\n",
       " '₹283',\n",
       " '₹474',\n",
       " '₹899',\n",
       " '₹279',\n",
       " '₹325',\n",
       " '₹359',\n",
       " '₹799',\n",
       " '₹399',\n",
       " '₹176',\n",
       " '₹252',\n",
       " '₹479',\n",
       " '₹799',\n",
       " '₹298',\n",
       " '₹669',\n",
       " '₹1,049',\n",
       " '₹296',\n",
       " '₹276',\n",
       " '₹599',\n",
       " '₹379',\n",
       " '₹265',\n",
       " '₹179',\n",
       " '₹969',\n",
       " '₹719',\n",
       " '₹379',\n",
       " '₹211',\n",
       " '₹379',\n",
       " '₹559',\n",
       " '₹949',\n",
       " '₹219',\n",
       " '₹616',\n",
       " '₹443',\n",
       " '₹195',\n",
       " '₹272',\n",
       " '₹304',\n",
       " '₹616',\n",
       " '₹749',\n",
       " '₹529',\n",
       " '₹949',\n",
       " '₹379',\n",
       " '₹259',\n",
       " '₹207',\n",
       " '₹474',\n",
       " '₹279',\n",
       " '₹299',\n",
       " '₹219',\n",
       " '₹220',\n",
       " '₹599',\n",
       " '₹559',\n",
       " '₹749',\n",
       " '₹213',\n",
       " '₹639',\n",
       " '₹443',\n",
       " '₹189',\n",
       " '₹559',\n",
       " '₹381']"
      ]
     },
     "execution_count": 82,
     "metadata": {},
     "output_type": "execute_result"
    }
   ],
   "source": [
    "Price=Price[0:100]\n",
    "Price"
   ]
  },
  {
   "cell_type": "code",
   "execution_count": 76,
   "id": "b02e4711",
   "metadata": {},
   "outputs": [],
   "source": [
    "discount=[]\n",
    "for page in range(0,3):\n",
    "    d=driver.find_elements(By.XPATH,'//div[@class=\"_3Ay6Sb\"]')\n",
    "    for i in d:\n",
    "        discount.append(i.text)\n",
    "    next_page=driver.find_element(By.XPATH,'//a[@class=\"_1LKTO3\"]')\n",
    "    next_page.click()\n",
    "    time.sleep(5)"
   ]
  },
  {
   "cell_type": "code",
   "execution_count": 78,
   "id": "3bf05bff",
   "metadata": {},
   "outputs": [
    {
     "data": {
      "text/plain": [
       "120"
      ]
     },
     "execution_count": 78,
     "metadata": {},
     "output_type": "execute_result"
    }
   ],
   "source": [
    "len(discount)"
   ]
  },
  {
   "cell_type": "code",
   "execution_count": 83,
   "id": "b18e5099",
   "metadata": {},
   "outputs": [
    {
     "data": {
      "text/plain": [
       "['23% off',\n",
       " '23% off',\n",
       " '80% off',\n",
       " '25% off',\n",
       " '25% off',\n",
       " '78% off',\n",
       " '78% off',\n",
       " '55% off',\n",
       " '82% off',\n",
       " '53% off',\n",
       " '86% off',\n",
       " '68% off',\n",
       " '50% off',\n",
       " '76% off',\n",
       " '74% off',\n",
       " '76% off',\n",
       " '33% off',\n",
       " '88% off',\n",
       " '25% off',\n",
       " '62% off',\n",
       " '85% off',\n",
       " '77% off',\n",
       " '25% off',\n",
       " '74% off',\n",
       " '86% off',\n",
       " '82% off',\n",
       " '25% off',\n",
       " '64% off',\n",
       " '81% off',\n",
       " '83% off',\n",
       " '74% off',\n",
       " '62% off',\n",
       " '62% off',\n",
       " '78% off',\n",
       " '75% off',\n",
       " '70% off',\n",
       " '88% off',\n",
       " '89% off',\n",
       " '79% off',\n",
       " '75% off',\n",
       " '62% off',\n",
       " '74% off',\n",
       " '52% off',\n",
       " '81% off',\n",
       " '80% off',\n",
       " '79% off',\n",
       " '76% off',\n",
       " '82% off',\n",
       " '88% off',\n",
       " '63% off',\n",
       " '87% off',\n",
       " '25% off',\n",
       " '72% off',\n",
       " '70% off',\n",
       " '82% off',\n",
       " '20% off',\n",
       " '70% off',\n",
       " '88% off',\n",
       " '72% off',\n",
       " '80% off',\n",
       " '70% off',\n",
       " '80% off',\n",
       " '82% off',\n",
       " '82% off',\n",
       " '72% off',\n",
       " '52% off',\n",
       " '85% off',\n",
       " '82% off',\n",
       " '83% off',\n",
       " '72% off',\n",
       " '52% off',\n",
       " '74% off',\n",
       " '24% off',\n",
       " '76% off',\n",
       " '82% off',\n",
       " '82% off',\n",
       " '84% off',\n",
       " '86% off',\n",
       " '70% off',\n",
       " '78% off',\n",
       " '23% off',\n",
       " '23% off',\n",
       " '80% off',\n",
       " '25% off',\n",
       " '25% off',\n",
       " '78% off',\n",
       " '78% off',\n",
       " '68% off',\n",
       " '82% off',\n",
       " '53% off',\n",
       " '86% off',\n",
       " '55% off',\n",
       " '50% off',\n",
       " '76% off',\n",
       " '74% off',\n",
       " '55% off',\n",
       " '33% off',\n",
       " '88% off',\n",
       " '25% off',\n",
       " '76% off']"
      ]
     },
     "execution_count": 83,
     "metadata": {},
     "output_type": "execute_result"
    }
   ],
   "source": [
    "Discount=discount[0:100]\n",
    "Discount"
   ]
  },
  {
   "cell_type": "code",
   "execution_count": 84,
   "id": "6ec12c10",
   "metadata": {},
   "outputs": [
    {
     "name": "stdout",
     "output_type": "stream",
     "text": [
      "100 100 100 100\n"
     ]
    }
   ],
   "source": [
    "print(len(Brand),len(Product_Description),len(Price),len(Discount))"
   ]
  },
  {
   "cell_type": "code",
   "execution_count": 85,
   "id": "e444b245",
   "metadata": {},
   "outputs": [
    {
     "data": {
      "text/html": [
       "<div>\n",
       "<style scoped>\n",
       "    .dataframe tbody tr th:only-of-type {\n",
       "        vertical-align: middle;\n",
       "    }\n",
       "\n",
       "    .dataframe tbody tr th {\n",
       "        vertical-align: top;\n",
       "    }\n",
       "\n",
       "    .dataframe thead th {\n",
       "        text-align: right;\n",
       "    }\n",
       "</style>\n",
       "<table border=\"1\" class=\"dataframe\">\n",
       "  <thead>\n",
       "    <tr style=\"text-align: right;\">\n",
       "      <th></th>\n",
       "      <th>Brand</th>\n",
       "      <th>Product_Description</th>\n",
       "      <th>Price</th>\n",
       "      <th>Discount</th>\n",
       "    </tr>\n",
       "  </thead>\n",
       "  <tbody>\n",
       "    <tr>\n",
       "      <th>0</th>\n",
       "      <td>VINCENT CHASE</td>\n",
       "      <td>by Lenskart Polarized, UV Protection Cat-eye S...</td>\n",
       "      <td>₹749</td>\n",
       "      <td>23% off</td>\n",
       "    </tr>\n",
       "    <tr>\n",
       "      <th>1</th>\n",
       "      <td>VINCENT CHASE</td>\n",
       "      <td>by Lenskart Polarized, UV Protection Aviator S...</td>\n",
       "      <td>₹529</td>\n",
       "      <td>23% off</td>\n",
       "    </tr>\n",
       "    <tr>\n",
       "      <th>2</th>\n",
       "      <td>DAHAAZIL</td>\n",
       "      <td>UV Protection, Night Vision, Riding Glasses Wa...</td>\n",
       "      <td>₹949</td>\n",
       "      <td>80% off</td>\n",
       "    </tr>\n",
       "    <tr>\n",
       "      <th>3</th>\n",
       "      <td>Fastrack</td>\n",
       "      <td>UV Protection Rectangular Sunglasses (Free Size)</td>\n",
       "      <td>₹949</td>\n",
       "      <td>25% off</td>\n",
       "    </tr>\n",
       "    <tr>\n",
       "      <th>4</th>\n",
       "      <td>Fastrack</td>\n",
       "      <td>UV Protection Wayfarer Sunglasses (Free Size)</td>\n",
       "      <td>₹379</td>\n",
       "      <td>25% off</td>\n",
       "    </tr>\n",
       "    <tr>\n",
       "      <th>...</th>\n",
       "      <td>...</td>\n",
       "      <td>...</td>\n",
       "      <td>...</td>\n",
       "      <td>...</td>\n",
       "    </tr>\n",
       "    <tr>\n",
       "      <th>95</th>\n",
       "      <td>ROYAL SON</td>\n",
       "      <td>by Lenskart Polarized, UV Protection Cat-eye S...</td>\n",
       "      <td>₹639</td>\n",
       "      <td>55% off</td>\n",
       "    </tr>\n",
       "    <tr>\n",
       "      <th>96</th>\n",
       "      <td>Fastrack</td>\n",
       "      <td>Polarized Aviator Sunglasses (Free Size)</td>\n",
       "      <td>₹443</td>\n",
       "      <td>33% off</td>\n",
       "    </tr>\n",
       "    <tr>\n",
       "      <th>97</th>\n",
       "      <td>Mi</td>\n",
       "      <td>UV Protection Round Sunglasses (54)</td>\n",
       "      <td>₹189</td>\n",
       "      <td>88% off</td>\n",
       "    </tr>\n",
       "    <tr>\n",
       "      <th>98</th>\n",
       "      <td>GANSTA</td>\n",
       "      <td>UV Protection Shield Sunglasses (Free Size)</td>\n",
       "      <td>₹559</td>\n",
       "      <td>25% off</td>\n",
       "    </tr>\n",
       "    <tr>\n",
       "      <th>99</th>\n",
       "      <td>ROYAL SON</td>\n",
       "      <td>Polarized, UV Protection Round Sunglasses (51)</td>\n",
       "      <td>₹381</td>\n",
       "      <td>76% off</td>\n",
       "    </tr>\n",
       "  </tbody>\n",
       "</table>\n",
       "<p>100 rows × 4 columns</p>\n",
       "</div>"
      ],
      "text/plain": [
       "            Brand                                Product_Description Price  \\\n",
       "0   VINCENT CHASE  by Lenskart Polarized, UV Protection Cat-eye S...  ₹749   \n",
       "1   VINCENT CHASE  by Lenskart Polarized, UV Protection Aviator S...  ₹529   \n",
       "2        DAHAAZIL  UV Protection, Night Vision, Riding Glasses Wa...  ₹949   \n",
       "3        Fastrack   UV Protection Rectangular Sunglasses (Free Size)  ₹949   \n",
       "4        Fastrack      UV Protection Wayfarer Sunglasses (Free Size)  ₹379   \n",
       "..            ...                                                ...   ...   \n",
       "95      ROYAL SON  by Lenskart Polarized, UV Protection Cat-eye S...  ₹639   \n",
       "96       Fastrack           Polarized Aviator Sunglasses (Free Size)  ₹443   \n",
       "97             Mi                UV Protection Round Sunglasses (54)  ₹189   \n",
       "98         GANSTA        UV Protection Shield Sunglasses (Free Size)  ₹559   \n",
       "99      ROYAL SON     Polarized, UV Protection Round Sunglasses (51)  ₹381   \n",
       "\n",
       "   Discount  \n",
       "0   23% off  \n",
       "1   23% off  \n",
       "2   80% off  \n",
       "3   25% off  \n",
       "4   25% off  \n",
       "..      ...  \n",
       "95  55% off  \n",
       "96  33% off  \n",
       "97  88% off  \n",
       "98  25% off  \n",
       "99  76% off  \n",
       "\n",
       "[100 rows x 4 columns]"
      ]
     },
     "execution_count": 85,
     "metadata": {},
     "output_type": "execute_result"
    }
   ],
   "source": [
    "df=pd.DataFrame({'Brand':Brand,'Product_Description':Product_Description,'Price':Price,'Discount':Discount})\n",
    "df"
   ]
  },
  {
   "cell_type": "markdown",
   "id": "fde59dec",
   "metadata": {},
   "source": [
    "5"
   ]
  },
  {
   "cell_type": "code",
   "execution_count": 6,
   "id": "564ec71b",
   "metadata": {},
   "outputs": [],
   "source": [
    "driver=webdriver.Chrome(r'C:\\Users\\Admin\\Desktop\\Internship\\worksheet set 1\\chromedriver.exe')"
   ]
  },
  {
   "cell_type": "code",
   "execution_count": 7,
   "id": "bbe36002",
   "metadata": {},
   "outputs": [],
   "source": [
    "driver.get('https://www.flipkart.com/')"
   ]
  },
  {
   "cell_type": "code",
   "execution_count": 8,
   "id": "ed31c668",
   "metadata": {},
   "outputs": [],
   "source": [
    "remove_window=driver.find_element(By.XPATH,'/html/body/div[2]/div/div/button')\n",
    "remove_window.click()"
   ]
  },
  {
   "cell_type": "code",
   "execution_count": 9,
   "id": "93d52aec",
   "metadata": {},
   "outputs": [],
   "source": [
    "product=driver.find_element(By.XPATH,'/html/body/div[1]/div/div[1]/div[1]/div[2]/div[2]/form/div/div/input')\n",
    "product.send_keys('iphone 11')"
   ]
  },
  {
   "cell_type": "code",
   "execution_count": 10,
   "id": "e06fd67c",
   "metadata": {},
   "outputs": [],
   "source": [
    "search=driver.find_element(By.XPATH,'/html/body/div[1]/div/div[1]/div[1]/div[2]/div[2]/form/div/button')\n",
    "search.click()"
   ]
  },
  {
   "cell_type": "code",
   "execution_count": 17,
   "id": "92909fbe",
   "metadata": {},
   "outputs": [],
   "source": [
    "rating=[]\n",
    "for page in range(0,10):\n",
    "    a=driver.find_elements(By.XPATH,'//div[@class=\"_3LWZlK _1BLPMq\"]')\n",
    "    for i in a:\n",
    "        rating.append(i.text)\n",
    "    next_page=driver.find_element(By.XPATH,'//a[@class=\"_1LKTO3\"]')\n",
    "    next_page.click()\n",
    "    time.sleep(3)"
   ]
  },
  {
   "cell_type": "code",
   "execution_count": 18,
   "id": "f1862ba8",
   "metadata": {},
   "outputs": [
    {
     "data": {
      "text/plain": [
       "[]"
      ]
     },
     "execution_count": 18,
     "metadata": {},
     "output_type": "execute_result"
    }
   ],
   "source": [
    "rating"
   ]
  },
  {
   "cell_type": "code",
   "execution_count": 133,
   "id": "fab72120",
   "metadata": {},
   "outputs": [],
   "source": [
    "Review_summary=[]\n",
    "for page in range(0,10):\n",
    "    b=driver.find_elements(By.XPATH,'//p[@class=\"_2-N8zT\"]')\n",
    "    for i in b:\n",
    "        Review_summary.append(i.text)\n",
    "    next_page=driver.find_element(By.XPATH,'//a[@class=\"_1LKTO3\"]')\n",
    "    next_page.click()\n",
    "    time.sleep(3)"
   ]
  },
  {
   "cell_type": "code",
   "execution_count": 134,
   "id": "3f7762d0",
   "metadata": {},
   "outputs": [
    {
     "data": {
      "text/plain": [
       "[]"
      ]
     },
     "execution_count": 134,
     "metadata": {},
     "output_type": "execute_result"
    }
   ],
   "source": [
    "Review_summary=Review_summary[0:100]\n",
    "Review_summary"
   ]
  },
  {
   "cell_type": "code",
   "execution_count": 136,
   "id": "4d966733",
   "metadata": {},
   "outputs": [],
   "source": [
    "Full_Review=[]\n",
    "for page in range(0,10):\n",
    "    b=driver.find_elements(By.XPATH,'//div[@class=\"t-ZTKy\"]')\n",
    "    for i in b:\n",
    "        Full_Review.append(i.text)\n",
    "    next_page=driver.find_element(By.XPATH,'//a[@class=\"_1LKTO3\"]')\n",
    "    next_page.click()\n",
    "    time.sleep(3)"
   ]
  },
  {
   "cell_type": "code",
   "execution_count": 137,
   "id": "3e38b254",
   "metadata": {},
   "outputs": [
    {
     "data": {
      "text/plain": [
       "[]"
      ]
     },
     "execution_count": 137,
     "metadata": {},
     "output_type": "execute_result"
    }
   ],
   "source": [
    "Full_Review=Full_Review[0:100]\n",
    "Full_Review"
   ]
  },
  {
   "cell_type": "code",
   "execution_count": 139,
   "id": "433acd64",
   "metadata": {},
   "outputs": [
    {
     "data": {
      "text/html": [
       "<div>\n",
       "<style scoped>\n",
       "    .dataframe tbody tr th:only-of-type {\n",
       "        vertical-align: middle;\n",
       "    }\n",
       "\n",
       "    .dataframe tbody tr th {\n",
       "        vertical-align: top;\n",
       "    }\n",
       "\n",
       "    .dataframe thead th {\n",
       "        text-align: right;\n",
       "    }\n",
       "</style>\n",
       "<table border=\"1\" class=\"dataframe\">\n",
       "  <thead>\n",
       "    <tr style=\"text-align: right;\">\n",
       "      <th></th>\n",
       "      <th>Rating</th>\n",
       "      <th>Review_summary</th>\n",
       "      <th>Full_Review</th>\n",
       "    </tr>\n",
       "  </thead>\n",
       "  <tbody>\n",
       "  </tbody>\n",
       "</table>\n",
       "</div>"
      ],
      "text/plain": [
       "Empty DataFrame\n",
       "Columns: [Rating, Review_summary, Full_Review]\n",
       "Index: []"
      ]
     },
     "execution_count": 139,
     "metadata": {},
     "output_type": "execute_result"
    }
   ],
   "source": [
    "df=pd.DataFrame({'Rating':rating,'Review_summary':Review_summary,'Full_Review':Full_Review})\n",
    "df"
   ]
  },
  {
   "cell_type": "markdown",
   "id": "bd80a4f9",
   "metadata": {},
   "source": [
    "6"
   ]
  },
  {
   "cell_type": "code",
   "execution_count": 3,
   "id": "28ff4243",
   "metadata": {},
   "outputs": [],
   "source": [
    "driver=webdriver.Chrome(r'chromedriver.exe')"
   ]
  },
  {
   "cell_type": "code",
   "execution_count": 4,
   "id": "5b447de7",
   "metadata": {},
   "outputs": [],
   "source": [
    "driver.get('https://www.flipkart.com/')"
   ]
  },
  {
   "cell_type": "code",
   "execution_count": 5,
   "id": "a63edc56",
   "metadata": {},
   "outputs": [],
   "source": [
    "Product=driver.find_element(By.XPATH,'/html/body/div[1]/div/div[1]/div[1]/div[2]/div[2]/form/div/div/input')\n",
    "Product.send_keys('sneakers')"
   ]
  },
  {
   "cell_type": "code",
   "execution_count": 6,
   "id": "f5337755",
   "metadata": {},
   "outputs": [],
   "source": [
    "search=driver.find_element(By.XPATH,'/html/body/div[1]/div/div[1]/div[1]/div[2]/div[2]/form/div/button')\n",
    "search.click()"
   ]
  },
  {
   "cell_type": "code",
   "execution_count": 10,
   "id": "9d35b163",
   "metadata": {},
   "outputs": [],
   "source": [
    "Brand=[]\n",
    "for page in range(0,3):\n",
    "    a=driver.find_elements(By.XPATH,'//div[@class=\"_2WkVRV\"]')\n",
    "    for i in a:\n",
    "        Brand.append(i.text)\n",
    "    next_page=driver.find_element(By.XPATH,'//a[@class=\"_1LKTO3\"]')\n",
    "    next_page.click()\n",
    "    time.sleep(3)"
   ]
  },
  {
   "cell_type": "code",
   "execution_count": 21,
   "id": "9763d60f",
   "metadata": {},
   "outputs": [],
   "source": [
    "Product_Description=[]\n",
    "for page in range(0,3):\n",
    "    b=driver.find_elements(By.XPATH,'//a[@class=\"IRpwTa\"]')\n",
    "    for i in b:\n",
    "         Product_Description.append(i.text)\n",
    "    next_page=driver.find_element(By.XPATH,'//a[@class=\"_1LKTO3\"]')\n",
    "    next_page.click()\n",
    "    time.sleep(3)"
   ]
  },
  {
   "cell_type": "code",
   "execution_count": 15,
   "id": "c69ba5f2",
   "metadata": {},
   "outputs": [],
   "source": [
    "Price=[]\n",
    "for page in range(0,3):\n",
    "    c=driver.find_elements(By.XPATH,'//div[@class=\"_30jeq3\"]')\n",
    "    for i in c:\n",
    "        Price.append(i.text)\n",
    "    next_page=driver.find_element(By.XPATH,'//a[@class=\"_1LKTO3\"]')\n",
    "    next_page.click()\n",
    "    time.sleep(3)"
   ]
  },
  {
   "cell_type": "code",
   "execution_count": 18,
   "id": "328e86e5",
   "metadata": {},
   "outputs": [],
   "source": [
    "Discount=[]\n",
    "for page in range(0,3):\n",
    "    d=driver.find_elements(By.XPATH,'//div[@class=\"_3Ay6Sb\"]')\n",
    "    for i in d:\n",
    "        Discount.append(i.text)\n",
    "    next_page=driver.find_element(By.XPATH,'//a[@class=\"_1LKTO3\"]')\n",
    "    next_page.click()\n",
    "    time.sleep(3)"
   ]
  },
  {
   "cell_type": "code",
   "execution_count": 26,
   "id": "49915fde",
   "metadata": {},
   "outputs": [
    {
     "data": {
      "text/html": [
       "<div>\n",
       "<style scoped>\n",
       "    .dataframe tbody tr th:only-of-type {\n",
       "        vertical-align: middle;\n",
       "    }\n",
       "\n",
       "    .dataframe tbody tr th {\n",
       "        vertical-align: top;\n",
       "    }\n",
       "\n",
       "    .dataframe thead th {\n",
       "        text-align: right;\n",
       "    }\n",
       "</style>\n",
       "<table border=\"1\" class=\"dataframe\">\n",
       "  <thead>\n",
       "    <tr style=\"text-align: right;\">\n",
       "      <th></th>\n",
       "      <th>Brand</th>\n",
       "      <th>Product_Description</th>\n",
       "      <th>Price</th>\n",
       "      <th>Discount</th>\n",
       "    </tr>\n",
       "  </thead>\n",
       "  <tbody>\n",
       "    <tr>\n",
       "      <th>0</th>\n",
       "      <td>Kraasa</td>\n",
       "      <td>Casuals, Canvas, Partywear Sneakers For Men</td>\n",
       "      <td>₹479</td>\n",
       "      <td>73% off</td>\n",
       "    </tr>\n",
       "    <tr>\n",
       "      <th>1</th>\n",
       "      <td>Shoes Bank</td>\n",
       "      <td>White Sneaker For Men's/Boy's Sneakers For Men</td>\n",
       "      <td>₹297</td>\n",
       "      <td>72% off</td>\n",
       "    </tr>\n",
       "    <tr>\n",
       "      <th>2</th>\n",
       "      <td>BRUTON</td>\n",
       "      <td>Modern Trendy Sneakers Shoes Sneakers For Men</td>\n",
       "      <td>₹299</td>\n",
       "      <td>50% off</td>\n",
       "    </tr>\n",
       "    <tr>\n",
       "      <th>3</th>\n",
       "      <td>Bonexy</td>\n",
       "      <td>Sneakers For Men</td>\n",
       "      <td>₹424</td>\n",
       "      <td>50% off</td>\n",
       "    </tr>\n",
       "    <tr>\n",
       "      <th>4</th>\n",
       "      <td>URBANBOX</td>\n",
       "      <td>Sneakers For Women</td>\n",
       "      <td>₹198</td>\n",
       "      <td>80% off</td>\n",
       "    </tr>\n",
       "    <tr>\n",
       "      <th>...</th>\n",
       "      <td>...</td>\n",
       "      <td>...</td>\n",
       "      <td>...</td>\n",
       "      <td>...</td>\n",
       "    </tr>\n",
       "    <tr>\n",
       "      <th>95</th>\n",
       "      <td>pollachief</td>\n",
       "      <td>Men Casual Shoe New Trend With Fashion Panda D...</td>\n",
       "      <td>₹424</td>\n",
       "      <td>68% off</td>\n",
       "    </tr>\n",
       "    <tr>\n",
       "      <th>96</th>\n",
       "      <td>RED TAPE</td>\n",
       "      <td>Modern Trendy Sneakers boot Sneakers For Men</td>\n",
       "      <td>₹1,299</td>\n",
       "      <td>68% off</td>\n",
       "    </tr>\n",
       "    <tr>\n",
       "      <th>97</th>\n",
       "      <td>PUMA</td>\n",
       "      <td>Sneakers For Men</td>\n",
       "      <td>₹2,599</td>\n",
       "      <td>60% off</td>\n",
       "    </tr>\n",
       "    <tr>\n",
       "      <th>98</th>\n",
       "      <td>Robbie jones</td>\n",
       "      <td>x 1DER Jack V2 Sneakers For Men</td>\n",
       "      <td>₹449</td>\n",
       "      <td>49% off</td>\n",
       "    </tr>\n",
       "    <tr>\n",
       "      <th>99</th>\n",
       "      <td>Bonexy</td>\n",
       "      <td>Sneakers For Men</td>\n",
       "      <td>₹1,897</td>\n",
       "      <td>66% off</td>\n",
       "    </tr>\n",
       "  </tbody>\n",
       "</table>\n",
       "<p>100 rows × 4 columns</p>\n",
       "</div>"
      ],
      "text/plain": [
       "           Brand                                Product_Description   Price  \\\n",
       "0         Kraasa        Casuals, Canvas, Partywear Sneakers For Men    ₹479   \n",
       "1     Shoes Bank     White Sneaker For Men's/Boy's Sneakers For Men    ₹297   \n",
       "2         BRUTON      Modern Trendy Sneakers Shoes Sneakers For Men    ₹299   \n",
       "3         Bonexy                                   Sneakers For Men    ₹424   \n",
       "4       URBANBOX                                 Sneakers For Women    ₹198   \n",
       "..           ...                                                ...     ...   \n",
       "95    pollachief  Men Casual Shoe New Trend With Fashion Panda D...    ₹424   \n",
       "96      RED TAPE       Modern Trendy Sneakers boot Sneakers For Men  ₹1,299   \n",
       "97          PUMA                                   Sneakers For Men  ₹2,599   \n",
       "98  Robbie jones                    x 1DER Jack V2 Sneakers For Men    ₹449   \n",
       "99        Bonexy                                   Sneakers For Men  ₹1,897   \n",
       "\n",
       "   Discount  \n",
       "0   73% off  \n",
       "1   72% off  \n",
       "2   50% off  \n",
       "3   50% off  \n",
       "4   80% off  \n",
       "..      ...  \n",
       "95  68% off  \n",
       "96  68% off  \n",
       "97  60% off  \n",
       "98  49% off  \n",
       "99  66% off  \n",
       "\n",
       "[100 rows x 4 columns]"
      ]
     },
     "execution_count": 26,
     "metadata": {},
     "output_type": "execute_result"
    }
   ],
   "source": [
    "df=pd.DataFrame({'Brand':Brand,'Product_Description':Product_Description,'Price':Price,'Discount':Discount})\n",
    "df"
   ]
  },
  {
   "cell_type": "markdown",
   "id": "a2f4e222",
   "metadata": {},
   "source": [
    "7"
   ]
  },
  {
   "cell_type": "code",
   "execution_count": 34,
   "id": "c4171d03",
   "metadata": {},
   "outputs": [],
   "source": [
    "driver=webdriver.Chrome(r'chromedriver.exe')"
   ]
  },
  {
   "cell_type": "code",
   "execution_count": 35,
   "id": "24d40d65",
   "metadata": {},
   "outputs": [],
   "source": [
    "driver.get('https://www.myntra.com/shoes')"
   ]
  },
  {
   "cell_type": "raw",
   "id": "1d94e8f7",
   "metadata": {},
   "source": [
    "This website is not allowing me to do scraping"
   ]
  },
  {
   "cell_type": "markdown",
   "id": "0ec2df3d",
   "metadata": {},
   "source": [
    "8"
   ]
  },
  {
   "cell_type": "code",
   "execution_count": 36,
   "id": "ab964fcb",
   "metadata": {},
   "outputs": [],
   "source": [
    "driver=webdriver.Chrome(r'chromedriver.exe')"
   ]
  },
  {
   "cell_type": "code",
   "execution_count": 37,
   "id": "7f7e06eb",
   "metadata": {},
   "outputs": [],
   "source": [
    "driver.get('https://www.amazon.in/')"
   ]
  },
  {
   "cell_type": "code",
   "execution_count": 38,
   "id": "878a55fb",
   "metadata": {},
   "outputs": [],
   "source": [
    "Product=driver.find_element(By.XPATH,'/html/body/div[1]/header/div/div[1]/div[2]/div/form/div[2]/div[1]/input')\n",
    "Product.send_keys('Laptop')"
   ]
  },
  {
   "cell_type": "code",
   "execution_count": 39,
   "id": "da17ecfd",
   "metadata": {},
   "outputs": [],
   "source": [
    "search=driver.find_element(By.XPATH,'/html/body/div[1]/header/div/div[1]/div[2]/div/form/div[3]/div/span/input')\n",
    "search.click()"
   ]
  },
  {
   "cell_type": "code",
   "execution_count": 40,
   "id": "68a96773",
   "metadata": {},
   "outputs": [
    {
     "data": {
      "text/plain": [
       "['HP 15s-Ryzen 3 5300U 8GB SDRAM/256GB SSD 15.6inch(39.6cm) FHD, Micro-Edge, Anti-Glare Display/AMD Radeon Graphics/Dual Speakers/Windows 11 Home/Alexa/MS Office/Fast Charge/Silver/1.69Kg, 15S-Ey2000AU',\n",
       " 'HP 14s, 11th Gen Intel Core i3, 8GB RAM/512GB SSD 14inch(36.6 cm) FHD,Micro-Edge, IPS Display/Alexa Built-in/Windows 11 Home/Backlit Keyboard/UHD Graphics/Dual Speakers/Ms Office, 14s-Dq2606tu',\n",
       " 'ASUS VivoBook 15 (2021), 15.6-inch (39.62 cm) HD, Dual Core Intel Celeron N4020, Thin and Light Laptop (4GB RAM/256GB SSD/Integrated Graphics/Windows 11 Home/Transparent Silver/1.8 Kg), X515MA-BR011W',\n",
       " 'Lenovo IdeaPad Slim 3 Intel Celeron N4020 15.6\" (39.62cm) HD Thin & Light Laptop (8GB/256GB SSD/Windows 11/Office 2021/2Yr Warranty/3months Game Pass/Platinum Grey/1.7Kg), 81WQ00MQIN',\n",
       " \"Lenovo IdeaPad Slim 1 Intel Celeron N4020 11.6'' (29.46cm) HD Thin & Light Laptop (4GB/256GB SSD/Windows 11/Office 2021/3months Game Pass/Platinum Grey/1.2Kg), 81VT009UIN\",\n",
       " 'ASUS ZenBook 14 (2020) Intel Core i5-1135G7 11th Gen 14-inch (35.56 cms) FHD T&L Laptop (8GB RAM/512GB NVMe SSD/Windows 10/MS Office 2019/Intel Iris Xᵉ Graphics/Pine Grey/1.17 kg), UX425EA-BM501TS',\n",
       " 'HP 14 10th Gen Intel Core i5-10210U 14 inches HD Laptop (8GB/512GB SSD/Windows 10/MS Office/Windows 10/Jet Black/1.5 kg), 14-ck2018tu',\n",
       " 'HP Envy x360 13-ay0078AU 13.3 inches Laptop (3rd Gen AMD Ryzen5 4500U/8GB/512GB SSD/Windows 10 Pro/Integrated Graphics), Night Fall Black, 1.3kg',\n",
       " '',\n",
       " 'ASUS VivoBook 14 (2021), 14-inch (35.56 cm) HD, Intel Core i3-1005G1 10th Gen, Thin and Light Laptop (8GB/1TB HDD/Windows 11/Integrated Graphics/Grey/1.6 kg), X415JA-BV301W',\n",
       " 'ASUS VivoBook 14 (2021), 14-inch (35.56 cm) HD, Intel Core i3-1005G1 10th Gen, Thin and Light Laptop (8GB/256GB SSD/Office 2021/Windows 11/Integrated Graphics/Grey/1.6 kg), X415JA-BV311WS']"
      ]
     },
     "execution_count": 40,
     "metadata": {},
     "output_type": "execute_result"
    }
   ],
   "source": [
    "Title=[]\n",
    "for i in driver.find_elements(By.XPATH,'//h2[@class=\"a-size-mini a-spacing-none a-color-base s-line-clamp-2\"]'):\n",
    "    Title.append(i.text)\n",
    "Title=Title[0:11]\n",
    "Title"
   ]
  },
  {
   "cell_type": "code",
   "execution_count": 41,
   "id": "bf4f1e81",
   "metadata": {},
   "outputs": [
    {
     "data": {
      "text/plain": [
       "['', '', '', '', '', '', '', '', '', '', '']"
      ]
     },
     "execution_count": 41,
     "metadata": {},
     "output_type": "execute_result"
    }
   ],
   "source": [
    "Rating=[]\n",
    "for i in driver.find_elements(By.XPATH,'//a[@class=\"a-popover-trigger a-declarative\"]'):\n",
    "    Rating.append(i.text)\n",
    "Rating=Rating[0:11]\n",
    "Rating"
   ]
  },
  {
   "cell_type": "code",
   "execution_count": 42,
   "id": "898aa8a4",
   "metadata": {},
   "outputs": [
    {
     "data": {
      "text/plain": [
       "['₹36,990',\n",
       " '₹40,990',\n",
       " '₹25,990',\n",
       " '₹29,980',\n",
       " '₹21,789',\n",
       " '₹36,990',\n",
       " '₹40,990',\n",
       " '₹29,490',\n",
       " '₹39,990',\n",
       " '',\n",
       " '₹59,490']"
      ]
     },
     "execution_count": 42,
     "metadata": {},
     "output_type": "execute_result"
    }
   ],
   "source": [
    "Price=[]\n",
    "for i in driver.find_elements(By.XPATH,'//span[@class=\"a-price\"]'):\n",
    "    Price.append(i.text)\n",
    "Price=Price[0:11]\n",
    "Price"
   ]
  },
  {
   "cell_type": "code",
   "execution_count": 43,
   "id": "67e5290e",
   "metadata": {},
   "outputs": [
    {
     "data": {
      "text/html": [
       "<div>\n",
       "<style scoped>\n",
       "    .dataframe tbody tr th:only-of-type {\n",
       "        vertical-align: middle;\n",
       "    }\n",
       "\n",
       "    .dataframe tbody tr th {\n",
       "        vertical-align: top;\n",
       "    }\n",
       "\n",
       "    .dataframe thead th {\n",
       "        text-align: right;\n",
       "    }\n",
       "</style>\n",
       "<table border=\"1\" class=\"dataframe\">\n",
       "  <thead>\n",
       "    <tr style=\"text-align: right;\">\n",
       "      <th></th>\n",
       "      <th>Title</th>\n",
       "      <th>Rating</th>\n",
       "      <th>Price</th>\n",
       "    </tr>\n",
       "  </thead>\n",
       "  <tbody>\n",
       "    <tr>\n",
       "      <th>0</th>\n",
       "      <td>HP 15s-Ryzen 3 5300U 8GB SDRAM/256GB SSD 15.6i...</td>\n",
       "      <td></td>\n",
       "      <td>₹36,990</td>\n",
       "    </tr>\n",
       "    <tr>\n",
       "      <th>1</th>\n",
       "      <td>HP 14s, 11th Gen Intel Core i3, 8GB RAM/512GB ...</td>\n",
       "      <td></td>\n",
       "      <td>₹40,990</td>\n",
       "    </tr>\n",
       "    <tr>\n",
       "      <th>2</th>\n",
       "      <td>ASUS VivoBook 15 (2021), 15.6-inch (39.62 cm) ...</td>\n",
       "      <td></td>\n",
       "      <td>₹25,990</td>\n",
       "    </tr>\n",
       "    <tr>\n",
       "      <th>3</th>\n",
       "      <td>Lenovo IdeaPad Slim 3 Intel Celeron N4020 15.6...</td>\n",
       "      <td></td>\n",
       "      <td>₹29,980</td>\n",
       "    </tr>\n",
       "    <tr>\n",
       "      <th>4</th>\n",
       "      <td>Lenovo IdeaPad Slim 1 Intel Celeron N4020 11.6...</td>\n",
       "      <td></td>\n",
       "      <td>₹21,789</td>\n",
       "    </tr>\n",
       "    <tr>\n",
       "      <th>5</th>\n",
       "      <td>ASUS ZenBook 14 (2020) Intel Core i5-1135G7 11...</td>\n",
       "      <td></td>\n",
       "      <td>₹36,990</td>\n",
       "    </tr>\n",
       "    <tr>\n",
       "      <th>6</th>\n",
       "      <td>HP 14 10th Gen Intel Core i5-10210U 14 inches ...</td>\n",
       "      <td></td>\n",
       "      <td>₹40,990</td>\n",
       "    </tr>\n",
       "    <tr>\n",
       "      <th>7</th>\n",
       "      <td>HP Envy x360 13-ay0078AU 13.3 inches Laptop (3...</td>\n",
       "      <td></td>\n",
       "      <td>₹29,490</td>\n",
       "    </tr>\n",
       "    <tr>\n",
       "      <th>8</th>\n",
       "      <td></td>\n",
       "      <td></td>\n",
       "      <td>₹39,990</td>\n",
       "    </tr>\n",
       "    <tr>\n",
       "      <th>9</th>\n",
       "      <td>ASUS VivoBook 14 (2021), 14-inch (35.56 cm) HD...</td>\n",
       "      <td></td>\n",
       "      <td></td>\n",
       "    </tr>\n",
       "    <tr>\n",
       "      <th>10</th>\n",
       "      <td>ASUS VivoBook 14 (2021), 14-inch (35.56 cm) HD...</td>\n",
       "      <td></td>\n",
       "      <td>₹59,490</td>\n",
       "    </tr>\n",
       "  </tbody>\n",
       "</table>\n",
       "</div>"
      ],
      "text/plain": [
       "                                                Title Rating    Price\n",
       "0   HP 15s-Ryzen 3 5300U 8GB SDRAM/256GB SSD 15.6i...         ₹36,990\n",
       "1   HP 14s, 11th Gen Intel Core i3, 8GB RAM/512GB ...         ₹40,990\n",
       "2   ASUS VivoBook 15 (2021), 15.6-inch (39.62 cm) ...         ₹25,990\n",
       "3   Lenovo IdeaPad Slim 3 Intel Celeron N4020 15.6...         ₹29,980\n",
       "4   Lenovo IdeaPad Slim 1 Intel Celeron N4020 11.6...         ₹21,789\n",
       "5   ASUS ZenBook 14 (2020) Intel Core i5-1135G7 11...         ₹36,990\n",
       "6   HP 14 10th Gen Intel Core i5-10210U 14 inches ...         ₹40,990\n",
       "7   HP Envy x360 13-ay0078AU 13.3 inches Laptop (3...         ₹29,490\n",
       "8                                                             ₹39,990\n",
       "9   ASUS VivoBook 14 (2021), 14-inch (35.56 cm) HD...                \n",
       "10  ASUS VivoBook 14 (2021), 14-inch (35.56 cm) HD...         ₹59,490"
      ]
     },
     "execution_count": 43,
     "metadata": {},
     "output_type": "execute_result"
    }
   ],
   "source": [
    "df=pd.DataFrame({'Title':Title,'Rating':Rating,'Price':Price})\n",
    "df"
   ]
  },
  {
   "cell_type": "markdown",
   "id": "511b4e10",
   "metadata": {},
   "source": [
    "9"
   ]
  },
  {
   "cell_type": "code",
   "execution_count": 15,
   "id": "9e5bc93b",
   "metadata": {},
   "outputs": [],
   "source": [
    "driver=webdriver.Chrome(r'chromedriver.exe')"
   ]
  },
  {
   "cell_type": "code",
   "execution_count": 16,
   "id": "6f538caf",
   "metadata": {},
   "outputs": [],
   "source": [
    "driver.get('https://www.ambitionbox.com/')"
   ]
  },
  {
   "cell_type": "code",
   "execution_count": 17,
   "id": "748c047d",
   "metadata": {},
   "outputs": [],
   "source": [
    "job=driver.find_element(By.XPATH,'/html/body/div[1]/nav[2]/div/ul/li[5]/a')\n",
    "job.click()"
   ]
  },
  {
   "cell_type": "code",
   "execution_count": 18,
   "id": "619c69cb",
   "metadata": {},
   "outputs": [],
   "source": [
    "Designation=driver.find_element(By.XPATH,'/html/body/div/div/div/div[2]/div[1]/div[1]/div/div/div/div/span/input')\n",
    "Designation.send_keys('Data Scientist')"
   ]
  },
  {
   "cell_type": "code",
   "execution_count": 19,
   "id": "aba3e42e",
   "metadata": {},
   "outputs": [],
   "source": [
    "search=driver.find_element(By.XPATH,'/html/body/div/div/div/div[2]/div[1]/div[1]/div/div/div/button')\n",
    "search.click()"
   ]
  },
  {
   "cell_type": "code",
   "execution_count": 21,
   "id": "8fe7ed6a",
   "metadata": {},
   "outputs": [],
   "source": [
    "location=driver.find_element(By.XPATH,'/html/body/div/div/div/div[2]/div[1]/div[2]/div[1]/div/div/div/div[2]/div[1]/p')\n",
    "location.click()"
   ]
  },
  {
   "cell_type": "code",
   "execution_count": 22,
   "id": "267e4258",
   "metadata": {},
   "outputs": [],
   "source": [
    "noida=driver.find_element(By.XPATH,'/html/body/div/div/div/div[2]/div[1]/div[2]/div[1]/div/div/div/div[2]/div[2]/div/div[2]/input')\n",
    "noida.send_keys('Noida')"
   ]
  },
  {
   "cell_type": "code",
   "execution_count": 23,
   "id": "3447cd9c",
   "metadata": {},
   "outputs": [],
   "source": [
    "GN=driver.find_element(By.XPATH,'/html/body/div/div/div/div[2]/div[1]/div[2]/div[1]/div/div/div/div[2]/div[2]/div/div[3]/div[1]/div[1]/div/label')\n",
    "GN.click()"
   ]
  },
  {
   "cell_type": "code",
   "execution_count": 24,
   "id": "8e82b89f",
   "metadata": {},
   "outputs": [
    {
     "data": {
      "text/plain": [
       "['CBRE South Asia Pvt Ltd',\n",
       " 'Ericsson India Global Services Pvt. Ltd.',\n",
       " 'GENPACT India Private Limited',\n",
       " 'Optum Global Solutions (India) Private Limited',\n",
       " 'Optum Global Solutions (India) Private Limited',\n",
       " 'Optum Global Solutions (India) Private Limited',\n",
       " 'Ericsson India Global Services Pvt. Ltd.',\n",
       " 'SOPRA STERIA INDIA LIMITED',\n",
       " 'EXL Services.com ( I ) Pvt. Ltd.',\n",
       " 'EY']"
      ]
     },
     "execution_count": 24,
     "metadata": {},
     "output_type": "execute_result"
    }
   ],
   "source": [
    "Company_Name=[]\n",
    "for i in driver.find_elements(By.XPATH,'//p[@class=\"company body-medium\"]'):\n",
    "    Company_Name.append(i.text)\n",
    "Company_Name"
   ]
  },
  {
   "cell_type": "code",
   "execution_count": 55,
   "id": "927ffc7d",
   "metadata": {},
   "outputs": [
    {
     "data": {
      "text/plain": [
       "['4hr ago',\n",
       " '10d ago',\n",
       " '3d ago',\n",
       " '6d ago',\n",
       " '7d ago',\n",
       " '8d ago',\n",
       " '20d ago',\n",
       " '9d ago',\n",
       " '9d ago',\n",
       " '19d ago']"
      ]
     },
     "execution_count": 55,
     "metadata": {},
     "output_type": "execute_result"
    }
   ],
   "source": [
    "b=[]\n",
    "a=driver.find_elements(By.XPATH,'//span[@class=\"body-small-l\"]')\n",
    "for i in a :\n",
    "    b.append(i.text)  \n",
    "T=[s for s in b if s != 'via naukri.com']\n",
    "Time=T[0:10]\n",
    "Time"
   ]
  },
  {
   "cell_type": "code",
   "execution_count": 26,
   "id": "bfbbae40",
   "metadata": {},
   "outputs": [
    {
     "data": {
      "text/plain": [
       "['4.3', '4.3', '4.0', '4.1', '4.1', '4.1', '4.3', '4.2', '3.9', '3.8']"
      ]
     },
     "execution_count": 26,
     "metadata": {},
     "output_type": "execute_result"
    }
   ],
   "source": [
    "Rating=[]\n",
    "for i in driver.find_elements(By.XPATH,'//span[@class=\"body-small\"]'):\n",
    "    Rating.append(i.text)\n",
    "Rating"
   ]
  },
  {
   "cell_type": "code",
   "execution_count": 107,
   "id": "6d0a061b",
   "metadata": {},
   "outputs": [
    {
     "name": "stdout",
     "output_type": "stream",
     "text": [
      "10 20 10\n"
     ]
    }
   ],
   "source": [
    "print(len(Company_Name),len(Time),len(Rating))"
   ]
  },
  {
   "cell_type": "code",
   "execution_count": 56,
   "id": "261f835f",
   "metadata": {},
   "outputs": [
    {
     "data": {
      "text/html": [
       "<div>\n",
       "<style scoped>\n",
       "    .dataframe tbody tr th:only-of-type {\n",
       "        vertical-align: middle;\n",
       "    }\n",
       "\n",
       "    .dataframe tbody tr th {\n",
       "        vertical-align: top;\n",
       "    }\n",
       "\n",
       "    .dataframe thead th {\n",
       "        text-align: right;\n",
       "    }\n",
       "</style>\n",
       "<table border=\"1\" class=\"dataframe\">\n",
       "  <thead>\n",
       "    <tr style=\"text-align: right;\">\n",
       "      <th></th>\n",
       "      <th>Company_Name</th>\n",
       "      <th>Time</th>\n",
       "      <th>Rating</th>\n",
       "    </tr>\n",
       "  </thead>\n",
       "  <tbody>\n",
       "    <tr>\n",
       "      <th>0</th>\n",
       "      <td>CBRE South Asia Pvt Ltd</td>\n",
       "      <td>4hr ago</td>\n",
       "      <td>4.3</td>\n",
       "    </tr>\n",
       "    <tr>\n",
       "      <th>1</th>\n",
       "      <td>Ericsson India Global Services Pvt. Ltd.</td>\n",
       "      <td>10d ago</td>\n",
       "      <td>4.3</td>\n",
       "    </tr>\n",
       "    <tr>\n",
       "      <th>2</th>\n",
       "      <td>GENPACT India Private Limited</td>\n",
       "      <td>3d ago</td>\n",
       "      <td>4.0</td>\n",
       "    </tr>\n",
       "    <tr>\n",
       "      <th>3</th>\n",
       "      <td>Optum Global Solutions (India) Private Limited</td>\n",
       "      <td>6d ago</td>\n",
       "      <td>4.1</td>\n",
       "    </tr>\n",
       "    <tr>\n",
       "      <th>4</th>\n",
       "      <td>Optum Global Solutions (India) Private Limited</td>\n",
       "      <td>7d ago</td>\n",
       "      <td>4.1</td>\n",
       "    </tr>\n",
       "    <tr>\n",
       "      <th>5</th>\n",
       "      <td>Optum Global Solutions (India) Private Limited</td>\n",
       "      <td>8d ago</td>\n",
       "      <td>4.1</td>\n",
       "    </tr>\n",
       "    <tr>\n",
       "      <th>6</th>\n",
       "      <td>Ericsson India Global Services Pvt. Ltd.</td>\n",
       "      <td>20d ago</td>\n",
       "      <td>4.3</td>\n",
       "    </tr>\n",
       "    <tr>\n",
       "      <th>7</th>\n",
       "      <td>SOPRA STERIA INDIA LIMITED</td>\n",
       "      <td>9d ago</td>\n",
       "      <td>4.2</td>\n",
       "    </tr>\n",
       "    <tr>\n",
       "      <th>8</th>\n",
       "      <td>EXL Services.com ( I ) Pvt. Ltd.</td>\n",
       "      <td>9d ago</td>\n",
       "      <td>3.9</td>\n",
       "    </tr>\n",
       "    <tr>\n",
       "      <th>9</th>\n",
       "      <td>EY</td>\n",
       "      <td>19d ago</td>\n",
       "      <td>3.8</td>\n",
       "    </tr>\n",
       "  </tbody>\n",
       "</table>\n",
       "</div>"
      ],
      "text/plain": [
       "                                     Company_Name     Time Rating\n",
       "0                         CBRE South Asia Pvt Ltd  4hr ago    4.3\n",
       "1        Ericsson India Global Services Pvt. Ltd.  10d ago    4.3\n",
       "2                   GENPACT India Private Limited   3d ago    4.0\n",
       "3  Optum Global Solutions (India) Private Limited   6d ago    4.1\n",
       "4  Optum Global Solutions (India) Private Limited   7d ago    4.1\n",
       "5  Optum Global Solutions (India) Private Limited   8d ago    4.1\n",
       "6        Ericsson India Global Services Pvt. Ltd.  20d ago    4.3\n",
       "7                      SOPRA STERIA INDIA LIMITED   9d ago    4.2\n",
       "8                EXL Services.com ( I ) Pvt. Ltd.   9d ago    3.9\n",
       "9                                              EY  19d ago    3.8"
      ]
     },
     "execution_count": 56,
     "metadata": {},
     "output_type": "execute_result"
    }
   ],
   "source": [
    "df=pd.DataFrame({'Company_Name':Company_Name,'Time':Time,'Rating':Rating})\n",
    "df"
   ]
  },
  {
   "cell_type": "markdown",
   "id": "61a32e06",
   "metadata": {},
   "source": [
    "10"
   ]
  },
  {
   "cell_type": "code",
   "execution_count": 190,
   "id": "38241752",
   "metadata": {},
   "outputs": [],
   "source": [
    "driver=webdriver.Chrome(r'chromedriver.exe')"
   ]
  },
  {
   "cell_type": "code",
   "execution_count": 191,
   "id": "fa6994d7",
   "metadata": {},
   "outputs": [],
   "source": [
    "driver.get('https://www.ambitionbox.com/')"
   ]
  },
  {
   "cell_type": "code",
   "execution_count": 193,
   "id": "7de90545",
   "metadata": {},
   "outputs": [],
   "source": [
    "Salary=driver.find_element(By.XPATH,'/html/body/div[1]/nav[2]/div/ul/li[3]')\n",
    "Salary.click()"
   ]
  },
  {
   "cell_type": "code",
   "execution_count": 194,
   "id": "91e772a6",
   "metadata": {},
   "outputs": [],
   "source": [
    "Browse_Salary=driver.find_element(By.XPATH,'/html/body/div[1]/nav[2]/div/ul/li[3]/div/ul/li[1]/div/div[2]/a')\n",
    "Browse_Salary.click()"
   ]
  },
  {
   "cell_type": "code",
   "execution_count": 209,
   "id": "a52103f5",
   "metadata": {},
   "outputs": [],
   "source": [
    "Designation=driver.find_element(By.XPATH,'/html/body/div/div/div/main/section[1]/div[2]/div[1]/span/input')\n",
    "Designation.send_keys('Data Scientist')"
   ]
  },
  {
   "cell_type": "code",
   "execution_count": 210,
   "id": "75c641ee",
   "metadata": {},
   "outputs": [],
   "source": [
    "DS=driver.find_element(By.XPATH,'/html/body/div/div/div/main/section[1]/div[2]/div[1]/span/div/div/div[1]/div/div/p')\n",
    "DS.click()"
   ]
  },
  {
   "cell_type": "code",
   "execution_count": 214,
   "id": "ae5bc925",
   "metadata": {},
   "outputs": [
    {
     "data": {
      "text/plain": [
       "['Walmart',\n",
       " 'Ab Inbev',\n",
       " 'Optum',\n",
       " 'ZS',\n",
       " 'Fractal Analytics',\n",
       " 'Tiger Analytics',\n",
       " 'Legato Health Technologies',\n",
       " 'Tredence',\n",
       " 'UnitedHealth',\n",
       " 'Reliance Jio']"
      ]
     },
     "execution_count": 214,
     "metadata": {},
     "output_type": "execute_result"
    }
   ],
   "source": [
    "Company=[]\n",
    "for i in driver.find_elements(By.XPATH,'//div[@class=\"company-info\"]')[0:10]:\n",
    "    Company.append(i.text.split('\\n')[0])\n",
    "Company"
   ]
  },
  {
   "cell_type": "code",
   "execution_count": 231,
   "id": "71325d85",
   "metadata": {},
   "outputs": [
    {
     "data": {
      "text/plain": [
       "['(based on 22 salaries)',\n",
       " '(based on 50 salaries)',\n",
       " '(based on 48 salaries)',\n",
       " '(based on 32 salaries)',\n",
       " '(based on 105 salaries)',\n",
       " '(based on 60 salaries)',\n",
       " '(based on 11 salaries)',\n",
       " '(based on 10 salaries)',\n",
       " '(based on 90 salaries)',\n",
       " '(based on 45 salaries)']"
      ]
     },
     "execution_count": 231,
     "metadata": {},
     "output_type": "execute_result"
    }
   ],
   "source": [
    "Salary_Record=[]\n",
    "for i in driver.find_elements(By.XPATH,'//span[@class=\"datapoints\"]')[0:10]:\n",
    "    Salary_Record.append(i.text)\n",
    "Salary_Record"
   ]
  },
  {
   "cell_type": "code",
   "execution_count": 224,
   "id": "61cff247",
   "metadata": {},
   "outputs": [
    {
     "data": {
      "text/plain": [
       "['₹ 25.0L',\n",
       " '₹ 15.0L',\n",
       " '₹ 11.0L',\n",
       " '₹ 11.0L',\n",
       " '₹ 9.0L',\n",
       " '₹ 9.0L',\n",
       " '₹ 11.0L',\n",
       " '₹ 8.8L',\n",
       " '₹ 8.0L',\n",
       " '₹ 6.0L']"
      ]
     },
     "execution_count": 224,
     "metadata": {},
     "output_type": "execute_result"
    }
   ],
   "source": [
    "Min_Salary=[]\n",
    "for i in driver.find_elements(By.XPATH,'//div[@class=\"salary-values\"]'):\n",
    "    Min_Salary.append(i.text.split('\\n')[0])\n",
    "Min_Salary"
   ]
  },
  {
   "cell_type": "code",
   "execution_count": 219,
   "id": "8e25c155",
   "metadata": {},
   "outputs": [
    {
     "data": {
      "text/plain": [
       "['₹ 31.7L',\n",
       " '₹ 19.7L',\n",
       " '₹ 16.5L',\n",
       " '₹ 15.7L',\n",
       " '₹ 15.1L',\n",
       " '₹ 14.6L',\n",
       " '₹ 14.6L',\n",
       " '₹ 13.9L',\n",
       " '₹ 13.7L',\n",
       " '₹ 13.6L']"
      ]
     },
     "execution_count": 219,
     "metadata": {},
     "output_type": "execute_result"
    }
   ],
   "source": [
    "Avg_Salary=[]\n",
    "for i in driver.find_elements(By.XPATH,'//p[@class=\"averageCtc\"]'):\n",
    "    Avg_Salary.append(i.text)\n",
    "Avg_Salary"
   ]
  },
  {
   "cell_type": "code",
   "execution_count": 225,
   "id": "52af506a",
   "metadata": {},
   "outputs": [
    {
     "data": {
      "text/plain": [
       "['₹ 45.0L',\n",
       " '₹ 25.5L',\n",
       " '₹ 22.6L',\n",
       " '₹ 22.0L',\n",
       " '₹ 23.0L',\n",
       " '₹ 20.0L',\n",
       " '₹ 20.0L',\n",
       " '₹ 17.5L',\n",
       " '₹ 20.5L',\n",
       " '₹ 26.2L']"
      ]
     },
     "execution_count": 225,
     "metadata": {},
     "output_type": "execute_result"
    }
   ],
   "source": [
    "Max_Salary=[]\n",
    "for i in driver.find_elements(By.XPATH,'//div[@class=\"salary-values\"]'):\n",
    "    Max_Salary.append(i.text.split('\\n')[1])\n",
    "Max_Salary"
   ]
  },
  {
   "cell_type": "code",
   "execution_count": 245,
   "id": "13f0bd3a",
   "metadata": {},
   "outputs": [
    {
     "data": {
      "text/plain": [
       "[['3-4', 'yrs'],\n",
       " ['2-4', 'yrs'],\n",
       " ['2-4', 'yrs'],\n",
       " ['1-2', 'yrs'],\n",
       " ['2-4', 'yrs'],\n",
       " ['2-4', 'yrs'],\n",
       " ['4', 'yrs'],\n",
       " ['3', 'yrs'],\n",
       " ['2-4', 'yrs'],\n",
       " ['1-4', 'yrs']]"
      ]
     },
     "execution_count": 245,
     "metadata": {},
     "output_type": "execute_result"
    }
   ],
   "source": [
    "Experience=[]\n",
    "for i in driver.find_elements(By.XPATH,'//div[@class=\"sbold-list-header\"]')[0:10]:\n",
    "    Experience.append(i.text.split()[0:2])\n",
    "Experience"
   ]
  },
  {
   "cell_type": "code",
   "execution_count": 243,
   "id": "d45d66d3",
   "metadata": {},
   "outputs": [
    {
     "data": {
      "text/html": [
       "<div>\n",
       "<style scoped>\n",
       "    .dataframe tbody tr th:only-of-type {\n",
       "        vertical-align: middle;\n",
       "    }\n",
       "\n",
       "    .dataframe tbody tr th {\n",
       "        vertical-align: top;\n",
       "    }\n",
       "\n",
       "    .dataframe thead th {\n",
       "        text-align: right;\n",
       "    }\n",
       "</style>\n",
       "<table border=\"1\" class=\"dataframe\">\n",
       "  <thead>\n",
       "    <tr style=\"text-align: right;\">\n",
       "      <th></th>\n",
       "      <th>Company</th>\n",
       "      <th>Min_Salary</th>\n",
       "      <th>Avg_Salary</th>\n",
       "      <th>Max_Salary</th>\n",
       "      <th>Experience</th>\n",
       "    </tr>\n",
       "  </thead>\n",
       "  <tbody>\n",
       "    <tr>\n",
       "      <th>0</th>\n",
       "      <td>Walmart</td>\n",
       "      <td>₹ 25.0L</td>\n",
       "      <td>₹ 31.7L</td>\n",
       "      <td>₹ 45.0L</td>\n",
       "      <td>[3-4, yrs]</td>\n",
       "    </tr>\n",
       "    <tr>\n",
       "      <th>1</th>\n",
       "      <td>Ab Inbev</td>\n",
       "      <td>₹ 15.0L</td>\n",
       "      <td>₹ 19.7L</td>\n",
       "      <td>₹ 25.5L</td>\n",
       "      <td>[2-4, yrs]</td>\n",
       "    </tr>\n",
       "    <tr>\n",
       "      <th>2</th>\n",
       "      <td>Optum</td>\n",
       "      <td>₹ 11.0L</td>\n",
       "      <td>₹ 16.5L</td>\n",
       "      <td>₹ 22.6L</td>\n",
       "      <td>[2-4, yrs]</td>\n",
       "    </tr>\n",
       "    <tr>\n",
       "      <th>3</th>\n",
       "      <td>ZS</td>\n",
       "      <td>₹ 11.0L</td>\n",
       "      <td>₹ 15.7L</td>\n",
       "      <td>₹ 22.0L</td>\n",
       "      <td>[1-2, yrs]</td>\n",
       "    </tr>\n",
       "    <tr>\n",
       "      <th>4</th>\n",
       "      <td>Fractal Analytics</td>\n",
       "      <td>₹ 9.0L</td>\n",
       "      <td>₹ 15.1L</td>\n",
       "      <td>₹ 23.0L</td>\n",
       "      <td>[2-4, yrs]</td>\n",
       "    </tr>\n",
       "    <tr>\n",
       "      <th>5</th>\n",
       "      <td>Tiger Analytics</td>\n",
       "      <td>₹ 9.0L</td>\n",
       "      <td>₹ 14.6L</td>\n",
       "      <td>₹ 20.0L</td>\n",
       "      <td>[2-4, yrs]</td>\n",
       "    </tr>\n",
       "    <tr>\n",
       "      <th>6</th>\n",
       "      <td>Legato Health Technologies</td>\n",
       "      <td>₹ 11.0L</td>\n",
       "      <td>₹ 14.6L</td>\n",
       "      <td>₹ 20.0L</td>\n",
       "      <td>[4, yrs]</td>\n",
       "    </tr>\n",
       "    <tr>\n",
       "      <th>7</th>\n",
       "      <td>Tredence</td>\n",
       "      <td>₹ 8.8L</td>\n",
       "      <td>₹ 13.9L</td>\n",
       "      <td>₹ 17.5L</td>\n",
       "      <td>[3, yrs]</td>\n",
       "    </tr>\n",
       "    <tr>\n",
       "      <th>8</th>\n",
       "      <td>UnitedHealth</td>\n",
       "      <td>₹ 8.0L</td>\n",
       "      <td>₹ 13.7L</td>\n",
       "      <td>₹ 20.5L</td>\n",
       "      <td>[2-4, yrs]</td>\n",
       "    </tr>\n",
       "    <tr>\n",
       "      <th>9</th>\n",
       "      <td>Reliance Jio</td>\n",
       "      <td>₹ 6.0L</td>\n",
       "      <td>₹ 13.6L</td>\n",
       "      <td>₹ 26.2L</td>\n",
       "      <td>[1-4, yrs]</td>\n",
       "    </tr>\n",
       "  </tbody>\n",
       "</table>\n",
       "</div>"
      ],
      "text/plain": [
       "                      Company Min_Salary Avg_Salary Max_Salary  Experience\n",
       "0                     Walmart    ₹ 25.0L    ₹ 31.7L    ₹ 45.0L  [3-4, yrs]\n",
       "1                    Ab Inbev    ₹ 15.0L    ₹ 19.7L    ₹ 25.5L  [2-4, yrs]\n",
       "2                       Optum    ₹ 11.0L    ₹ 16.5L    ₹ 22.6L  [2-4, yrs]\n",
       "3                          ZS    ₹ 11.0L    ₹ 15.7L    ₹ 22.0L  [1-2, yrs]\n",
       "4           Fractal Analytics     ₹ 9.0L    ₹ 15.1L    ₹ 23.0L  [2-4, yrs]\n",
       "5             Tiger Analytics     ₹ 9.0L    ₹ 14.6L    ₹ 20.0L  [2-4, yrs]\n",
       "6  Legato Health Technologies    ₹ 11.0L    ₹ 14.6L    ₹ 20.0L    [4, yrs]\n",
       "7                    Tredence     ₹ 8.8L    ₹ 13.9L    ₹ 17.5L    [3, yrs]\n",
       "8                UnitedHealth     ₹ 8.0L    ₹ 13.7L    ₹ 20.5L  [2-4, yrs]\n",
       "9                Reliance Jio     ₹ 6.0L    ₹ 13.6L    ₹ 26.2L  [1-4, yrs]"
      ]
     },
     "execution_count": 243,
     "metadata": {},
     "output_type": "execute_result"
    }
   ],
   "source": [
    "df=df=pd.DataFrame({'Company':Company,'Min_Salary':Min_Salary,'Avg_Salary':Avg_Salary,'Max_Salary':Max_Salary,'Experience':Experience})\n",
    "df"
   ]
  }
 ],
 "metadata": {
  "kernelspec": {
   "display_name": "Python 3 (ipykernel)",
   "language": "python",
   "name": "python3"
  },
  "language_info": {
   "codemirror_mode": {
    "name": "ipython",
    "version": 3
   },
   "file_extension": ".py",
   "mimetype": "text/x-python",
   "name": "python",
   "nbconvert_exporter": "python",
   "pygments_lexer": "ipython3",
   "version": "3.9.7"
  }
 },
 "nbformat": 4,
 "nbformat_minor": 5
}
